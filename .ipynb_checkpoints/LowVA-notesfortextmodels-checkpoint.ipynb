{
 "cells": [
  {
   "cell_type": "code",
   "execution_count": null,
   "metadata": {},
   "outputs": [],
   "source": [
    "import pandas as pd\n",
    "import re \n",
    "import sqlite3\n",
    "import numpy as np\n",
    "import ast\n",
    "import sklearn \n",
    "import math \n",
    "\n",
    "from IPython.core.interactiveshell import InteractiveShell\n",
    "InteractiveShell.ast_node_interactivity = \"all\""
   ]
  },
  {
   "cell_type": "markdown",
   "metadata": {},
   "source": [
    "this notebook preprocesses notes for neural word embeddings text models "
   ]
  },
  {
   "cell_type": "code",
   "execution_count": null,
   "metadata": {},
   "outputs": [],
   "source": [
    "conn = sqlite3.connect('lowva\\lowva.db')\n",
    "conn.text_factory = str\n",
    "cur = conn.cursor()"
   ]
  },
  {
   "cell_type": "markdown",
   "metadata": {},
   "source": [
    "# Concatenates notes to run through TextCNN with neural word embeddings"
   ]
  },
  {
   "cell_type": "code",
   "execution_count": null,
   "metadata": {},
   "outputs": [],
   "source": [
    "dfcohort=pd.read_sql_query('''select pat_deid, lowvadate, outcome from outcome''', conn)\n",
    "dfcohort[\"lowvadate\"]=pd.to_datetime(dfcohort[\"lowvadate\"])\n",
    "dfcohort.head()"
   ]
  },
  {
   "cell_type": "code",
   "execution_count": null,
   "metadata": {},
   "outputs": [],
   "source": [
    "dfcohort[dfcohort[\"pat_deid\"]==3840966]"
   ]
  },
  {
   "cell_type": "code",
   "execution_count": null,
   "metadata": {},
   "outputs": [],
   "source": [
    "dfnotes=pd.read_sql_query('''select * from notes''', conn) \n",
    "dfnotes[\"enc_date\"]=pd.to_datetime(dfnotes[\"enc_date\"])\n",
    "dfnotes.head()\n",
    "len(dfnotes)"
   ]
  },
  {
   "cell_type": "code",
   "execution_count": null,
   "metadata": {},
   "outputs": [],
   "source": [
    "#sort notes in backwards order \n",
    "dfnotes.sort_values(by=[\"pat_deid\", \"enc_date\", \"note_deid\"], ascending=False, inplace=True) \n",
    "dfnotes"
   ]
  },
  {
   "cell_type": "code",
   "execution_count": null,
   "metadata": {},
   "outputs": [],
   "source": [
    "#drop missing notes \n",
    "dfnotes=dfnotes[~dfnotes[\"note\"].isnull()]"
   ]
  },
  {
   "cell_type": "code",
   "execution_count": null,
   "metadata": {},
   "outputs": [],
   "source": [
    "#concatenate notes \n",
    "dfnotesconcat=dfnotes.groupby(['pat_deid'])['note'].apply(lambda x: '\\n'.join(x)).reset_index()"
   ]
  },
  {
   "cell_type": "code",
   "execution_count": null,
   "metadata": {},
   "outputs": [],
   "source": [
    "dfnotesconcat"
   ]
  },
  {
   "cell_type": "code",
   "execution_count": null,
   "metadata": {},
   "outputs": [],
   "source": [
    "cohortnotes=pd.merge(dfcohort[[\"pat_deid\", \"outcome\"]], dfnotesconcat, on=\"pat_deid\", how=\"inner\")"
   ]
  },
  {
   "cell_type": "code",
   "execution_count": null,
   "metadata": {},
   "outputs": [],
   "source": [
    "cohortnotes.to_csv(\"lowva-notesconcat.csv\",index=False)"
   ]
  },
  {
   "cell_type": "code",
   "execution_count": null,
   "metadata": {},
   "outputs": [],
   "source": [
    "conn.close()"
   ]
  }
 ],
 "metadata": {
  "kernelspec": {
   "display_name": "Python 3",
   "language": "python",
   "name": "python3"
  },
  "language_info": {
   "codemirror_mode": {
    "name": "ipython",
    "version": 3
   },
   "file_extension": ".py",
   "mimetype": "text/x-python",
   "name": "python",
   "nbconvert_exporter": "python",
   "pygments_lexer": "ipython3",
   "version": "3.6.12"
  }
 },
 "nbformat": 4,
 "nbformat_minor": 2
}
