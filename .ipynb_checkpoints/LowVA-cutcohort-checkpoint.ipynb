{
 "cells": [
  {
   "cell_type": "code",
   "execution_count": null,
   "metadata": {},
   "outputs": [],
   "source": [
    "import pandas as pd\n",
    "import re \n",
    "import sqlite3\n",
    "import numpy as np\n",
    "import ast\n",
    "import sklearn \n",
    "import math \n",
    "\n",
    "from IPython.core.interactiveshell import InteractiveShell\n",
    "InteractiveShell.ast_node_interactivity = \"all\""
   ]
  },
  {
   "cell_type": "code",
   "execution_count": null,
   "metadata": {},
   "outputs": [],
   "source": [
    "conn = sqlite3.connect('dbstridefull.db')\n",
    "conn.text_factory = str\n",
    "cur = conn.cursor()"
   ]
  },
  {
   "cell_type": "markdown",
   "metadata": {},
   "source": [
    "# Find Low Vision Patients, and Define Outcome"
   ]
  },
  {
   "cell_type": "code",
   "execution_count": null,
   "metadata": {},
   "outputs": [],
   "source": [
    "dfexam=pd.read_sql_query('''select pat_deid, DATE_OF_SERVICE, \n",
    "vaoddistcc, vaoddistsc, vaoddistccph, vaoddistscph, vaosdistcc, vaosdistsc, vaosdistccph, vaosdistscph \n",
    "from examfield, examparsed \n",
    "where examfield.smartformid = examparsed.smartformid \n",
    "and not (vaoddistcc is null and vaoddistsc is null and vaosdistcc is null and vaosdistsc is null)\n",
    "            order by pat_deid \n",
    "''', conn) \n",
    "dfexam.columns = map(str.lower, dfexam.columns)\n",
    "dfexam[\"exam_date\"]=pd.to_datetime(dfexam[\"date_of_service\"])\n",
    "del dfexam[\"date_of_service\"]\n",
    "len(dfexam)\n",
    "dfexam.head()"
   ]
  },
  {
   "cell_type": "code",
   "execution_count": null,
   "metadata": {},
   "outputs": [],
   "source": [
    "def logmarconversion(va): \n",
    "    #takes a string input in the form of \"20/20\", or \"cf\" \"hm\" etc and spits out a logmar \n",
    "    if len(re.findall('(?i)cf', va))>0: \n",
    "        logmarva=-np.log10(.0025)\n",
    "    elif len(re.findall('(?i)hm', va))>0: \n",
    "        logmarva=-np.log10(.002)\n",
    "    elif len(re.findall('(?i)nlp', va))>0:\n",
    "        logmarva=-np.log10(0.0013)\n",
    "    elif len(re.findall('(?i)lp', va))>0: \n",
    "        logmarva=-np.log10(0.0016)\n",
    "    elif len(re.findall('(?i)20/1600', va))>0: \n",
    "        logmarva=-np.log10(20/1600)\n",
    "    elif len(re.findall('(?i)20/1250', va))>0: \n",
    "        logmarva=-np.log10(20/1250)\n",
    "    elif len(re.findall('(?i)20/1000', va))>0: \n",
    "        logmarva=-np.log10(20/1000)\n",
    "    elif len(re.findall('(?i)20/800', va))>0: \n",
    "        logmarva=-np.log10(20/800)\n",
    "    elif len(re.findall('(?i)20/650', va))>0: \n",
    "        logmarva=-np.log10(20/650)\n",
    "    elif len(re.findall('(?i)20/500', va))>0: \n",
    "        logmarva=-np.log10(20/500)\n",
    "    elif len(re.findall('(?i)20/400', va))>0: \n",
    "        logmarva=-np.log10(20/400)\n",
    "    elif len(re.findall('(?i)20/350', va))>0: \n",
    "        logmarva=-np.log10(20/350)\n",
    "    elif len(re.findall('(?i)20/300', va))>0: \n",
    "        logmarva=-np.log10(20/300)\n",
    "    elif len(re.findall('(?i)20/250', va))>0: \n",
    "        logmarva=-np.log10(20/250)\n",
    "    elif len(re.findall('(?i)20/225', va))>0: \n",
    "        logmarva=-np.log10(20/225)\n",
    "    elif len(re.findall('(?i)20/200', va))>0: \n",
    "        logmarva=-np.log10(20/200)\n",
    "    elif len(re.findall('(?i)20/160', va))>0: \n",
    "        logmarva=-np.log10(20/160)\n",
    "    elif len(re.findall('(?i)20/150', va))>0: \n",
    "        logmarva=-np.log10(20/150)\n",
    "    elif len(re.findall('(?i)20/125', va))>0: \n",
    "        logmarva=-np.log10(20/125)\n",
    "    elif len(re.findall('(?i)20/120', va))>0: \n",
    "        logmarva=-np.log10(20/120)\n",
    "    elif len(re.findall('(?i)20/100', va))>0: \n",
    "        logmarva=-np.log10(20/100)\n",
    "    elif len(re.findall('(?i)20/80', va))>0: \n",
    "        logmarva=-np.log10(20/80)\n",
    "    elif len(re.findall('(?i)20/70', va))>0: \n",
    "        logmarva=-np.log10(20/70)\n",
    "    elif len(re.findall('(?i)20/63', va))>0: \n",
    "        logmarva=-np.log10(20/63)\n",
    "    elif len(re.findall('(?i)20/60', va))>0: \n",
    "        logmarva=-np.log10(20/60)\n",
    "    elif len(re.findall('(?i)20/50', va))>0: \n",
    "        logmarva=-np.log10(20/50)\n",
    "    elif len(re.findall('(?i)20/40', va))>0: \n",
    "        logmarva=-np.log10(20/40)\n",
    "    elif len(re.findall('(?i)20/32', va))>0: \n",
    "        logmarva=-np.log10(20/32)\n",
    "    elif len(re.findall('(?i)20/30', va))>0: \n",
    "        logmarva=-np.log10(20/30)\n",
    "    elif len(re.findall('(?i)20/25', va))>0: \n",
    "        logmarva=-np.log10(20/25)\n",
    "    elif len(re.findall('(?i)20/20', va))>0: \n",
    "        logmarva=-np.log10(20/20)\n",
    "    elif len(re.findall('(?i)20/16', va))>0: \n",
    "        logmarva=-np.log10(20/16)\n",
    "    elif len(re.findall('(?i)20/15', va))>0: \n",
    "        logmarva=-np.log10(20/15)\n",
    "    elif len(re.findall('(?i)20/10', va))>0: \n",
    "        logmarva=-np.log10(20/10)\n",
    "        \n",
    "    else: logmarva=np.nan \n",
    "    return logmarva \n",
    "\n",
    "#now write a function which will take several va inputs and output the bcva logmar \n",
    "def bcvalogmar(vadistsc, vadistcc, vadistscph, vadistccph): \n",
    "    valist=list(filter(None.__ne__, [vadistsc, vadistcc, vadistscph, vadistccph])) #filter's out whichever are None\n",
    "    logmarlist=[] \n",
    "    for va in valist: \n",
    "        if np.isnan(logmarconversion(va)) == False: \n",
    "            logmarlist.append(logmarconversion(va)) \n",
    "    try: bcvalogmar=min(logmarlist)\n",
    "    except ValueError: bcvalogmar=np.nan #if no va's were recorded and all None input then this is an empty list with no minum\n",
    "    return bcvalogmar "
   ]
  },
  {
   "cell_type": "code",
   "execution_count": null,
   "metadata": {},
   "outputs": [],
   "source": [
    "dfva=dfexam\n",
    "dfva[\"bcvalogmarod\"]=dfva[[\"vaoddistsc\", \"vaoddistcc\", \"vaoddistscph\", \"vaoddistccph\"]].apply(lambda x: bcvalogmar(*x), axis=1)\n",
    "dfva[\"bcvalogmaros\"]=dfva[[\"vaosdistsc\", \"vaosdistcc\", \"vaosdistscph\", \"vaosdistccph\"]].apply(lambda x: bcvalogmar(*x), axis=1)"
   ]
  },
  {
   "cell_type": "code",
   "execution_count": null,
   "metadata": {},
   "outputs": [],
   "source": [
    "#there are some cases wehre vision was measured only in one eye. In this case we should do a last values carried forward for the patient \n",
    "dfva.sort_values([\"pat_deid\", \"exam_date\"], inplace=True)"
   ]
  },
  {
   "cell_type": "code",
   "execution_count": null,
   "metadata": {},
   "outputs": [],
   "source": [
    "dfva[\"bcvalogmarod\"]=dfva[[\"pat_deid\",\"bcvalogmarod\"]].groupby([\"pat_deid\"]).ffill()[\"bcvalogmarod\"]\n",
    "dfva[\"bcvalogmaros\"]=dfva[[\"pat_deid\",\"bcvalogmaros\"]].groupby([\"pat_deid\"]).ffill()[\"bcvalogmaros\"]"
   ]
  },
  {
   "cell_type": "code",
   "execution_count": null,
   "metadata": {},
   "outputs": [],
   "source": [
    "dfva.head(20)"
   ]
  },
  {
   "cell_type": "code",
   "execution_count": null,
   "metadata": {},
   "outputs": [],
   "source": [
    "def bcva(bcvalogmarod, bcvalogmaros): \n",
    "    if np.isnan(bcvalogmaros) == True: \n",
    "        return bcvalogmarod\n",
    "    if np.isnan(bcvalogmarod) == True: \n",
    "        return bcvalogmaros\n",
    "    if bcvalogmarod <= bcvalogmaros: \n",
    "            return bcvalogmarod \n",
    "    else: \n",
    "        return bcvalogmaros \n",
    "bcva(0.1, 0.2)"
   ]
  },
  {
   "cell_type": "code",
   "execution_count": null,
   "metadata": {},
   "outputs": [],
   "source": [
    "dfva[\"bcvalogmar\"]=dfva[[\"bcvalogmarod\", \"bcvalogmaros\"]].apply(lambda x: bcva(*x), axis=1)"
   ]
  },
  {
   "cell_type": "code",
   "execution_count": null,
   "metadata": {},
   "outputs": [],
   "source": [
    "dfva.head()"
   ]
  },
  {
   "cell_type": "code",
   "execution_count": null,
   "metadata": {},
   "outputs": [],
   "source": [
    "dfva[dfva[\"bcvalogmar\"].isnull()]\n",
    "#these guys with the missing visual acuities will end up getting dropped from our lowva cohort "
   ]
  },
  {
   "cell_type": "code",
   "execution_count": null,
   "metadata": {},
   "outputs": [],
   "source": [
    "dfva[\"bcvalt40\"]=np.where(dfva[\"bcvalogmar\"]>0.30103,1,0)\n",
    "dfva[\"bcvalt200\"]=np.where(dfva[\"bcvalogmar\"]>1,1,0)"
   ]
  },
  {
   "cell_type": "code",
   "execution_count": null,
   "metadata": {},
   "outputs": [],
   "source": [
    "dfva.head()"
   ]
  },
  {
   "cell_type": "code",
   "execution_count": null,
   "metadata": {},
   "outputs": [],
   "source": [
    "dfva[\"bcvalt40\"].mean()\n",
    "dfva[\"bcvalt200\"].mean()"
   ]
  },
  {
   "cell_type": "code",
   "execution_count": null,
   "metadata": {},
   "outputs": [],
   "source": [
    "len(dfva[\"pat_deid\"].drop_duplicates())"
   ]
  },
  {
   "cell_type": "code",
   "execution_count": null,
   "metadata": {},
   "outputs": [],
   "source": [
    "len(dfva[dfva[\"bcvalt40\"]==1][\"pat_deid\"].drop_duplicates())\n",
    "len(dfva[dfva[\"bcvalt200\"]==1][\"pat_deid\"].drop_duplicates())"
   ]
  },
  {
   "cell_type": "code",
   "execution_count": null,
   "metadata": {},
   "outputs": [],
   "source": [
    "len(dfva[[\"pat_deid\", \"exam_date\", \"bcvalogmar\"]].drop_duplicates())"
   ]
  },
  {
   "cell_type": "code",
   "execution_count": null,
   "metadata": {},
   "outputs": [],
   "source": [
    "#we have one more problem which is that patients could have more than one smartform for vision per day (i.e., hvf etc.) \n",
    "#and they might have slightly different bcva's depending on how it was measured \n",
    "#so we need to take the best one of the bcvalogmars (lowest number) and only keep that one \n",
    "dfva=dfva.sort_values([\"pat_deid\", \"exam_date\", \"bcvalogmar\"])\n",
    "dfva=dfva.drop_duplicates([\"pat_deid\", \"exam_date\"])\n",
    "len(dfva)"
   ]
  },
  {
   "cell_type": "code",
   "execution_count": null,
   "metadata": {},
   "outputs": [],
   "source": [
    "lowvafirstdate=dfva[dfva[\"bcvalt40\"]==1].sort_values([\"pat_deid\", \"exam_date\"])[[\"pat_deid\", \"exam_date\", \"bcvalt40\"]].drop_duplicates([\"pat_deid\"])\n"
   ]
  },
  {
   "cell_type": "code",
   "execution_count": null,
   "metadata": {},
   "outputs": [],
   "source": [
    "lowvafirstdate = lowvafirstdate.rename(columns = {\n",
    "    'exam_date':'lowvadate'\n",
    "})\n"
   ]
  },
  {
   "cell_type": "code",
   "execution_count": null,
   "metadata": {},
   "outputs": [],
   "source": [
    "lowvafirstdate.head()"
   ]
  },
  {
   "cell_type": "code",
   "execution_count": null,
   "metadata": {},
   "outputs": [],
   "source": [
    "lowvacohort=pd.merge(dfva[[\"pat_deid\",\"exam_date\",\"bcvalogmar\", \"bcvalt40\"]], lowvafirstdate[[\"pat_deid\", \"lowvadate\"]], on=\"pat_deid\", how=\"right\")\n",
    "len(lowvacohort) "
   ]
  },
  {
   "cell_type": "code",
   "execution_count": null,
   "metadata": {},
   "outputs": [],
   "source": [
    "#now we need those with at least one year of follow-up after the low vision date. \n",
    "lowvacohort[\"fudays\"]=lowvacohort[\"exam_date\"]-lowvacohort[\"lowvadate\"]\n",
    "len(lowvacohort[lowvacohort[\"fudays\"]>=pd.Timedelta(days=365)][\"pat_deid\"].drop_duplicates()) #reduces cohort to 5612 "
   ]
  },
  {
   "cell_type": "code",
   "execution_count": null,
   "metadata": {},
   "outputs": [],
   "source": [
    "cohortidlist=list(lowvacohort[lowvacohort[\"fudays\"]>=pd.Timedelta(days=365)][\"pat_deid\"].drop_duplicates())\n",
    "len(cohortidlist)"
   ]
  },
  {
   "cell_type": "code",
   "execution_count": null,
   "metadata": {},
   "outputs": [],
   "source": [
    "lowvacohort=lowvacohort[lowvacohort[\"pat_deid\"].isin(cohortidlist)]"
   ]
  },
  {
   "cell_type": "code",
   "execution_count": null,
   "metadata": {},
   "outputs": [],
   "source": [
    "lowvacohort.head()"
   ]
  },
  {
   "cell_type": "code",
   "execution_count": null,
   "metadata": {},
   "outputs": [],
   "source": [
    "#now let's just determine how many folks had the outcome afterwards \n",
    "#we can define the outcome as bcvalt40 = 1 for all subsequent visits within 1 year \n",
    "#sum bcvalt40 by pat_deid and divide by count. if 1.0 that means all visits had bcvalt40==1 \n",
    "outcome=lowvacohort[(lowvacohort[\"fudays\"]<=pd.Timedelta(days=365)) & (lowvacohort[\"fudays\"]>=pd.Timedelta(days=0))].groupby([\"pat_deid\"]).sum()/lowvacohort[(lowvacohort[\"fudays\"]<=pd.Timedelta(days=365)) & (lowvacohort[\"fudays\"]>=pd.Timedelta(days=0))].groupby([\"pat_deid\"]).count()\n",
    "outcome.reset_index(inplace=True)\n",
    "outcome=outcome[[\"pat_deid\",\"bcvalt40\"]]"
   ]
  },
  {
   "cell_type": "code",
   "execution_count": null,
   "metadata": {
    "scrolled": true
   },
   "outputs": [],
   "source": [
    "len(outcome[outcome[\"bcvalt40\"]==1])/len(outcome)"
   ]
  },
  {
   "cell_type": "code",
   "execution_count": null,
   "metadata": {},
   "outputs": [],
   "source": [
    "#good! the set is not too imbalanced \n",
    "outcomeidlist=outcome[outcome[\"bcvalt40\"]==1][\"pat_deid\"]\n",
    "outcomeidlist"
   ]
  },
  {
   "cell_type": "code",
   "execution_count": null,
   "metadata": {},
   "outputs": [],
   "source": [
    "A = np.random.randn(4,3)\n",
    "B = np.sum(A, axis = 1, keepdims = True)"
   ]
  },
  {
   "cell_type": "code",
   "execution_count": null,
   "metadata": {},
   "outputs": [],
   "source": [
    "B.shape"
   ]
  },
  {
   "cell_type": "code",
   "execution_count": null,
   "metadata": {},
   "outputs": [],
   "source": [
    "outcome[\"outcome\"]=np.where(outcome[\"bcvalt40\"]==1, 1, 0)\n",
    "outcome"
   ]
  },
  {
   "cell_type": "code",
   "execution_count": null,
   "metadata": {},
   "outputs": [],
   "source": [
    "len(cohortidlist)"
   ]
  },
  {
   "cell_type": "code",
   "execution_count": null,
   "metadata": {},
   "outputs": [],
   "source": [
    "outcome[[\"pat_deid\",\"outcome\"]]"
   ]
  },
  {
   "cell_type": "code",
   "execution_count": null,
   "metadata": {},
   "outputs": [],
   "source": [
    "lowvacohortsqltable=lowvacohort[lowvacohort[\"fudays\"]==pd.Timedelta(days=0)][[\"pat_deid\", \"lowvadate\", \"bcvalogmar\"]].drop_duplicates()"
   ]
  },
  {
   "cell_type": "code",
   "execution_count": null,
   "metadata": {},
   "outputs": [],
   "source": [
    "#export back to the full database \n",
    "lowvacohortsqltable.to_sql('lowvacohort', conn, if_exists='replace', index=False)"
   ]
  },
  {
   "cell_type": "markdown",
   "metadata": {},
   "source": [
    "# Get Structured Data For Cohort"
   ]
  },
  {
   "cell_type": "markdown",
   "metadata": {},
   "source": [
    "## Demographics"
   ]
  },
  {
   "cell_type": "code",
   "execution_count": null,
   "metadata": {},
   "outputs": [],
   "source": [
    "dfpt=pd.read_sql_query('''select pat_deid, birth_date, gender, race, ethnicity from patients \n",
    "where pat_deid in (select pat_deid\n",
    "from lowvacohort) \n",
    "order by pat_deid''', conn)\n",
    "dfpt.columns = map(str.lower, dfpt.columns)\n",
    "\n",
    "dfpt[\"birth_date\"]=pd.to_datetime(dfpt[\"birth_date\"])\n",
    "from datetime import timedelta, date\n",
    "future = dfpt['birth_date'] > date(year=2010,month=1,day=1) #specifies the cutoff year\n",
    "dfpt.loc[future, 'birth_date'] -= timedelta(days=365.25*100)\n",
    "dfpt.head()\n",
    "len(dfpt)"
   ]
  },
  {
   "cell_type": "markdown",
   "metadata": {},
   "source": [
    "## Diagnoses"
   ]
  },
  {
   "cell_type": "code",
   "execution_count": null,
   "metadata": {},
   "outputs": [],
   "source": [
    "#diagnoses \n",
    "dfdx=pd.read_sql_query('''select pat_deid, start_date, icd9_list, icd10_list from diagnoses where pat_deid in (select distinct pat_deid\n",
    "from lowvacohort) \n",
    "order by pat_deid''', conn)\n",
    "dfdx.columns = map(str.lower, dfdx.columns)\n",
    "\n",
    "dfdx[\"dx_date\"]=pd.to_datetime(dfdx[\"start_date\"])\n",
    "\n",
    "del dfdx[\"start_date\"]\n",
    "\n",
    "len(dfdx)\n",
    "dfdx.head()"
   ]
  },
  {
   "cell_type": "code",
   "execution_count": null,
   "metadata": {},
   "outputs": [],
   "source": [
    "lowvacohortsqltable=pd.read_sql_query('''select * from lowvacohort''', conn)\n",
    "lowvacohortsqltable[\"lowvadate\"]=pd.to_datetime(lowvacohortsqltable[\"lowvadate\"])\n"
   ]
  },
  {
   "cell_type": "code",
   "execution_count": null,
   "metadata": {},
   "outputs": [],
   "source": [
    "dfdx=pd.merge(dfdx,lowvacohortsqltable[[\"pat_deid\", \"lowvadate\"]], left_on=\"pat_deid\", right_on=\"pat_deid\", how=\"right\")\n",
    "dfdx.sort_values(by=[\"pat_deid\", \"dx_date\"], ascending=True, inplace=True)\n",
    "dfdx=dfdx[(dfdx[\"dx_date\"]<=dfdx[\"lowvadate\"])]\n",
    "len(dfdx) \n",
    "dfdx.head()"
   ]
  },
  {
   "cell_type": "code",
   "execution_count": null,
   "metadata": {},
   "outputs": [],
   "source": [
    "dfdx[\"pivotvalue\"]=1\n",
    "\n",
    "dfdxwide=dfdx.pivot_table(values=\"pivotvalue\", index='pat_deid', columns='icd10_list', fill_value=0)\n",
    "dfdxwide.columns = ['icd_'+col for col in dfdxwide.columns.values]\n",
    "dfdxwide.reset_index(inplace=True)\n",
    "dfdxwide.head()\n",
    "\n",
    "len(dfdxwide)"
   ]
  },
  {
   "cell_type": "markdown",
   "metadata": {},
   "source": [
    "## Meds"
   ]
  },
  {
   "cell_type": "code",
   "execution_count": null,
   "metadata": {},
   "outputs": [],
   "source": [
    "#meds \n",
    "dfmeds=pd.read_sql_query('''select pat_deid, order_time, medication_id from meds where pat_deid in (select distinct pat_deid\n",
    "from lowvacohort \n",
    "\t\t\t) \n",
    "order by pat_deid''', conn)\n",
    "dfmeds.columns = map(str.lower, dfmeds.columns)\n",
    "\n",
    "dfmeds[\"rx_date\"]=pd.to_datetime(dfmeds[\"order_time\"])\n",
    "\n",
    "del dfmeds[\"order_time\"]\n",
    "\n",
    "len(dfmeds)\n",
    "dfmeds.head()"
   ]
  },
  {
   "cell_type": "code",
   "execution_count": null,
   "metadata": {},
   "outputs": [],
   "source": [
    "dfmeds=pd.merge(dfmeds,lowvacohortsqltable[[\"pat_deid\", \"lowvadate\"]], left_on=\"pat_deid\", right_on=\"pat_deid\", how=\"right\")\n",
    "dfmeds.sort_values(by=[\"pat_deid\", \"rx_date\"], ascending=True, inplace=True)\n",
    "\n",
    "\n",
    "#keep meds ordered before low vision date\n",
    "dfmeds=dfmeds[(dfmeds[\"rx_date\"]<=dfmeds[\"lowvadate\"])]\n",
    "\n",
    "dfmeds.head()\n",
    "len(dfmeds)"
   ]
  },
  {
   "cell_type": "code",
   "execution_count": null,
   "metadata": {},
   "outputs": [],
   "source": [
    "dfmeds[\"pivotvalue\"]=1\n",
    "dfmeds[\"medication_id\"]=dfmeds[\"medication_id\"].astype(int)\n",
    "dfmedswide=dfmeds.pivot_table(values=\"pivotvalue\", index='pat_deid', columns='medication_id', fill_value=0)\n",
    "dfmedswide.columns = ['med_'+str(col) for col in dfmedswide.columns.values]\n",
    "dfmedswide.reset_index(inplace=True)\n",
    "dfmedswide.head()\n",
    "len(dfmedswide)"
   ]
  },
  {
   "cell_type": "markdown",
   "metadata": {},
   "source": [
    "## Prior Eye Procedures"
   ]
  },
  {
   "cell_type": "code",
   "execution_count": null,
   "metadata": {},
   "outputs": [],
   "source": [
    "dfproc=pd.read_sql_query('''select pat_deid, proc_date, code from procedure where pat_deid in (select distinct pat_deid\n",
    "from lowvacohort) \n",
    "order by pat_deid''', conn)\n",
    "dfproc.columns = map(str.lower, dfproc.columns)\n",
    "\n",
    "dfproc[\"proc_date\"]=pd.to_datetime(dfproc[\"proc_date\"])\n",
    "\n",
    "len(dfproc)\n",
    "dfproc.head()"
   ]
  },
  {
   "cell_type": "code",
   "execution_count": null,
   "metadata": {},
   "outputs": [],
   "source": [
    "dfproc=pd.merge(dfproc,lowvacohortsqltable[[\"pat_deid\", \"lowvadate\"]], left_on=\"pat_deid\", right_on=\"pat_deid\", how=\"right\")\n",
    "dfproc.sort_values(by=[\"pat_deid\", \"proc_date\"], ascending=True, inplace=True)\n",
    "\n",
    "#keep procedures done before low vision date\n",
    "dfproc=dfproc[(dfproc[\"proc_date\"]<=dfproc[\"lowvadate\"])]\n",
    "\n",
    "dfproc.head()\n",
    "len(dfproc)"
   ]
  },
  {
   "cell_type": "code",
   "execution_count": null,
   "metadata": {},
   "outputs": [],
   "source": [
    "dfproc[\"pivotvalue\"]=1\n",
    "dfprocwide=dfproc.pivot_table(values=\"pivotvalue\", index='pat_deid', columns='code', fill_value=0)\n",
    "dfprocwide.columns = ['cpt_'+str(col) for col in dfprocwide.columns.values]\n",
    "dfprocwide.reset_index(inplace=True)\n",
    "dfprocwide.head()\n",
    "len(dfprocwide)"
   ]
  },
  {
   "cell_type": "markdown",
   "metadata": {},
   "source": [
    "## Numeric Eye Exam Fields"
   ]
  },
  {
   "cell_type": "markdown",
   "metadata": {},
   "source": [
    "### IOP "
   ]
  },
  {
   "cell_type": "code",
   "execution_count": null,
   "metadata": {},
   "outputs": [],
   "source": [
    "dfexam=pd.read_sql_query('''select pat_deid, DATE_OF_SERVICE, tod, tos, tmethod\n",
    "from examfield, examparsed \n",
    "where examfield.smartformid = examparsed.smartformid \n",
    "and not (tod is null and tos is null and tmethod is null)\n",
    "and pat_deid in (select distinct pat_deid\n",
    "from lowvacohort\n",
    "\t\t\t) \n",
    "            order by pat_deid \n",
    "''', conn) \n",
    "dfexam.columns = map(str.lower, dfexam.columns)\n",
    "\n",
    "dfexam[\"exam_date\"]=pd.to_datetime(dfexam[\"date_of_service\"])\n",
    "del dfexam[\"date_of_service\"]\n",
    "len(dfexam)\n",
    "\n",
    "dfexam=pd.merge(dfexam,lowvacohortsqltable[[\"pat_deid\", \"lowvadate\"]], left_on=\"pat_deid\", right_on=\"pat_deid\", how=\"right\")\n",
    "dfexam.sort_values(by=[\"pat_deid\", \"exam_date\"], ascending=True, inplace=True)\n",
    "dfexam=dfexam[(dfexam[\"exam_date\"]<=dfexam[\"lowvadate\"])]\n",
    "\n",
    "len(dfexam)\n",
    "dfexam.head()"
   ]
  },
  {
   "cell_type": "code",
   "execution_count": null,
   "metadata": {},
   "outputs": [],
   "source": [
    "dft=dfexam"
   ]
  },
  {
   "cell_type": "code",
   "execution_count": null,
   "metadata": {},
   "outputs": [],
   "source": [
    "#we have to think about whether it makes sense to use maxt, or averaget or maybe both? "
   ]
  },
  {
   "cell_type": "markdown",
   "metadata": {},
   "source": [
    "### Prior vision \n",
    "Probably makes sense to use the best prior vision as a predictor of future good vision"
   ]
  },
  {
   "cell_type": "code",
   "execution_count": null,
   "metadata": {},
   "outputs": [],
   "source": [
    "dfexam=pd.read_sql_query('''select pat_deid, DATE_OF_SERVICE, \n",
    "vaoddistcc, vaoddistsc, vaoddistccph, vaoddistscph, vaosdistcc, vaosdistsc, vaosdistccph, vaosdistscph \n",
    "from examfield, examparsed \n",
    "where examfield.smartformid = examparsed.smartformid \n",
    "and not (vaoddistcc is null and vaoddistsc is null and vaosdistcc is null and vaosdistsc is null)\n",
    "and pat_deid in (select distinct pat_deid from lowvacohort)\n",
    "            order by pat_deid \n",
    "''', conn) \n",
    "dfexam.columns = map(str.lower, dfexam.columns)\n",
    "dfexam[\"exam_date\"]=pd.to_datetime(dfexam[\"date_of_service\"])\n",
    "del dfexam[\"date_of_service\"]\n",
    "len(dfexam)\n",
    "dfexam.head()\n",
    "\n",
    "dfexam=pd.merge(dfexam,lowvacohortsqltable[[\"pat_deid\", \"lowvadate\"]], left_on=\"pat_deid\", right_on=\"pat_deid\", how=\"right\")\n",
    "dfexam.sort_values(by=[\"pat_deid\", \"exam_date\"], ascending=True, inplace=True)\n",
    "dfexam=dfexam[(dfexam[\"exam_date\"]<=dfexam[\"lowvadate\"])]\n",
    "\n",
    "len(dfexam)\n",
    "dfexam.head()"
   ]
  },
  {
   "cell_type": "code",
   "execution_count": null,
   "metadata": {},
   "outputs": [],
   "source": [
    "dfva=dfexam\n",
    "dfva[\"bcvalogmarod\"]=dfva[[\"vaoddistsc\", \"vaoddistcc\", \"vaoddistscph\", \"vaoddistccph\"]].apply(lambda x: bcvalogmar(*x), axis=1)\n",
    "dfva[\"bcvalogmaros\"]=dfva[[\"vaosdistsc\", \"vaosdistcc\", \"vaosdistscph\", \"vaosdistccph\"]].apply(lambda x: bcvalogmar(*x), axis=1)\n",
    "\n",
    "#there are some cases wehre vision was measured only in one eye. In this case we should do a last values carried forward for the patient \n",
    "dfva.sort_values([\"pat_deid\", \"exam_date\"], inplace=True)\n",
    "\n",
    "dfva[\"bcvalogmarod\"]=dfva[[\"pat_deid\",\"bcvalogmarod\"]].groupby([\"pat_deid\"]).ffill()[\"bcvalogmarod\"]\n",
    "dfva[\"bcvalogmaros\"]=dfva[[\"pat_deid\",\"bcvalogmaros\"]].groupby([\"pat_deid\"]).ffill()[\"bcvalogmaros\"]\n",
    "\n",
    "dfva.head(20)"
   ]
  },
  {
   "cell_type": "code",
   "execution_count": null,
   "metadata": {},
   "outputs": [],
   "source": [
    "dfva[\"bcvalogmar\"]=dfva[[\"bcvalogmarod\", \"bcvalogmaros\"]].apply(lambda x: bcva(*x), axis=1)"
   ]
  },
  {
   "cell_type": "code",
   "execution_count": null,
   "metadata": {},
   "outputs": [],
   "source": [
    "dfva.head(10)"
   ]
  },
  {
   "cell_type": "markdown",
   "metadata": {},
   "source": [
    "### CCT "
   ]
  },
  {
   "cell_type": "code",
   "execution_count": null,
   "metadata": {},
   "outputs": [],
   "source": [
    "#now process CCT's \n",
    "dfexam=pd.read_sql_query('''select pat_deid, DATE_OF_SERVICE, cctod, cctos, cctdate \n",
    "from examfield, examparsed \n",
    "where examfield.smartformid = examparsed.smartformid \n",
    "and not (cctod is null and cctos is null and cctdate is null)\n",
    "and pat_deid in (select distinct pat_deid\n",
    "lowvacohort) \n",
    "            order by pat_deid \n",
    "''', conn) \n",
    "dfexam.columns = map(str.lower, dfexam.columns)\n",
    "dfexam[\"exam_date\"]=pd.to_datetime(dfexam[\"date_of_service\"])\n",
    "del dfexam[\"date_of_service\"]\n",
    "len(dfexam)\n",
    "dfexam=pd.merge(dfexam,lowvacohortsqltable[[\"pat_deid\", \"lowvadate\"]], left_on=\"pat_deid\", right_on=\"pat_deid\", how=\"right\")\n",
    "dfexam.sort_values(by=[\"pat_deid\", \"exam_date\"], ascending=True, inplace=True)\n",
    "dfexam=dfexam[(dfexam[\"exam_date\"]<=dfexam[\"lowvadate\"])]\n",
    "dfexam[\"cctdate\"]=pd.to_datetime(dfexam[\"cctdate\"])\n",
    "dfexam=dfexam[(dfexam[\"cctdate\"]<=dfexam[\"lowvadate\"])]\n",
    "\n",
    "len(dfexam)\n",
    "dfexam.head()\n",
    "\n",
    "dfcct=dfexam[[\"pat_deid\", \"cctod\", \"cctos\", \"cctdate\"]]\n",
    "dfcct=dfcct.drop_duplicates()\n",
    "dfcct.head()"
   ]
  },
  {
   "cell_type": "code",
   "execution_count": null,
   "metadata": {},
   "outputs": [],
   "source": [
    "dfcct[\"cctod\"]=pd.to_numeric(dfcct[\"cctod\"], errors='coerce')\n",
    "dfcct[\"cctos\"]=pd.to_numeric(dfcct[\"cctos\"], errors='coerce')"
   ]
  },
  {
   "cell_type": "code",
   "execution_count": null,
   "metadata": {},
   "outputs": [],
   "source": [
    "dfcct=dfcct[~((dfcct[\"cctod\"].isnull()) & (dfcct[\"cctos\"].isnull()))]"
   ]
  },
  {
   "cell_type": "markdown",
   "metadata": {},
   "source": [
    "### Refraction"
   ]
  },
  {
   "cell_type": "code",
   "execution_count": null,
   "metadata": {},
   "outputs": [],
   "source": [
    "#now process refractions \n",
    "dfexam=pd.read_sql_query('''select pat_deid, DATE_OF_SERVICE, wrxodsph, wrxodcyl, wrxossph, wrxoscyl, mrxauto, mrxodsph, mrxodcyl, mrxossph, mrxoscyl, finalrxodsph, finalrxodcyl, finalrxossph, finalrxoscyl\n",
    "from examfield, examparsed \n",
    "where examfield.smartformid = examparsed.smartformid \n",
    "and not (wrxodsph is null and wrxodcyl is null and wrxossph is null and wrxoscyl is null and mrxodsph is null and mrxodcyl is null and mrxossph is null and mrxoscyl is null and finalrxodsph is null and finalrxodcyl is null and finalrxossph is null and finalrxoscyl is null)\n",
    "and pat_deid in (select distinct pat_deid\n",
    "from lowvacohort) \n",
    "            order by pat_deid \n",
    "''', conn) \n",
    "dfexam.columns = map(str.lower, dfexam.columns)\n",
    "dfexam[\"exam_date\"]=pd.to_datetime(dfexam[\"date_of_service\"])\n",
    "del dfexam[\"date_of_service\"]\n",
    "len(dfexam)\n",
    "\n",
    "dfexam=pd.merge(dfexam,lowvacohortsqltable[[\"pat_deid\", \"lowvadate\"]], left_on=\"pat_deid\", right_on=\"pat_deid\", how=\"right\")\n",
    "dfexam.sort_values(by=[\"pat_deid\", \"exam_date\"], ascending=True, inplace=True)\n",
    "dfexam=dfexam[(dfexam[\"exam_date\"]<=dfexam[\"lowvadate\"])]\n",
    "\n",
    "len(dfexam) \n",
    "dfexam.head()"
   ]
  },
  {
   "cell_type": "code",
   "execution_count": null,
   "metadata": {},
   "outputs": [],
   "source": [
    "dfexam[\"finalrxodsph\"]=pd.to_numeric(dfexam[\"finalrxodsph\"], errors='coerce')\n",
    "dfexam[\"finalrxossph\"]=pd.to_numeric(dfexam[\"finalrxossph\"], errors='coerce')\n",
    "dfexam[\"finalrxodcyl\"]=pd.to_numeric(dfexam[\"finalrxodcyl\"], errors='coerce')\n",
    "dfexam[\"finalrxoscyl\"]=pd.to_numeric(dfexam[\"finalrxoscyl\"], errors='coerce')\n",
    "\n",
    "dfrx=dfexam\n",
    "dfrx.head()"
   ]
  },
  {
   "cell_type": "code",
   "execution_count": null,
   "metadata": {},
   "outputs": [],
   "source": [
    "#calculate spherical equivalent \n",
    "def spheqv(sph, cyl): \n",
    "    if math.isnan(cyl): \n",
    "        return sph \n",
    "    if math.isnan(sph): \n",
    "        return 0.5*cyl \n",
    "    else: \n",
    "        sphericalequivalent = sph + 0.5*cyl \n",
    "        return sphericalequivalent "
   ]
  },
  {
   "cell_type": "code",
   "execution_count": null,
   "metadata": {},
   "outputs": [],
   "source": [
    "dfrx[\"wrxodspheqv\"]=dfrx[[\"wrxodsph\", \"wrxodcyl\"]].apply(lambda x: spheqv(*x), axis=1)\n",
    "dfrx[\"wrxosspheqv\"]=dfrx[[\"wrxossph\", \"wrxoscyl\"]].apply(lambda x: spheqv(*x), axis=1)\n",
    "dfrx[\"mrxodspheqv\"]=dfrx[[\"mrxodsph\", \"mrxodcyl\"]].apply(lambda x: spheqv(*x), axis=1)\n",
    "dfrx[\"mrxosspheqv\"]=dfrx[[\"mrxossph\", \"mrxoscyl\"]].apply(lambda x: spheqv(*x), axis=1)\n",
    "dfrx[\"finalrxodspheqv\"]=dfrx[[\"finalrxodsph\", \"wrxodcyl\"]].apply(lambda x: spheqv(*x), axis=1)\n",
    "dfrx[\"finalrxosspheqv\"]=dfrx[[\"finalrxossph\", \"wrxoscyl\"]].apply(lambda x: spheqv(*x), axis=1)\n",
    "dfrx.head(20)"
   ]
  },
  {
   "cell_type": "code",
   "execution_count": null,
   "metadata": {},
   "outputs": [],
   "source": [
    "dfrx=dfrx[[\"pat_deid\", \"exam_date\", \"wrxodspheqv\", \"wrxosspheqv\", \"mrxodspheqv\", \"mrxosspheqv\", \"finalrxodspheqv\", \"finalrxosspheqv\"]]"
   ]
  },
  {
   "cell_type": "code",
   "execution_count": null,
   "metadata": {},
   "outputs": [],
   "source": [
    "dfrx.head()\n",
    "len(dfrx)"
   ]
  },
  {
   "cell_type": "markdown",
   "metadata": {},
   "source": [
    "### CDR"
   ]
  },
  {
   "cell_type": "code",
   "execution_count": null,
   "metadata": {},
   "outputs": [],
   "source": [
    "dfexam=pd.read_sql_query('''select pat_deid, DATE_OF_SERVICE, \n",
    "sleodll, sleosll, sleodcs, sleoscs, sleodk, sleosk, sleodac, sleosac, sleodiris, sleosiris, sleodlens, sleoslens, sleodvit, sleosvit, feoddisc, feosdisc, feodcdr, feoscdr, feodmac, feosmac, feodvess, feosvess, feodperiph, feosperiph\n",
    "from examfield, examparsed \n",
    "where examfield.smartformid = examparsed.smartformid \n",
    "and not (sleodll is null and sleosll is null and sleodcs is null and sleoscs is null and sleodk is null and \n",
    "sleosk is null and sleodac is null and sleosac is null and sleodiris is null and sleosiris is null and\n",
    "sleodlens is null and sleoslens is null and sleodvit is null and sleosvit is null and feoddisc is null and\n",
    "feosdisc is null and feodcdr is null and feoscdr is null and feodmac is null and feosmac is null and\n",
    "feodvess is null and feosvess is null and feodperiph is null and feosperiph is null)\n",
    "and pat_deid in (select distinct pat_deid\n",
    "from lowvacohort\n",
    "\t\t\t) \n",
    "            order by pat_deid \n",
    "''', conn) \n",
    "dfexam.columns = map(str.lower, dfexam.columns)\n",
    "dfexam[\"exam_date\"]=pd.to_datetime(dfexam[\"date_of_service\"])\n",
    "del dfexam[\"date_of_service\"]\n",
    "len(dfexam)\n",
    "\n",
    "dfexam=pd.merge(dfexam,lowvacohortsqltable[[\"pat_deid\", \"lowvadate\"]], left_on=\"pat_deid\", right_on=\"pat_deid\", how=\"right\")\n",
    "dfexam.sort_values(by=[\"pat_deid\", \"exam_date\"], ascending=True, inplace=True)\n",
    "dfexam=dfexam[(dfexam[\"exam_date\"]<=dfexam[\"lowvadate\"])]\n",
    "\n",
    "len(dfexam) \n",
    "dfexam.head()"
   ]
  },
  {
   "cell_type": "code",
   "execution_count": null,
   "metadata": {},
   "outputs": [],
   "source": [
    "dfexam[\"feodcdr\"]=pd.to_numeric(dfexam[\"feodcdr\"], errors='coerce')\n",
    "dfexam[\"feoscdr\"]=pd.to_numeric(dfexam[\"feoscdr\"], errors='coerce')"
   ]
  },
  {
   "cell_type": "code",
   "execution_count": null,
   "metadata": {},
   "outputs": [],
   "source": [
    "dfcdr=dfexam[[\"pat_deid\", \"exam_date\", \"feodcdr\", \"feoscdr\"]]\n",
    "\n",
    "dfcdr.head()"
   ]
  },
  {
   "cell_type": "code",
   "execution_count": null,
   "metadata": {},
   "outputs": [],
   "source": [
    "dfcdr=dfcdr[(dfcdr['feodcdr'].notnull()) | (dfcdr['feoscdr'].notnull())]"
   ]
  },
  {
   "cell_type": "markdown",
   "metadata": {},
   "source": [
    "## Text Exam Fields "
   ]
  },
  {
   "cell_type": "code",
   "execution_count": null,
   "metadata": {},
   "outputs": [],
   "source": [
    "del dfexam[\"feodcdr\"]\n",
    "del dfexam[\"feoscdr\"]\n",
    "dfexam.columns"
   ]
  },
  {
   "cell_type": "markdown",
   "metadata": {},
   "source": [
    "## Get notes "
   ]
  },
  {
   "cell_type": "code",
   "execution_count": null,
   "metadata": {},
   "outputs": [],
   "source": [
    "dfnotes=pd.read_sql_query('''select pat_deid, note_deid, substr(encounter_date, 0, 10) as enc_date, note, note_desc from notes \n",
    "where pat_deid in (select distinct pat_deid\n",
    "from lowvacohort\n",
    "\t\t\t) \n",
    "order by pat_deid''', conn)\n",
    "dfnotes.columns = map(str.lower, dfnotes.columns)\n",
    "\n",
    "dfnotes[\"enc_date\"]=pd.to_datetime(dfnotes[\"enc_date\"])\n",
    "\n",
    "dfnotes=pd.merge(dfnotes,lowvacohortsqltable[[\"pat_deid\", \"lowvadate\"]], left_on=\"pat_deid\", right_on=\"pat_deid\", how=\"right\")\n",
    "dfnotes.sort_values(by=[\"pat_deid\", \"enc_date\"], ascending=True, inplace=True)\n",
    "dfpreopnotes=dfnotes[(dfnotes[\"enc_date\"]<=dfnotes[\"lowvadate\"])]\n",
    "\n",
    "len(dfpreopnotes) \n",
    "dfpreopnotes.head()\n"
   ]
  },
  {
   "cell_type": "code",
   "execution_count": null,
   "metadata": {},
   "outputs": [],
   "source": [
    "conn.close() \n"
   ]
  },
  {
   "cell_type": "markdown",
   "metadata": {},
   "source": [
    "# Export to new database"
   ]
  },
  {
   "cell_type": "code",
   "execution_count": null,
   "metadata": {},
   "outputs": [],
   "source": [
    "conn = sqlite3.connect('lowva\\lowva.db')\n",
    "conn.text_factory = str\n",
    "cur = conn.cursor()"
   ]
  },
  {
   "cell_type": "code",
   "execution_count": null,
   "metadata": {},
   "outputs": [],
   "source": [
    "\n",
    "dfpreopnotes[[\"pat_deid\", \"note_deid\", \"enc_date\", \"note\", \"note_desc\"]].to_sql('notes', conn, if_exists=\"replace\", index=False)\n",
    "conn.commit() \n",
    "\n"
   ]
  },
  {
   "cell_type": "code",
   "execution_count": null,
   "metadata": {},
   "outputs": [],
   "source": [
    "dfpt.to_sql('demographics', conn, if_exists='replace', index=False)\n",
    "conn.commit()"
   ]
  },
  {
   "cell_type": "code",
   "execution_count": null,
   "metadata": {},
   "outputs": [],
   "source": [
    "dfexam.to_sql('examslefe', conn, if_exists='replace', index=False)\n",
    "conn.commit()"
   ]
  },
  {
   "cell_type": "code",
   "execution_count": null,
   "metadata": {},
   "outputs": [],
   "source": [
    "dfcct.to_sql('examcct', conn, if_exists='replace', index=False)\n",
    "conn.commit()"
   ]
  },
  {
   "cell_type": "code",
   "execution_count": null,
   "metadata": {},
   "outputs": [],
   "source": [
    "dfva.to_sql('examva', conn, if_exists='replace', index=False)\n",
    "dft.to_sql('examiop', conn, if_exists='replace', index=False)\n",
    "dfrx.to_sql('examrx', conn, if_exists='replace', index=False)\n",
    "dfcdr.to_sql('examcdr', conn, if_exists='replace', index=False)\n",
    "conn.commit()"
   ]
  },
  {
   "cell_type": "code",
   "execution_count": null,
   "metadata": {},
   "outputs": [],
   "source": [
    "dfprocwide.to_sql('cpt', conn, if_exists=\"replace\", index=False)\n",
    "conn.commit()"
   ]
  },
  {
   "cell_type": "code",
   "execution_count": null,
   "metadata": {},
   "outputs": [],
   "source": [
    "dfproc[[\"pat_deid\", \"proc_date\", \"code\", \"pivotvalue\"]].to_sql('cptlong', conn, if_exists=\"replace\", index=False)"
   ]
  },
  {
   "cell_type": "code",
   "execution_count": null,
   "metadata": {},
   "outputs": [],
   "source": [
    "dfmeds[[\"pat_deid\", \"medication_id\", \"rx_date\", \"pivotvalue\"]].to_sql('medslong', conn, if_exists='replace', index=False)"
   ]
  },
  {
   "cell_type": "code",
   "execution_count": null,
   "metadata": {},
   "outputs": [],
   "source": [
    "pd.merge(lowvacohortsqltable,outcome[[\"pat_deid\", \"outcome\"]], on=\"pat_deid\").to_sql('outcome', conn, if_exists='replace', index=False)\n",
    "conn.commit()"
   ]
  },
  {
   "cell_type": "code",
   "execution_count": null,
   "metadata": {},
   "outputs": [],
   "source": [
    "dfdx[[\"pat_deid\", \"dx_date\", \"icd9_list\", \"icd10_list\", \"pivotvalue\"]].to_sql('dxlong', conn, if_exists='replace', index=False)\n",
    "conn.commit() "
   ]
  },
  {
   "cell_type": "code",
   "execution_count": null,
   "metadata": {},
   "outputs": [],
   "source": [
    "dfdx.head()"
   ]
  },
  {
   "cell_type": "code",
   "execution_count": null,
   "metadata": {},
   "outputs": [],
   "source": [
    "conn.close() "
   ]
  },
  {
   "cell_type": "code",
   "execution_count": null,
   "metadata": {},
   "outputs": [],
   "source": []
  }
 ],
 "metadata": {
  "kernelspec": {
   "display_name": "Python 3",
   "language": "python",
   "name": "python3"
  },
  "language_info": {
   "codemirror_mode": {
    "name": "ipython",
    "version": 3
   },
   "file_extension": ".py",
   "mimetype": "text/x-python",
   "name": "python",
   "nbconvert_exporter": "python",
   "pygments_lexer": "ipython3",
   "version": "3.6.12"
  }
 },
 "nbformat": 4,
 "nbformat_minor": 2
}
