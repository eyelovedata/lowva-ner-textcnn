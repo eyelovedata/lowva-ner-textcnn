{
 "cells": [
  {
   "cell_type": "markdown",
   "id": "9d0e6457",
   "metadata": {},
   "source": [
    "# Low-VA Final- Optimal Hyperparameters\n",
    "Hyperparameter tuning done in lowva-hyperparameterTuning"
   ]
  },
  {
   "cell_type": "code",
   "execution_count": 1,
   "id": "f55bebf0",
   "metadata": {},
   "outputs": [],
   "source": [
    "#change your dependencies as you see fit\n",
    "import tensorflow as tf\n",
    "import keras_tuner as kt\n",
    "import datetime\n",
    "import numpy as np\n",
    "import pandas as pd\n",
    "from PIL import Image\n",
    "import glob \n",
    "import matplotlib.pyplot as plt\n",
    "import h5py \n",
    "import random \n",
    "from sklearn.metrics import classification_report\n",
    "import tensorflow_datasets as tfds\n",
    "from sklearn.preprocessing import MultiLabelBinarizer\n",
    "import csv\n",
    "from collections import OrderedDict\n",
    "from sklearn.feature_selection import VarianceThreshold\n",
    "from sklearn.metrics import roc_curve\n",
    "%load_ext tensorboard\n",
    "\n",
    "%matplotlib inline\n",
    "\n",
    "from IPython.core.interactiveshell import InteractiveShell\n",
    "InteractiveShell.ast_node_interactivity = \"all\"\n",
    "\n",
    "tf.keras.backend.set_image_data_format('channels_last')"
   ]
  },
  {
   "cell_type": "code",
   "execution_count": 2,
   "id": "64d5ae30",
   "metadata": {},
   "outputs": [
    {
     "name": "stdout",
     "output_type": "stream",
     "text": [
      "Select the Runtime > \"Change runtime type\" menu to enable a GPU accelerator, \n",
      "and then re-execute this cell.\n"
     ]
    }
   ],
   "source": [
    "gpu_info = !nvidia-smi\n",
    "gpu_info = '\\n'.join(gpu_info)\n",
    "if gpu_info.find('failed') >= 0:\n",
    "  print('Select the Runtime > \"Change runtime type\" menu to enable a GPU accelerator, ')\n",
    "  print('and then re-execute this cell.')\n",
    "else:\n",
    "  print(gpu_info)"
   ]
  },
  {
   "cell_type": "code",
   "execution_count": 3,
   "id": "b6e8ae6b",
   "metadata": {},
   "outputs": [
    {
     "name": "stdout",
     "output_type": "stream",
     "text": [
      "Your runtime has 31.6 gigabytes of available RAM\n",
      "\n",
      "You are using a high-RAM runtime!\n"
     ]
    }
   ],
   "source": [
    "from psutil import virtual_memory\n",
    "ram_gb = virtual_memory().total / 1e9\n",
    "print('Your runtime has {:.1f} gigabytes of available RAM\\n'.format(ram_gb))\n",
    "\n",
    "if ram_gb < 20:\n",
    "  print('To enable a high-RAM runtime, select the Runtime > \"Change runtime type\"')\n",
    "  print('menu, and then select High-RAM in the Runtime shape dropdown. Then, ')\n",
    "  print('re-execute this cell.')\n",
    "else:\n",
    "  print('You are using a high-RAM runtime!')"
   ]
  },
  {
   "cell_type": "markdown",
   "id": "66b43b98",
   "metadata": {},
   "source": [
    "# Model Evaluation (Loss, Accuracy, ROC)"
   ]
  },
  {
   "cell_type": "code",
   "execution_count": 4,
   "id": "66145608",
   "metadata": {},
   "outputs": [],
   "source": [
    "# Plots the train and validation loss during training\n",
    "def plt_loss(history):\n",
    "    train_loss = history.history['loss']\n",
    "    val_loss = history.history['val_loss']\n",
    "    epochs = range(1, len(train_loss) + 1)\n",
    "    p = plt.plot(epochs, train_loss, 'y', label='Training loss');\n",
    "    p = plt.plot(epochs, val_loss, 'r', label='Validation loss');\n",
    "    p = plt.title('Training and validation loss');\n",
    "    p = plt.xlabel('Epochs');\n",
    "    p = plt.ylabel('Loss');\n",
    "    p = plt.legend()\n",
    "    plt.show()\n",
    "\n",
    "# Plots the train and validation loss during training\n",
    "def plt_acc(history):\n",
    "    train_acc = history.history['acc']\n",
    "    val_acc = history.history['val_acc']\n",
    "    epochs = range(1, len(train_acc) + 1)\n",
    "    p = plt.plot(epochs, train_acc, 'y', label='Training acc');\n",
    "    p = plt.plot(epochs, val_acc, 'r', label='Validation acc');\n",
    "    p = plt.title('Training and validation accuracy');\n",
    "    p = plt.xlabel('Epochs');\n",
    "    p = plt.ylabel('Accuracy');\n",
    "    p = plt.legend()\n",
    "    plt.show()\n",
    "\n",
    "# Plots ROC curve for validation\n",
    "# validation_dataset = tensor object that you input\n",
    "# y_score = output from the model.predict\n",
    "def plt_roc(validation_dataset, y_pred, type = 'validation'): \n",
    "    y_true_array = []\n",
    "    for x,y in validation_dataset:\n",
    "        for y_val in y:\n",
    "            y_true_array.append(y_val.numpy()[0]) \n",
    "    y_pred_array = np.array(y_pred)\n",
    "\n",
    "    fpr , tpr , thresholds = roc_curve(y_true_array, y_pred_array)\n",
    "    plt.plot(fpr,tpr);\n",
    "    plt.axis([0,1,0,1]); \n",
    "    plt.xlabel('False Positive Rate');\n",
    "    plt.ylabel('True Positive Rate');\n",
    "    if (type == 'validation'):\n",
    "        plt.title('Validation ROC')\n",
    "    if (type == 'test'):\n",
    "        plt.title('Test ROC')\n",
    "    plt.show()\n",
    "    \n",
    "def val_thresholds(validation_dataset):\n",
    "    thresholds = [0.1, 0.15, 0.2, 0.25, 0.3, 0.35, 0.4, 0.45, 0.5, 0.55, 0.6, 0.65, 0.7, 0.75, 0.8, 0.85, 0.9]\n",
    "    maxf1threshold = 0.0\n",
    "    maxf1 = 0.0\n",
    "    maxResults = []\n",
    "    for threshold in thresholds:\n",
    "        print('\\nThreshold:', threshold)\n",
    "        metrics = [tf.keras.metrics.TruePositives(name='tp', thresholds=threshold), \n",
    "                    tf.keras.metrics.FalsePositives(name='fp', thresholds=threshold), \n",
    "                    tf.keras.metrics.TrueNegatives(name='tn', thresholds=threshold), \n",
    "                    tf.keras.metrics.FalseNegatives(name='fn', thresholds=threshold), \n",
    "                    tf.keras.metrics.Recall(name='sen', thresholds=threshold), \n",
    "                    tf.keras.metrics.Precision(name='prc', thresholds=threshold), \n",
    "                    tf.keras.metrics.AUC(name='auroc', curve='ROC'), \n",
    "                    tf.keras.metrics.AUC(name='auprc', curve='PR'), ]\n",
    "        model.compile(optimizer='adam', loss='binary_crossentropy', metrics=metrics)\n",
    "\n",
    "        loss, tp, fp, tn, fn, sens, prec, auroc, auprc = model.evaluate(validation_dataset)\n",
    "        if sens * prec == 0.0:\n",
    "            f1 = 0.0\n",
    "        else:\n",
    "            f1 = 2/(1/sens + 1/prec)\n",
    "\n",
    "        if f1 > maxf1:\n",
    "            maxf1threshold = threshold\n",
    "            maxf1 = f1\n",
    "            maxResults = [tp, fp, tn, fn, sens, prec]\n",
    "\n",
    "    print('\\nBest threshold on Test Set:', maxf1threshold)\n",
    "    print('Best F1:', maxf1*100)\n",
    "    print('True Positives:', maxResults[0])\n",
    "    print('False Positives:', maxResults[1])\n",
    "    print('True Negatives:', maxResults[2])\n",
    "    print('False Negatives:', maxResults[3])\n",
    "    print('Sensitivity/Recall:', maxResults[4]*100)\n",
    "    print('Precision:', maxResults[5]*100)\n",
    "    return maxf1threshold\n",
    "\n",
    "def holdout_final_eval(test_dataset, maxf1threshold):\n",
    "    metrics = [tf.keras.metrics.TruePositives(name='tp', thresholds=maxf1threshold), \n",
    "            tf.keras.metrics.FalsePositives(name='fp', thresholds=maxf1threshold), \n",
    "            tf.keras.metrics.TrueNegatives(name='tn', thresholds=maxf1threshold), \n",
    "            tf.keras.metrics.FalseNegatives(name='fn', thresholds=maxf1threshold), \n",
    "            tf.keras.metrics.Recall(name='sens', thresholds=maxf1threshold), \n",
    "            tf.keras.metrics.Precision(name='prec', thresholds=maxf1threshold), \n",
    "            tf.keras.metrics.AUC(name='auroc', curve='ROC'), \n",
    "            tf.keras.metrics.AUC(name='auprc', curve='PR'), ]\n",
    "    model.compile(optimizer='adam', loss='binary_crossentropy', metrics=metrics)\n",
    "    loss, tp, fp, tn, fn, sens, prec, auroc, auprc = model.evaluate(test_dataset)\n",
    "    print('AUROC:', auroc*100)\n",
    "    print('Sensitivity/Recall:', sens*100)\n",
    "    print('Precision:', prec*100)\n",
    "    if sens * prec == 0.0:\n",
    "        f1 = 0.0\n",
    "        print('F1 not applicable')\n",
    "    else:\n",
    "        f1 = 2/(1/sens + 1/prec)\n",
    "        print('F1:', f1*100)\n",
    "    print('True Positives', tp)\n",
    "    print('False Positives', fp)\n",
    "    print('True Negatives', tn)\n",
    "    print('False Negatives', fn)"
   ]
  },
  {
   "cell_type": "markdown",
   "id": "43b545b3",
   "metadata": {},
   "source": [
    "# Loading Data"
   ]
  },
  {
   "cell_type": "code",
   "execution_count": 5,
   "id": "63315daa",
   "metadata": {},
   "outputs": [],
   "source": [
    "clamp_output_df = pd.read_csv('gs://stanfordoptimagroup/STRIDE/lowva/clamp_output_postprocessing.csv', delimiter = \",\")"
   ]
  },
  {
   "cell_type": "code",
   "execution_count": 6,
   "id": "82ca0e85",
   "metadata": {},
   "outputs": [
    {
     "data": {
      "text/plain": [
       "131072"
      ]
     },
     "execution_count": 6,
     "metadata": {},
     "output_type": "execute_result"
    },
    {
     "name": "stdout",
     "output_type": "stream",
     "text": [
      "\n",
      "loading structured data\n"
     ]
    }
   ],
   "source": [
    "# code to load the pre-trained embeddings and dataset\n",
    "def isfloat(value):\n",
    "    try:\n",
    "        float(value)\n",
    "        return True\n",
    "    except ValueError:\n",
    "        return False\n",
    "\n",
    "csv.field_size_limit(1310720);\n",
    "\n",
    "print('\\nloading structured data')\n",
    "with open('../lowva-structured-02.csv', 'r') as f:\n",
    "    r = csv.reader(f)\n",
    "    i = 0\n",
    "    structuredDict = {}\n",
    "    outputDict = {}\n",
    "    for row in r:\n",
    "        i += 1\n",
    "        if i == 1:\n",
    "            continue\n",
    "        else:\n",
    "            key = row[0].strip()\n",
    "            values = np.array([float(i) for i in row[2:] if isfloat(i)])\n",
    "            structuredDict[key] = values\n",
    "            outputDict[key]= np.array([int(row[1])])"
   ]
  },
  {
   "cell_type": "code",
   "execution_count": 7,
   "id": "3b9de7f9",
   "metadata": {},
   "outputs": [
    {
     "name": "stdout",
     "output_type": "stream",
     "text": [
      "\n",
      "Creating tokenDict\n"
     ]
    }
   ],
   "source": [
    "print('\\nCreating tokenDict')\n",
    "tokenDict=OrderedDict() #to ensure that the dictionary will maintain an order\n",
    "\n",
    "def check_negation(row):\n",
    "    if(row['Assertion'] == 'present'):\n",
    "        return row['CUI_clean'] + 'p'\n",
    "    else:\n",
    "        return row['CUI_clean'] + 'n'\n",
    "\n",
    "for index, row in clamp_output_df.iterrows():\n",
    "    if (str(row['PID']) in structuredDict): #make sure only including ones that have output results\n",
    "        if (isinstance(row['CUI_clean'], str)): #to be changed later\n",
    "            key = str(row['PID'])\n",
    "            if (key in tokenDict):\n",
    "                oldValue = tokenDict[key]\n",
    "                oldValue.append(check_negation(row))\n",
    "                tokenDict[key] = oldValue\n",
    "            else: \n",
    "                tokenDict[key] = [check_negation(row)]\n",
    "token_df = pd.DataFrame(list(tokenDict.items()),columns = ['PID','CUI']) \n",
    "\n",
    "# One hot encoding\n",
    "mlb = MultiLabelBinarizer(sparse_output=True)\n",
    "\n",
    "tokensOneHot = pd.DataFrame.sparse.from_spmatrix(\n",
    "                mlb.fit_transform(token_df.pop('CUI')),\n",
    "                index=token_df.index,\n",
    "                columns=mlb.classes_)\n",
    "\n",
    "#Variance Filtering: filtering out near zero variance features from data frame while preserving names\n",
    "selector = VarianceThreshold(.99 * (1 - .99))\n",
    "tokensArray = selector.fit_transform(tokensOneHot)"
   ]
  },
  {
   "cell_type": "code",
   "execution_count": 28,
   "id": "03972689",
   "metadata": {},
   "outputs": [
    {
     "name": "stdout",
     "output_type": "stream",
     "text": [
      "loading and joining with unstructured data\n",
      "(4393, 1078) (4393, 556) (4393, 1)\n"
     ]
    }
   ],
   "source": [
    "print('loading and joining with unstructured data')\n",
    "# lowva_structured = pd.read_csv('gs://stanfordoptimagroup/STRIDE/lowva/lowva-structured-02.csv', delimiter = \",\")\n",
    "\n",
    "outputArray = []\n",
    "structuredArray = []\n",
    "for key in tokenDict: #to make sure that it's the same order as the tokenArray\n",
    "    structvalues = structuredDict[key]\n",
    "    output = outputDict[key]\n",
    "    \n",
    "    structuredArray.append(structvalues)\n",
    "    outputArray.append(output)\n",
    "\n",
    "del structuredDict\n",
    "del outputDict\n",
    "del tokenDict\n",
    "\n",
    "outputArray = np.array(outputArray)\n",
    "structuredArray = np.array(structuredArray)\n",
    "tokenArray = tokensArray.toarray() # after variance filtering, need to convert from sparse array to dense\n",
    "\n",
    "print(tokenArray.shape, structuredArray.shape, outputArray.shape)"
   ]
  },
  {
   "cell_type": "markdown",
   "id": "be1c272a",
   "metadata": {},
   "source": [
    "# (Model A) Structured Model"
   ]
  },
  {
   "cell_type": "code",
   "execution_count": 9,
   "id": "8ab84994",
   "metadata": {},
   "outputs": [
    {
     "name": "stderr",
     "output_type": "stream",
     "text": [
      "2021-09-12 05:39:00.172291: I tensorflow/core/platform/cpu_feature_guard.cc:142] This TensorFlow binary is optimized with oneAPI Deep Neural Network Library (oneDNN) to use the following CPU instructions in performance-critical operations:  SSE4.1 SSE4.2 AVX AVX2 FMA\n",
      "To enable them in other operations, rebuild TensorFlow with the appropriate compiler flags.\n"
     ]
    }
   ],
   "source": [
    "total_input = tf.data.Dataset.from_tensor_slices(structuredArray)\n",
    "total_output = tf.data.Dataset.from_tensor_slices(outputArray)\n",
    "total_dataset = tf.data.Dataset.zip((total_input, total_output))\n",
    "train_dataset = total_dataset.skip(600).shuffle(1000).batch(15)\n",
    "validation_dataset = total_dataset.skip(300).take(300).batch(15)\n",
    "test_dataset = total_dataset.take(300).batch(15)"
   ]
  },
  {
   "cell_type": "code",
   "execution_count": 14,
   "id": "91ea85ea",
   "metadata": {},
   "outputs": [
    {
     "name": "stdout",
     "output_type": "stream",
     "text": [
      "Model: \"model_1\"\n",
      "_________________________________________________________________\n",
      "Layer (type)                 Output Shape              Param #   \n",
      "=================================================================\n",
      "input_2 (InputLayer)         [(None, 556)]             0         \n",
      "_________________________________________________________________\n",
      "dense_3 (Dense)              (None, 64)                35648     \n",
      "_________________________________________________________________\n",
      "dropout_1 (Dropout)          (None, 64)                0         \n",
      "_________________________________________________________________\n",
      "dense_4 (Dense)              (None, 64)                4160      \n",
      "_________________________________________________________________\n",
      "dense_5 (Dense)              (None, 1)                 65        \n",
      "=================================================================\n",
      "Total params: 39,873\n",
      "Trainable params: 39,873\n",
      "Non-trainable params: 0\n",
      "_________________________________________________________________\n",
      "Epoch 1/80\n",
      "253/253 [==============================] - 2s 4ms/step - loss: 1.5663 - tp: 201.2441 - fp: 129.1063 - tn: 1080.2795 - fn: 501.7953 - sen: 0.2744 - prc: 0.5702 - auroc: 0.6506 - acc: 0.6522 - val_loss: 0.7169 - val_tp: 48.0000 - val_fp: 28.0000 - val_tn: 171.0000 - val_fn: 53.0000 - val_sen: 0.4752 - val_prc: 0.6316 - val_auroc: 0.7674 - val_acc: 0.7300\n",
      "Epoch 2/80\n",
      "253/253 [==============================] - 0s 1ms/step - loss: 0.7141 - tp: 285.7244 - fp: 126.7362 - tn: 1074.3976 - fn: 425.5669 - sen: 0.4006 - prc: 0.6833 - auroc: 0.7619 - acc: 0.7073 - val_loss: 0.6142 - val_tp: 41.0000 - val_fp: 17.0000 - val_tn: 182.0000 - val_fn: 60.0000 - val_sen: 0.4059 - val_prc: 0.7069 - val_auroc: 0.7725 - val_acc: 0.7433\n",
      "Epoch 3/80\n",
      "253/253 [==============================] - 0s 1ms/step - loss: 0.6347 - tp: 312.7913 - fp: 142.5236 - tn: 1066.7165 - fn: 390.3937 - sen: 0.4438 - prc: 0.6852 - auroc: 0.7741 - acc: 0.7212 - val_loss: 0.5978 - val_tp: 55.0000 - val_fp: 26.0000 - val_tn: 173.0000 - val_fn: 46.0000 - val_sen: 0.5446 - val_prc: 0.6790 - val_auroc: 0.7735 - val_acc: 0.7600\n",
      "Epoch 4/80\n",
      "253/253 [==============================] - 0s 2ms/step - loss: 0.6057 - tp: 349.8268 - fp: 147.6299 - tn: 1056.6417 - fn: 358.3268 - sen: 0.5096 - prc: 0.7057 - auroc: 0.7887 - acc: 0.7381 - val_loss: 0.5950 - val_tp: 59.0000 - val_fp: 31.0000 - val_tn: 168.0000 - val_fn: 42.0000 - val_sen: 0.5842 - val_prc: 0.6556 - val_auroc: 0.7753 - val_acc: 0.7567\n",
      "Epoch 5/80\n",
      "253/253 [==============================] - 0s 2ms/step - loss: 0.5926 - tp: 355.2008 - fp: 153.4646 - tn: 1058.2756 - fn: 345.4843 - sen: 0.5171 - prc: 0.7016 - auroc: 0.7954 - acc: 0.7444 - val_loss: 0.5873 - val_tp: 56.0000 - val_fp: 25.0000 - val_tn: 174.0000 - val_fn: 45.0000 - val_sen: 0.5545 - val_prc: 0.6914 - val_auroc: 0.7812 - val_acc: 0.7667\n",
      "Epoch 6/80\n",
      "253/253 [==============================] - 0s 2ms/step - loss: 0.5851 - tp: 354.9961 - fp: 152.4094 - tn: 1060.0827 - fn: 344.9370 - sen: 0.5059 - prc: 0.6949 - auroc: 0.8005 - acc: 0.7408 - val_loss: 0.5813 - val_tp: 45.0000 - val_fp: 12.0000 - val_tn: 187.0000 - val_fn: 56.0000 - val_sen: 0.4455 - val_prc: 0.7895 - val_auroc: 0.7812 - val_acc: 0.7733\n",
      "Epoch 7/80\n",
      "253/253 [==============================] - 0s 1ms/step - loss: 0.5845 - tp: 367.9370 - fp: 151.1811 - tn: 1055.1299 - fn: 338.1772 - sen: 0.5101 - prc: 0.7125 - auroc: 0.7975 - acc: 0.7449 - val_loss: 0.5873 - val_tp: 51.0000 - val_fp: 19.0000 - val_tn: 180.0000 - val_fn: 50.0000 - val_sen: 0.5050 - val_prc: 0.7286 - val_auroc: 0.7750 - val_acc: 0.7700\n",
      "Epoch 8/80\n",
      "253/253 [==============================] - 0s 1ms/step - loss: 0.5899 - tp: 354.9843 - fp: 144.9094 - tn: 1066.2520 - fn: 346.2795 - sen: 0.5024 - prc: 0.7077 - auroc: 0.7925 - acc: 0.7445 - val_loss: 0.5856 - val_tp: 42.0000 - val_fp: 13.0000 - val_tn: 186.0000 - val_fn: 59.0000 - val_sen: 0.4158 - val_prc: 0.7636 - val_auroc: 0.7794 - val_acc: 0.7600\n",
      "\n",
      "Epoch 00008: ReduceLROnPlateau reducing learning rate to 0.00010000000474974513.\n",
      "Epoch 9/80\n",
      "253/253 [==============================] - 0s 2ms/step - loss: 0.5716 - tp: 357.4252 - fp: 127.3386 - tn: 1078.9370 - fn: 348.7244 - sen: 0.4910 - prc: 0.7354 - auroc: 0.8148 - acc: 0.7490 - val_loss: 0.5832 - val_tp: 57.0000 - val_fp: 27.0000 - val_tn: 172.0000 - val_fn: 44.0000 - val_sen: 0.5644 - val_prc: 0.6786 - val_auroc: 0.7791 - val_acc: 0.7633\n",
      "Epoch 10/80\n",
      "253/253 [==============================] - 0s 1ms/step - loss: 0.5609 - tp: 398.7992 - fp: 142.9606 - tn: 1063.5433 - fn: 307.1220 - sen: 0.5624 - prc: 0.7238 - auroc: 0.8198 - acc: 0.7616 - val_loss: 0.5779 - val_tp: 58.0000 - val_fp: 27.0000 - val_tn: 172.0000 - val_fn: 43.0000 - val_sen: 0.5743 - val_prc: 0.6824 - val_auroc: 0.7809 - val_acc: 0.7667\n",
      "Epoch 11/80\n",
      "253/253 [==============================] - 0s 2ms/step - loss: 0.5559 - tp: 408.7756 - fp: 148.5394 - tn: 1053.0354 - fn: 302.0748 - sen: 0.5759 - prc: 0.7411 - auroc: 0.8230 - acc: 0.7635 - val_loss: 0.5733 - val_tp: 56.0000 - val_fp: 23.0000 - val_tn: 176.0000 - val_fn: 45.0000 - val_sen: 0.5545 - val_prc: 0.7089 - val_auroc: 0.7819 - val_acc: 0.7733\n",
      "Epoch 12/80\n",
      "253/253 [==============================] - 0s 1ms/step - loss: 0.5416 - tp: 424.4291 - fp: 136.2323 - tn: 1064.2835 - fn: 287.4803 - sen: 0.5958 - prc: 0.7537 - auroc: 0.8404 - acc: 0.7739 - val_loss: 0.5737 - val_tp: 56.0000 - val_fp: 24.0000 - val_tn: 175.0000 - val_fn: 45.0000 - val_sen: 0.5545 - val_prc: 0.7000 - val_auroc: 0.7817 - val_acc: 0.7700\n",
      "Epoch 13/80\n",
      "253/253 [==============================] - 0s 2ms/step - loss: 0.5372 - tp: 412.8346 - fp: 145.8189 - tn: 1071.1929 - fn: 282.5787 - sen: 0.5983 - prc: 0.7407 - auroc: 0.8395 - acc: 0.7755 - val_loss: 0.5754 - val_tp: 60.0000 - val_fp: 27.0000 - val_tn: 172.0000 - val_fn: 41.0000 - val_sen: 0.5941 - val_prc: 0.6897 - val_auroc: 0.7809 - val_acc: 0.7733\n",
      "\n",
      "Epoch 00013: ReduceLROnPlateau reducing learning rate to 1.0000000474974514e-05.\n",
      "Epoch 14/80\n",
      "253/253 [==============================] - 0s 2ms/step - loss: 0.5338 - tp: 444.6102 - fp: 148.6299 - tn: 1054.5354 - fn: 264.6496 - sen: 0.6351 - prc: 0.7531 - auroc: 0.8447 - acc: 0.7837 - val_loss: 0.5742 - val_tp: 59.0000 - val_fp: 26.0000 - val_tn: 173.0000 - val_fn: 42.0000 - val_sen: 0.5842 - val_prc: 0.6941 - val_auroc: 0.7810 - val_acc: 0.7733\n",
      "Epoch 15/80\n",
      "253/253 [==============================] - 0s 2ms/step - loss: 0.5320 - tp: 444.2913 - fp: 160.2756 - tn: 1044.8780 - fn: 262.9803 - sen: 0.6256 - prc: 0.7224 - auroc: 0.8436 - acc: 0.7733 - val_loss: 0.5737 - val_tp: 59.0000 - val_fp: 25.0000 - val_tn: 174.0000 - val_fn: 42.0000 - val_sen: 0.5842 - val_prc: 0.7024 - val_auroc: 0.7816 - val_acc: 0.7767\n",
      "Restoring model weights from the end of the best epoch.\n",
      "\n",
      "Epoch 00015: ReduceLROnPlateau reducing learning rate to 1.0000000656873453e-06.\n",
      "Epoch 00015: early stopping\n",
      "20/20 [==============================] - 0s 1ms/step - loss: 0.5733 - tp: 56.0000 - fp: 23.0000 - tn: 176.0000 - fn: 45.0000 - sen: 0.5545 - prc: 0.7089 - auroc: 0.7819 - acc: 0.7733\n"
     ]
    },
    {
     "data": {
      "text/plain": [
       "[0.573265790939331,\n",
       " 56.0,\n",
       " 23.0,\n",
       " 176.0,\n",
       " 45.0,\n",
       " 0.5544554591178894,\n",
       " 0.7088607549667358,\n",
       " 0.7818797826766968,\n",
       " 0.7733333110809326]"
      ]
     },
     "execution_count": 14,
     "metadata": {},
     "output_type": "execute_result"
    }
   ],
   "source": [
    "input2 = tf.keras.Input(shape=(structuredArray.shape[1],))\n",
    "sl = tf.keras.layers.Dense(480, activation='relu', kernel_regularizer=tf.keras.regularizers.l2())(input2)\n",
    "sl = tf.keras.layers.Dropout(0.5)(sl)\n",
    "sl = tf.keras.layers.Dense(608, activation='relu', kernel_regularizer=tf.keras.regularizers.l2())(sl)\n",
    "output = tf.keras.layers.Dense(1, activation='sigmoid')(sl)\n",
    "\n",
    "model = tf.keras.Model(inputs = input2, outputs = output)\n",
    "model.summary()\n",
    "\n",
    "metrics = [\n",
    "    tf.keras.metrics.TruePositives(name='tp'), \n",
    "    tf.keras.metrics.FalsePositives(name='fp'), \n",
    "    tf.keras.metrics.TrueNegatives(name='tn'), \n",
    "    tf.keras.metrics.FalseNegatives(name='fn'), \n",
    "    tf.keras.metrics.Recall(name='sen'), \n",
    "    tf.keras.metrics.Precision(name='prc'), \n",
    "    tf.keras.metrics.AUC(name='auroc'), \n",
    "    tf.keras.metrics.BinaryAccuracy(name='acc')\n",
    "]\n",
    "\n",
    "callbacks=[\n",
    "    tf.keras.callbacks.EarlyStopping(patience=4, verbose=1, restore_best_weights=True, min_delta=0.0001), \n",
    "    tf.keras.callbacks.ReduceLROnPlateau(factor=0.1, patience=2, verbose=1),\n",
    "]\n",
    "model.compile(optimizer=tf.keras.optimizers.Adam(0.001), loss='binary_crossentropy', metrics=metrics)\n",
    "history = model.fit(train_dataset, epochs=80, validation_data=validation_dataset, verbose=1, callbacks=callbacks)\n",
    "model.evaluate(validation_dataset)\n",
    "y_pred = model.predict(validation_dataset)\n",
    "# model.save_weights('final/struct00_lowva_weights')"
   ]
  },
  {
   "cell_type": "markdown",
   "id": "cd6b8aba",
   "metadata": {},
   "source": [
    "loss: 0.5712 - tp: 59.0000 - fp: 25.0000 - tn: 174.0000 - fn: 42.0000 - sen: 0.5842 - prc: 0.7024 - auroc: 0.7858 - acc: 0.7767"
   ]
  },
  {
   "cell_type": "code",
   "execution_count": 11,
   "id": "52b9c82f",
   "metadata": {},
   "outputs": [],
   "source": [
    "model.save_weights('final/struct00_lowva_weights')"
   ]
  },
  {
   "cell_type": "code",
   "execution_count": 12,
   "id": "a77b0001",
   "metadata": {},
   "outputs": [
    {
     "data": {
      "image/png": "[encoded data removed]",
      "text/plain": [
       "<Figure size 432x288 with 1 Axes>"
      ]
     },
     "metadata": {
      "needs_background": "light"
     },
     "output_type": "display_data"
    },
    {
     "data": {
      "image/png": "[encoded data removed]",
      "text/plain": [
       "<Figure size 432x288 with 1 Axes>"
      ]
     },
     "metadata": {
      "needs_background": "light"
     },
     "output_type": "display_data"
    },
    {
     "data": {
      "image/png": "[encoded data removed]",
      "text/plain": [
       "<Figure size 432x288 with 1 Axes>"
      ]
     },
     "metadata": {
      "needs_background": "light"
     },
     "output_type": "display_data"
    }
   ],
   "source": [
    "plt_loss(history)\n",
    "plt_acc(history)\n",
    "plt_roc(validation_dataset, y_pred)"
   ]
  },
  {
   "cell_type": "markdown",
   "id": "0f749c92",
   "metadata": {},
   "source": [
    "# (Model C) CUI One-hot text model"
   ]
  },
  {
   "cell_type": "code",
   "execution_count": 27,
   "id": "8b5a729e",
   "metadata": {},
   "outputs": [],
   "source": [
    "total_input = tf.data.Dataset.from_tensor_slices(tokenArray)\n",
    "total_output = tf.data.Dataset.from_tensor_slices(outputArray)\n",
    "total_dataset = tf.data.Dataset.zip((total_input, total_output))\n",
    "train_dataset = total_dataset.skip(600).shuffle(1000).batch(15)\n",
    "validation_dataset = total_dataset.skip(300).take(300).batch(15)\n",
    "test_dataset = total_dataset.take(300).batch(15)"
   ]
  },
  {
   "cell_type": "code",
   "execution_count": 28,
   "id": "531eaf65",
   "metadata": {},
   "outputs": [
    {
     "name": "stdout",
     "output_type": "stream",
     "text": [
      "Model: \"model_3\"\n",
      "_________________________________________________________________\n",
      "Layer (type)                 Output Shape              Param #   \n",
      "=================================================================\n",
      "input_5 (InputLayer)         [(None, 1078)]            0         \n",
      "_________________________________________________________________\n",
      "dense_10 (Dense)             (None, 608)               656032    \n",
      "_________________________________________________________________\n",
      "dropout_4 (Dropout)          (None, 608)               0         \n",
      "_________________________________________________________________\n",
      "dense_11 (Dense)             (None, 608)               370272    \n",
      "_________________________________________________________________\n",
      "dense_12 (Dense)             (None, 1)                 609       \n",
      "=================================================================\n",
      "Total params: 1,026,913\n",
      "Trainable params: 1,026,913\n",
      "Non-trainable params: 0\n",
      "_________________________________________________________________\n",
      "Epoch 1/80\n",
      "253/253 [==============================] - 3s 6ms/step - loss: 11.8787 - tp: 28.2520 - fp: 60.8307 - tn: 1139.6969 - fn: 683.6457 - sen: 0.0902 - prc: 0.3172 - auroc: 0.5815 - acc: 0.5890 - val_loss: 6.0083 - val_tp: 1.0000 - val_fp: 0.0000e+00 - val_tn: 199.0000 - val_fn: 100.0000 - val_sen: 0.0099 - val_prc: 1.0000 - val_auroc: 0.6591 - val_acc: 0.6667\n",
      "Epoch 2/80\n",
      "253/253 [==============================] - 1s 4ms/step - loss: 4.9446 - tp: 52.0157 - fp: 12.4803 - tn: 1194.7323 - fn: 653.1969 - sen: 0.0588 - prc: 0.8518 - auroc: 0.6926 - acc: 0.6497 - val_loss: 2.6283 - val_tp: 21.0000 - val_fp: 17.0000 - val_tn: 182.0000 - val_fn: 80.0000 - val_sen: 0.2079 - val_prc: 0.5526 - val_auroc: 0.6769 - val_acc: 0.6767\n",
      "Epoch 3/80\n",
      "253/253 [==============================] - 1s 4ms/step - loss: 2.2332 - tp: 162.3071 - fp: 65.7559 - tn: 1132.8110 - fn: 551.5512 - sen: 0.2243 - prc: 0.7220 - auroc: 0.7279 - acc: 0.6734 - val_loss: 1.3932 - val_tp: 20.0000 - val_fp: 16.0000 - val_tn: 183.0000 - val_fn: 81.0000 - val_sen: 0.1980 - val_prc: 0.5556 - val_auroc: 0.6916 - val_acc: 0.6767\n",
      "Epoch 4/80\n",
      "253/253 [==============================] - 1s 4ms/step - loss: 1.2368 - tp: 237.3465 - fp: 97.8228 - tn: 1112.5827 - fn: 464.6732 - sen: 0.3314 - prc: 0.7251 - auroc: 0.7574 - acc: 0.7108 - val_loss: 0.9641 - val_tp: 38.0000 - val_fp: 31.0000 - val_tn: 168.0000 - val_fn: 63.0000 - val_sen: 0.3762 - val_prc: 0.5507 - val_auroc: 0.6954 - val_acc: 0.6867\n",
      "Epoch 5/80\n",
      "253/253 [==============================] - 1s 4ms/step - loss: 0.8819 - tp: 300.8937 - fp: 133.0118 - tn: 1073.6772 - fn: 404.8425 - sen: 0.4257 - prc: 0.6890 - auroc: 0.7756 - acc: 0.7142 - val_loss: 0.8038 - val_tp: 47.0000 - val_fp: 36.0000 - val_tn: 163.0000 - val_fn: 54.0000 - val_sen: 0.4653 - val_prc: 0.5663 - val_auroc: 0.7042 - val_acc: 0.7000\n",
      "Epoch 6/80\n",
      "253/253 [==============================] - 1s 4ms/step - loss: 0.7446 - tp: 323.9488 - fp: 146.6181 - tn: 1064.3543 - fn: 377.5039 - sen: 0.4655 - prc: 0.6755 - auroc: 0.7860 - acc: 0.7219 - val_loss: 0.7435 - val_tp: 35.0000 - val_fp: 23.0000 - val_tn: 176.0000 - val_fn: 66.0000 - val_sen: 0.3465 - val_prc: 0.6034 - val_auroc: 0.6976 - val_acc: 0.7033\n",
      "Epoch 7/80\n",
      "253/253 [==============================] - 1s 4ms/step - loss: 0.6793 - tp: 350.3386 - fp: 136.8622 - tn: 1072.8346 - fn: 352.3898 - sen: 0.4809 - prc: 0.7315 - auroc: 0.8003 - acc: 0.7420 - val_loss: 0.7124 - val_tp: 42.0000 - val_fp: 29.0000 - val_tn: 170.0000 - val_fn: 59.0000 - val_sen: 0.4158 - val_prc: 0.5915 - val_auroc: 0.7021 - val_acc: 0.7067\n",
      "Epoch 8/80\n",
      "253/253 [==============================] - 1s 4ms/step - loss: 0.6427 - tp: 363.1890 - fp: 153.7953 - tn: 1057.6378 - fn: 337.8031 - sen: 0.5063 - prc: 0.7068 - auroc: 0.8103 - acc: 0.7419 - val_loss: 0.7062 - val_tp: 52.0000 - val_fp: 44.0000 - val_tn: 155.0000 - val_fn: 49.0000 - val_sen: 0.5149 - val_prc: 0.5417 - val_auroc: 0.6992 - val_acc: 0.6900\n",
      "Epoch 9/80\n",
      "253/253 [==============================] - 1s 4ms/step - loss: 0.6260 - tp: 380.5394 - fp: 151.5354 - tn: 1057.3110 - fn: 323.0394 - sen: 0.5316 - prc: 0.7124 - auroc: 0.8158 - acc: 0.7479 - val_loss: 0.7006 - val_tp: 55.0000 - val_fp: 50.0000 - val_tn: 149.0000 - val_fn: 46.0000 - val_sen: 0.5446 - val_prc: 0.5238 - val_auroc: 0.7028 - val_acc: 0.6800\n",
      "Epoch 10/80\n",
      "253/253 [==============================] - 1s 4ms/step - loss: 0.6045 - tp: 381.2165 - fp: 136.0079 - tn: 1077.1102 - fn: 318.0906 - sen: 0.5489 - prc: 0.7525 - auroc: 0.8312 - acc: 0.7669 - val_loss: 0.7058 - val_tp: 58.0000 - val_fp: 52.0000 - val_tn: 147.0000 - val_fn: 43.0000 - val_sen: 0.5743 - val_prc: 0.5273 - val_auroc: 0.6997 - val_acc: 0.6833\n",
      "Epoch 11/80\n",
      "253/253 [==============================] - 1s 4ms/step - loss: 0.5818 - tp: 415.8504 - fp: 139.6220 - tn: 1069.2874 - fn: 287.6654 - sen: 0.5992 - prc: 0.7558 - auroc: 0.8507 - acc: 0.7813 - val_loss: 0.7032 - val_tp: 47.0000 - val_fp: 42.0000 - val_tn: 157.0000 - val_fn: 54.0000 - val_sen: 0.4653 - val_prc: 0.5281 - val_auroc: 0.6947 - val_acc: 0.6800\n",
      "\n",
      "Epoch 00011: ReduceLROnPlateau reducing learning rate to 9.999999747378752e-06.\n",
      "Epoch 12/80\n",
      "253/253 [==============================] - 1s 4ms/step - loss: 0.5610 - tp: 457.3780 - fp: 124.4606 - tn: 1084.7756 - fn: 245.8110 - sen: 0.6495 - prc: 0.7973 - auroc: 0.8770 - acc: 0.8069 - val_loss: 0.7023 - val_tp: 47.0000 - val_fp: 41.0000 - val_tn: 158.0000 - val_fn: 54.0000 - val_sen: 0.4653 - val_prc: 0.5341 - val_auroc: 0.6991 - val_acc: 0.6833\n",
      "Epoch 13/80\n",
      "253/253 [==============================] - 1s 4ms/step - loss: 0.5615 - tp: 432.6378 - fp: 131.9567 - tn: 1083.0827 - fn: 264.7480 - sen: 0.6117 - prc: 0.7723 - auroc: 0.8722 - acc: 0.7898 - val_loss: 0.7052 - val_tp: 51.0000 - val_fp: 46.0000 - val_tn: 153.0000 - val_fn: 50.0000 - val_sen: 0.5050 - val_prc: 0.5258 - val_auroc: 0.7008 - val_acc: 0.6800\n",
      "Restoring model weights from the end of the best epoch.\n",
      "\n",
      "Epoch 00013: ReduceLROnPlateau reducing learning rate to 9.999999747378752e-07.\n",
      "Epoch 00013: early stopping\n",
      "20/20 [==============================] - 0s 2ms/step - loss: 0.7006 - tp: 55.0000 - fp: 50.0000 - tn: 149.0000 - fn: 46.0000 - sen: 0.5446 - prc: 0.5238 - auroc: 0.7028 - acc: 0.6800\n"
     ]
    },
    {
     "data": {
      "text/plain": [
       "[0.7006216645240784,\n",
       " 55.0,\n",
       " 50.0,\n",
       " 149.0,\n",
       " 46.0,\n",
       " 0.5445544719696045,\n",
       " 0.523809552192688,\n",
       " 0.7028459310531616,\n",
       " 0.6800000071525574]"
      ]
     },
     "execution_count": 28,
     "metadata": {},
     "output_type": "execute_result"
    }
   ],
   "source": [
    "input2 = tf.keras.Input(shape=(tokenArray.shape[1],))\n",
    "sl = tf.keras.layers.Dense(608, activation='relu', kernel_regularizer=tf.keras.regularizers.l2())(input2)\n",
    "sl = tf.keras.layers.Dropout(0.40)(sl)\n",
    "sl = tf.keras.layers.Dense(608, activation='relu', kernel_regularizer=tf.keras.regularizers.l2())(sl)\n",
    "output = tf.keras.layers.Dense(1, activation='sigmoid')(sl)\n",
    "\n",
    "model = tf.keras.Model(inputs = input2, outputs = output)\n",
    "\n",
    "model.summary()\n",
    "\n",
    "metrics = [\n",
    "    tf.keras.metrics.TruePositives(name='tp'), \n",
    "    tf.keras.metrics.FalsePositives(name='fp'), \n",
    "    tf.keras.metrics.TrueNegatives(name='tn'), \n",
    "    tf.keras.metrics.FalseNegatives(name='fn'), \n",
    "    tf.keras.metrics.Recall(name='sen'), \n",
    "    tf.keras.metrics.Precision(name='prc'), \n",
    "    tf.keras.metrics.AUC(name='auroc'), \n",
    "    tf.keras.metrics.BinaryAccuracy(name='acc')\n",
    "]\n",
    "\n",
    "callbacks=[\n",
    "    tf.keras.callbacks.EarlyStopping(patience=4, verbose=1, restore_best_weights=True, min_delta=0.0001), \n",
    "    tf.keras.callbacks.ReduceLROnPlateau(factor=0.1, patience=2, verbose=1),\n",
    "]\n",
    "model.compile(optimizer=tf.keras.optimizers.Adam(0.0001), loss='binary_crossentropy', metrics=metrics)\n",
    "history = model.fit(train_dataset, epochs=80, validation_data=validation_dataset, verbose=1, callbacks=callbacks)\n",
    "model.evaluate(validation_dataset) #prints out the metrics\n",
    "model.save_weights('final/struct01_lowva_weights')"
   ]
  },
  {
   "cell_type": "markdown",
   "id": "92040404",
   "metadata": {},
   "source": [
    "loss: 0.7006 - tp: 55.0000 - fp: 50.0000 - tn: 149.0000 - fn: 46.0000 - sen: 0.5446 - prc: 0.5238 - auroc: 0.7028 - acc: 0.6800"
   ]
  },
  {
   "cell_type": "code",
   "execution_count": 29,
   "id": "7f4fe834",
   "metadata": {},
   "outputs": [
    {
     "data": {
      "image/png": "[encoded data removed]",
      "text/plain": [
       "<Figure size 432x288 with 1 Axes>"
      ]
     },
     "metadata": {
      "needs_background": "light"
     },
     "output_type": "display_data"
    },
    {
     "data": {
      "image/png": "[encoded data removed]",
      "text/plain": [
       "<Figure size 432x288 with 1 Axes>"
      ]
     },
     "metadata": {
      "needs_background": "light"
     },
     "output_type": "display_data"
    },
    {
     "data": {
      "image/png": "[encoded data removed]",
      "text/plain": [
       "<Figure size 432x288 with 1 Axes>"
      ]
     },
     "metadata": {
      "needs_background": "light"
     },
     "output_type": "display_data"
    }
   ],
   "source": [
    "plt_loss(history)\n",
    "plt_acc(history)\n",
    "plt_roc(validation_dataset, y_pred)"
   ]
  },
  {
   "cell_type": "markdown",
   "id": "26a380dd",
   "metadata": {},
   "source": [
    "# (Model F) Structured and CUI one-hot combined model"
   ]
  },
  {
   "cell_type": "code",
   "execution_count": 16,
   "id": "e5907724",
   "metadata": {},
   "outputs": [],
   "source": [
    "total_input = tf.data.Dataset.from_tensor_slices(np.hstack((tokenArray, structuredArray)))\n",
    "total_output = tf.data.Dataset.from_tensor_slices(outputArray)\n",
    "total_dataset = tf.data.Dataset.zip((total_input, total_output))\n",
    "train_dataset = total_dataset.skip(600).shuffle(1000).batch(15)\n",
    "validation_dataset = total_dataset.skip(300).take(300).batch(15)\n",
    "test_dataset = total_dataset.take(300).batch(15)"
   ]
  },
  {
   "cell_type": "code",
   "execution_count": 17,
   "id": "bd411aae",
   "metadata": {},
   "outputs": [
    {
     "name": "stdout",
     "output_type": "stream",
     "text": [
      "Model: \"model_2\"\n",
      "_________________________________________________________________\n",
      "Layer (type)                 Output Shape              Param #   \n",
      "=================================================================\n",
      "input_3 (InputLayer)         [(None, 1634)]            0         \n",
      "_________________________________________________________________\n",
      "dense_6 (Dense)              (None, 704)               1151040   \n",
      "_________________________________________________________________\n",
      "dropout_2 (Dropout)          (None, 704)               0         \n",
      "_________________________________________________________________\n",
      "dense_7 (Dense)              (None, 448)               315840    \n",
      "_________________________________________________________________\n",
      "dense_8 (Dense)              (None, 1)                 449       \n",
      "=================================================================\n",
      "Total params: 1,467,329\n",
      "Trainable params: 1,467,329\n",
      "Non-trainable params: 0\n",
      "_________________________________________________________________\n",
      "Epoch 1/80\n",
      "253/253 [==============================] - 3s 6ms/step - loss: 5.1125 - tp: 281.9409 - fp: 171.7087 - tn: 1040.8819 - fn: 417.8937 - sen: 0.3679 - prc: 0.5758 - auroc: 0.6864 - acc: 0.6794 - val_loss: 0.6984 - val_tp: 52.0000 - val_fp: 29.0000 - val_tn: 170.0000 - val_fn: 49.0000 - val_sen: 0.5149 - val_prc: 0.6420 - val_auroc: 0.7712 - val_acc: 0.7400\n",
      "Epoch 2/80\n",
      "253/253 [==============================] - 1s 4ms/step - loss: 0.7166 - tp: 326.3937 - fp: 149.0669 - tn: 1063.3819 - fn: 373.5827 - sen: 0.4775 - prc: 0.6893 - auroc: 0.7695 - acc: 0.7315 - val_loss: 0.6511 - val_tp: 55.0000 - val_fp: 36.0000 - val_tn: 163.0000 - val_fn: 46.0000 - val_sen: 0.5446 - val_prc: 0.6044 - val_auroc: 0.7690 - val_acc: 0.7267\n",
      "Epoch 3/80\n",
      "253/253 [==============================] - 1s 4ms/step - loss: 0.6624 - tp: 336.2795 - fp: 156.4134 - tn: 1055.1929 - fn: 364.5394 - sen: 0.4859 - prc: 0.6854 - auroc: 0.7780 - acc: 0.7300 - val_loss: 0.6359 - val_tp: 57.0000 - val_fp: 29.0000 - val_tn: 170.0000 - val_fn: 44.0000 - val_sen: 0.5644 - val_prc: 0.6628 - val_auroc: 0.7782 - val_acc: 0.7567\n",
      "Epoch 4/80\n",
      "253/253 [==============================] - 1s 4ms/step - loss: 0.6580 - tp: 358.1929 - fp: 160.9055 - tn: 1050.5512 - fn: 342.7756 - sen: 0.5224 - prc: 0.6942 - auroc: 0.7874 - acc: 0.7379 - val_loss: 0.6613 - val_tp: 62.0000 - val_fp: 43.0000 - val_tn: 156.0000 - val_fn: 39.0000 - val_sen: 0.6139 - val_prc: 0.5905 - val_auroc: 0.7603 - val_acc: 0.7267\n",
      "Epoch 5/80\n",
      "253/253 [==============================] - 1s 4ms/step - loss: 0.6638 - tp: 365.4331 - fp: 167.5394 - tn: 1040.0472 - fn: 339.4055 - sen: 0.5261 - prc: 0.6768 - auroc: 0.7737 - acc: 0.7319 - val_loss: 0.6406 - val_tp: 60.0000 - val_fp: 33.0000 - val_tn: 166.0000 - val_fn: 41.0000 - val_sen: 0.5941 - val_prc: 0.6452 - val_auroc: 0.7809 - val_acc: 0.7533\n",
      "\n",
      "Epoch 00005: ReduceLROnPlateau reducing learning rate to 0.00010000000474974513.\n",
      "Epoch 6/80\n",
      "253/253 [==============================] - 1s 4ms/step - loss: 0.6046 - tp: 386.8150 - fp: 142.7362 - tn: 1074.3858 - fn: 308.4882 - sen: 0.5495 - prc: 0.7152 - auroc: 0.8203 - acc: 0.7614 - val_loss: 0.6171 - val_tp: 61.0000 - val_fp: 37.0000 - val_tn: 162.0000 - val_fn: 40.0000 - val_sen: 0.6040 - val_prc: 0.6224 - val_auroc: 0.7865 - val_acc: 0.7433\n",
      "Epoch 7/80\n",
      "253/253 [==============================] - 1s 4ms/step - loss: 0.5744 - tp: 422.9724 - fp: 149.1772 - tn: 1061.8543 - fn: 278.4213 - sen: 0.6145 - prc: 0.7295 - auroc: 0.8379 - acc: 0.7729 - val_loss: 0.6063 - val_tp: 63.0000 - val_fp: 34.0000 - val_tn: 165.0000 - val_fn: 38.0000 - val_sen: 0.6238 - val_prc: 0.6495 - val_auroc: 0.7896 - val_acc: 0.7600\n",
      "Epoch 8/80\n",
      "253/253 [==============================] - 1s 4ms/step - loss: 0.5458 - tp: 417.1339 - fp: 120.3465 - tn: 1099.2874 - fn: 275.6575 - sen: 0.5914 - prc: 0.7610 - auroc: 0.8510 - acc: 0.7888 - val_loss: 0.6015 - val_tp: 63.0000 - val_fp: 29.0000 - val_tn: 170.0000 - val_fn: 38.0000 - val_sen: 0.6238 - val_prc: 0.6848 - val_auroc: 0.7887 - val_acc: 0.7767\n",
      "Epoch 9/80\n",
      "253/253 [==============================] - 1s 4ms/step - loss: 0.5465 - tp: 442.9528 - fp: 131.7087 - tn: 1076.4213 - fn: 261.3425 - sen: 0.6247 - prc: 0.7598 - auroc: 0.8492 - acc: 0.7898 - val_loss: 0.6009 - val_tp: 61.0000 - val_fp: 26.0000 - val_tn: 173.0000 - val_fn: 40.0000 - val_sen: 0.6040 - val_prc: 0.7011 - val_auroc: 0.7860 - val_acc: 0.7800\n",
      "Epoch 10/80\n",
      "253/253 [==============================] - 1s 4ms/step - loss: 0.5165 - tp: 469.7480 - fp: 117.9291 - tn: 1081.6693 - fn: 243.0787 - sen: 0.6665 - prc: 0.8001 - auroc: 0.8764 - acc: 0.8133 - val_loss: 0.6018 - val_tp: 61.0000 - val_fp: 27.0000 - val_tn: 172.0000 - val_fn: 40.0000 - val_sen: 0.6040 - val_prc: 0.6932 - val_auroc: 0.7842 - val_acc: 0.7767\n",
      "Epoch 11/80\n",
      "253/253 [==============================] - 1s 4ms/step - loss: 0.5069 - tp: 459.0827 - fp: 115.5394 - tn: 1105.2520 - fn: 232.5512 - sen: 0.6605 - prc: 0.7899 - auroc: 0.8760 - acc: 0.8156 - val_loss: 0.6146 - val_tp: 62.0000 - val_fp: 37.0000 - val_tn: 162.0000 - val_fn: 39.0000 - val_sen: 0.6139 - val_prc: 0.6263 - val_auroc: 0.7824 - val_acc: 0.7467\n",
      "\n",
      "Epoch 00011: ReduceLROnPlateau reducing learning rate to 1.0000000474974514e-05.\n",
      "Epoch 12/80\n",
      "253/253 [==============================] - 1s 4ms/step - loss: 0.4812 - tp: 504.2677 - fp: 116.7992 - tn: 1094.2598 - fn: 197.0984 - sen: 0.7175 - prc: 0.8009 - auroc: 0.9006 - acc: 0.8334 - val_loss: 0.6101 - val_tp: 62.0000 - val_fp: 32.0000 - val_tn: 167.0000 - val_fn: 39.0000 - val_sen: 0.6139 - val_prc: 0.6596 - val_auroc: 0.7826 - val_acc: 0.7633\n",
      "Epoch 13/80\n",
      "253/253 [==============================] - 1s 4ms/step - loss: 0.4806 - tp: 495.4252 - fp: 117.9724 - tn: 1095.2717 - fn: 203.7559 - sen: 0.7075 - prc: 0.8102 - auroc: 0.9026 - acc: 0.8315 - val_loss: 0.6081 - val_tp: 61.0000 - val_fp: 29.0000 - val_tn: 170.0000 - val_fn: 40.0000 - val_sen: 0.6040 - val_prc: 0.6778 - val_auroc: 0.7828 - val_acc: 0.7700\n",
      "Restoring model weights from the end of the best epoch.\n",
      "\n",
      "Epoch 00013: ReduceLROnPlateau reducing learning rate to 1.0000000656873453e-06.\n",
      "Epoch 00013: early stopping\n",
      "20/20 [==============================] - 0s 2ms/step - loss: 0.6009 - tp: 61.0000 - fp: 26.0000 - tn: 173.0000 - fn: 40.0000 - sen: 0.6040 - prc: 0.7011 - auroc: 0.7860 - acc: 0.7800\n"
     ]
    },
    {
     "data": {
      "text/plain": [
       "[0.6008745431900024,\n",
       " 61.0,\n",
       " 26.0,\n",
       " 173.0,\n",
       " 40.0,\n",
       " 0.603960394859314,\n",
       " 0.7011494040489197,\n",
       " 0.7859594821929932,\n",
       " 0.7799999713897705]"
      ]
     },
     "execution_count": 17,
     "metadata": {},
     "output_type": "execute_result"
    }
   ],
   "source": [
    "input2 = tf.keras.Input(shape=((tokenArray.shape[1]+structuredArray.shape[1]),))\n",
    "sl = tf.keras.layers.Dense(704, activation='relu', kernel_regularizer=tf.keras.regularizers.l2())(input2)\n",
    "sl = tf.keras.layers.Dropout(0.50)(sl)\n",
    "sl = tf.keras.layers.Dense(448, activation='relu', kernel_regularizer=tf.keras.regularizers.l2())(sl)\n",
    "output = tf.keras.layers.Dense(1, activation='sigmoid')(sl)\n",
    "\n",
    "#model = tf.keras.Model(inputs = input1, outputs = output)\n",
    "model = tf.keras.Model(inputs = input2, outputs = output)\n",
    "#model = tf.keras.Model(inputs = (input1, input2), outputs = output)\n",
    "model.summary()\n",
    "\n",
    "metrics = [\n",
    "    tf.keras.metrics.TruePositives(name='tp'), \n",
    "    tf.keras.metrics.FalsePositives(name='fp'), \n",
    "    tf.keras.metrics.TrueNegatives(name='tn'), \n",
    "    tf.keras.metrics.FalseNegatives(name='fn'), \n",
    "    tf.keras.metrics.Recall(name='sen'), \n",
    "    tf.keras.metrics.Precision(name='prc'), \n",
    "    tf.keras.metrics.AUC(name='auroc'), \n",
    "    tf.keras.metrics.BinaryAccuracy(name='acc')\n",
    "]\n",
    "callbacks=[\n",
    "    tf.keras.callbacks.EarlyStopping(patience=4, verbose=1, restore_best_weights=True, min_delta=0.0001), \n",
    "    tf.keras.callbacks.ReduceLROnPlateau(factor=0.1, patience=2, verbose=1)\n",
    "]\n",
    "model.compile(optimizer=tf.keras.optimizers.Adam(0.001), loss='binary_crossentropy', metrics=metrics)\n",
    "history = model.fit(train_dataset, epochs=80, validation_data=validation_dataset, verbose=1, callbacks=callbacks)\n",
    "model.evaluate(validation_dataset)\n",
    "y_pred = model.predict(validation_dataset)\n",
    "# model.save_weights('final/struct02_lowva_weights')"
   ]
  },
  {
   "cell_type": "markdown",
   "id": "b0559d27",
   "metadata": {},
   "source": [
    "loss: 0.6009 - tp: 61.0000 - fp: 26.0000 - tn: 173.0000 - fn: 40.0000 - sen: 0.6040 - prc: 0.7011 - auroc: 0.7860 - acc: 0.7800"
   ]
  },
  {
   "cell_type": "code",
   "execution_count": 40,
   "id": "d8d67f42",
   "metadata": {},
   "outputs": [
    {
     "data": {
      "image/png": "[encoded data removed]",
      "text/plain": [
       "<Figure size 432x288 with 1 Axes>"
      ]
     },
     "metadata": {
      "needs_background": "light"
     },
     "output_type": "display_data"
    },
    {
     "data": {
      "image/png": "[encoded data removed]",
      "text/plain": [
       "<Figure size 432x288 with 1 Axes>"
      ]
     },
     "metadata": {
      "needs_background": "light"
     },
     "output_type": "display_data"
    },
    {
     "data": {
      "image/png": "[encoded data removed]",
      "text/plain": [
       "<Figure size 432x288 with 1 Axes>"
      ]
     },
     "metadata": {
      "needs_background": "light"
     },
     "output_type": "display_data"
    }
   ],
   "source": [
    "plt_loss(history)\n",
    "plt_acc(history)\n",
    "plt_roc(validation_dataset, y_pred)"
   ]
  },
  {
   "cell_type": "markdown",
   "id": "7b7241d6",
   "metadata": {},
   "source": [
    "# Loading Data- Cui2vec embedding"
   ]
  },
  {
   "cell_type": "code",
   "execution_count": 12,
   "id": "f26afc96",
   "metadata": {},
   "outputs": [],
   "source": [
    "# Variance Threshold for word embedding (cui2vec)\n",
    "selector = VarianceThreshold(.99 * (1 - .99));\n",
    "selector.fit(tokensOneHot);\n",
    "tokenArray_df = tokensOneHot[tokensOneHot.columns[selector.get_support(indices=True)]];"
   ]
  },
  {
   "cell_type": "code",
   "execution_count": 13,
   "id": "9fdf6ae2",
   "metadata": {},
   "outputs": [
    {
     "name": "stdout",
     "output_type": "stream",
     "text": [
      "4392\n"
     ]
    }
   ],
   "source": [
    "vocabulary = set()\n",
    "cuiDict={}\n",
    "\n",
    "# Returning only positive cui's\n",
    "def adapt_cui(cui):\n",
    "    if 'n' in cui:\n",
    "        return ' '\n",
    "    if 'p' in cui:\n",
    "        return cui[0:len(cui)-1]\n",
    "\n",
    "# creating a vocab out of the cui's (creating a sentence from the extracted name-entities)\n",
    "pid_list_tokenDict = [*tokenDict]\n",
    "\n",
    "for index, row in tokenArray_df.iterrows(): #tokenArray_df is after variance filtering\n",
    "    for column in tokenArray_df: #iterating through all the columns to get the cui's\n",
    "        if (row[column] == 1): #only if patient has the cui\n",
    "            value = adapt_cui(column)\n",
    "            vocabulary.add(value)\n",
    "            key = pid_list_tokenDict[index]\n",
    "            if (key in cuiDict):\n",
    "                oldValue = cuiDict[key]\n",
    "                newValue = oldValue + ' ' + value\n",
    "                cuiDict[key] = newValue\n",
    "            else: \n",
    "                cuiDict[key] = value\n",
    "\n",
    "print(len(cuiDict))"
   ]
  },
  {
   "cell_type": "markdown",
   "id": "e00c3437",
   "metadata": {},
   "source": [
    "### Loading CUI's to create cui2vec embeddings (converting to \"sentence of cui's\")"
   ]
  },
  {
   "cell_type": "code",
   "execution_count": 14,
   "id": "1b2f664f",
   "metadata": {},
   "outputs": [
    {
     "name": "stdout",
     "output_type": "stream",
     "text": [
      "loading cui2vec vectors\n",
      "Loaded 109053 word vectors.\n"
     ]
    }
   ],
   "source": [
    "# Loading pertrained cui2vec embedding\n",
    "\n",
    "print('loading cui2vec vectors')\n",
    "cui2vec_df = pd.read_csv('gs://stanfordoptimagroup/STRIDE/lowva/cui2vec_pretrained.csv', delimiter = \",\")\n",
    "cui2vec_df.rename(columns={'Unnamed: 0':'CUI'}, inplace=True)\n",
    "cui2vec_map = cui2vec_df.set_index('CUI').T.to_dict('list') # Create dictionary from df\n",
    "\n",
    "print('Loaded %s word vectors.' % len(cui2vec_map))"
   ]
  },
  {
   "cell_type": "markdown",
   "id": "088a9ca1",
   "metadata": {},
   "source": [
    "### Loading pubmed word embeddings"
   ]
  },
  {
   "cell_type": "code",
   "execution_count": 15,
   "id": "16300d32",
   "metadata": {},
   "outputs": [],
   "source": [
    "extrinsicdata_df = pd.read_csv('../lowva-extrinsicdata.csv', delimiter = \",\", header=None)"
   ]
  },
  {
   "cell_type": "code",
   "execution_count": 16,
   "id": "c74abdcd",
   "metadata": {},
   "outputs": [
    {
     "name": "stdout",
     "output_type": "stream",
     "text": [
      "Vocab Pubmed Size 55940\n",
      "Creating wordDict\n",
      "Max Length of words in patient: 1000\n",
      "loading Pubmed EMR vectors\n"
     ]
    },
    {
     "name": "stderr",
     "output_type": "stream",
     "text": [
      "2021-11-08 04:23:17.328093: I tensorflow/core/platform/cpu_feature_guard.cc:142] This TensorFlow binary is optimized with oneAPI Deep Neural Network Library (oneDNN) to use the following CPU instructions in performance-critical operations:  SSE4.1 SSE4.2 AVX AVX2 FMA\n",
      "To enable them in other operations, rebuild TensorFlow with the appropriate compiler flags.\n"
     ]
    },
    {
     "name": "stdout",
     "output_type": "stream",
     "text": [
      "(55940, 300)\n"
     ]
    }
   ],
   "source": [
    "vocabulary_pubmed = []\n",
    "with open('../pubmed_cbow_vocabulary.txt', 'r') as f:\n",
    "    for row in f:\n",
    "        vocabulary_pubmed.append(row.strip())\n",
    "\n",
    "# Create Tokenizer\n",
    "vocabulary_pubmed_size = len(vocabulary_pubmed) + 2\n",
    "print('Vocab Pubmed Size', vocabulary_pubmed_size)\n",
    "tokenizer_pubmed = tfds.deprecated.text.Tokenizer()\n",
    "\n",
    "width = 1000\n",
    "pubmed_embedding_dimension = 300\n",
    "pubmed_encoder = tfds.deprecated.text.TokenTextEncoder(vocabulary_pubmed, tokenizer = tokenizer_pubmed)\n",
    "\n",
    "print('Creating wordDict')\n",
    "wordDict = {}\n",
    "\n",
    "for index, row in extrinsicdata_df.iterrows():\n",
    "    if (str(row[0]) in cuiDict): #make sure only including ones that have output results\n",
    "        key = str(row[0])\n",
    "        words = pubmed_encoder.encode(row[2])\n",
    "        words = words[0:width]\n",
    "        if len(words) < width:\n",
    "            words = words + [0 for i in range(width-len(words))] \n",
    "        wordDict[key] = words\n",
    "\n",
    "print('Max Length of words in patient:', width)\n",
    "\n",
    "print('loading Pubmed EMR vectors')\n",
    "model = tf.keras.models.load_model('../pubmed_cbow_embeddings.h5')\n",
    "pubmed_embedding_matrix = np.zeros((vocabulary_pubmed_size, pubmed_embedding_dimension))\n",
    "pubmed_e = model.layers[1]\n",
    "pubmed_embedding_matrix = pubmed_e.get_weights()[0]\n",
    "print(pubmed_embedding_matrix.shape)\n",
    "del model"
   ]
  },
  {
   "cell_type": "markdown",
   "id": "8e2b099b",
   "metadata": {},
   "source": [
    "### Creating inputs (structuredArray, outputArray, wordArray, padded_cui)"
   ]
  },
  {
   "cell_type": "code",
   "execution_count": 17,
   "id": "42138774",
   "metadata": {},
   "outputs": [
    {
     "name": "stdout",
     "output_type": "stream",
     "text": [
      "(4392, 556) (4392, 1) 4392 (4392, 1000)\n"
     ]
    }
   ],
   "source": [
    "outputArray = []\n",
    "structuredArray = []\n",
    "cuiArray = []\n",
    "wordArray = []\n",
    "\n",
    "for key in wordDict: #to make sure that everything is same order\n",
    "    structvalues = structuredDict[key]\n",
    "    output = outputDict[key]\n",
    "    cui = cuiDict[key]\n",
    "    word = wordDict[key] #TOGGLE\n",
    "    \n",
    "    structuredArray.append(structvalues)\n",
    "    outputArray.append(output)\n",
    "    cuiArray.append(cui)\n",
    "    wordArray.append(word) #TOGGLE\n",
    "\n",
    "outputArray = np.array(outputArray)\n",
    "structuredArray = np.array(structuredArray)\n",
    "wordArray = np.array(wordArray)\n",
    "\n",
    "print(structuredArray.shape, outputArray.shape, len(cuiArray), wordArray.shape)"
   ]
  },
  {
   "cell_type": "code",
   "execution_count": 18,
   "id": "8743f3fa",
   "metadata": {},
   "outputs": [
    {
     "name": "stdout",
     "output_type": "stream",
     "text": [
      "Vocab Size 816\n",
      "(4392, 239)\n",
      "Max Length of CUI in patient: 239\n"
     ]
    }
   ],
   "source": [
    "# Create Tokenizer\n",
    "tokenizer = tf.keras.preprocessing.text.Tokenizer()\n",
    "tokenizer.fit_on_texts(cuiArray)\n",
    "vocabulary_size = len(vocabulary) + 1\n",
    "print('Vocab Size', vocabulary_size)\n",
    "\n",
    "# Integer encode the documents\n",
    "encoded_cui = tokenizer.texts_to_sequences(cuiArray)\n",
    "# print(encoded_cui)\n",
    "\n",
    "# Pad documents to max length\n",
    "max_length = max(map(len, encoded_cui)) #getting max length of the number of cui's per patient\n",
    "\n",
    "# max_length = 4000 #arbitrary number set to decrease the size (only 3 patients have more than 4000 cui's)\n",
    "padded_cui = tf.keras.preprocessing.sequence.pad_sequences(encoded_cui, maxlen = max_length, padding='post')\n",
    "print(padded_cui.shape)\n",
    "print('Max Length of CUI in patient:', max_length)"
   ]
  },
  {
   "cell_type": "code",
   "execution_count": 19,
   "id": "1fef22f5",
   "metadata": {},
   "outputs": [
    {
     "name": "stdout",
     "output_type": "stream",
     "text": [
      "Loaded 109053 word vectors.\n",
      "(816, 500)\n"
     ]
    }
   ],
   "source": [
    "# Create cui2vec embedding\n",
    "\n",
    "embedding_dimension = 500 #number pulled from the cui2vec pretrained word embeddings\n",
    "embedding_matrix = np.zeros((vocabulary_size, embedding_dimension))\n",
    "\n",
    "print('Loaded %s word vectors.' % len(cui2vec_map))\n",
    "\n",
    "# Creating a weight matrix for words in the training docs\n",
    "for word, i in tokenizer.word_index.items():\n",
    "    embedding_vector = cui2vec_map.get(word.upper()) #need to convert to upper case b/c tokenizer makes all lowercase\n",
    "    if embedding_vector is not None:\n",
    "        embedding_matrix[i] = embedding_vector\n",
    "\n",
    "print(embedding_matrix.shape)"
   ]
  },
  {
   "cell_type": "markdown",
   "id": "87aeeb3a",
   "metadata": {},
   "source": [
    "# (Model D) Cui2vec text model"
   ]
  },
  {
   "cell_type": "code",
   "execution_count": 18,
   "id": "475e4199",
   "metadata": {},
   "outputs": [],
   "source": [
    "total_input = tf.data.Dataset.from_tensor_slices(padded_cui)\n",
    "total_output = tf.data.Dataset.from_tensor_slices(outputArray)\n",
    "total_dataset = tf.data.Dataset.zip((total_input, total_output))\n",
    "train_dataset = total_dataset.skip(600).shuffle(1000).batch(15)\n",
    "validation_dataset = total_dataset.skip(300).take(300).batch(15)\n",
    "test_dataset = total_dataset.take(300).batch(15)"
   ]
  },
  {
   "cell_type": "code",
   "execution_count": 19,
   "id": "1207a4ad",
   "metadata": {},
   "outputs": [
    {
     "name": "stdout",
     "output_type": "stream",
     "text": [
      "Model: \"model\"\n",
      "_________________________________________________________________\n",
      "Layer (type)                 Output Shape              Param #   \n",
      "=================================================================\n",
      "input_1 (InputLayer)         [(None, 239)]             0         \n",
      "_________________________________________________________________\n",
      "embedding (Embedding)        (None, 239, 500)          408000    \n",
      "_________________________________________________________________\n",
      "flatten (Flatten)            (None, 119500)            0         \n",
      "_________________________________________________________________\n",
      "dense (Dense)                (None, 224)               26768224  \n",
      "_________________________________________________________________\n",
      "dropout (Dropout)            (None, 224)               0         \n",
      "_________________________________________________________________\n",
      "dense_1 (Dense)              (None, 128)               28800     \n",
      "_________________________________________________________________\n",
      "dense_2 (Dense)              (None, 1)                 129       \n",
      "=================================================================\n",
      "Total params: 27,205,153\n",
      "Trainable params: 26,797,153\n",
      "Non-trainable params: 408,000\n",
      "_________________________________________________________________\n",
      "Epoch 1/80\n"
     ]
    },
    {
     "name": "stderr",
     "output_type": "stream",
     "text": [
      "2021-08-15 19:12:19.880619: I tensorflow/compiler/mlir/mlir_graph_optimization_pass.cc:116] None of the MLIR optimization passes are enabled (registered 2)\n",
      "2021-08-15 19:12:19.896935: I tensorflow/core/platform/profile_utils/cpu_utils.cc:112] CPU Frequency: 2199995000 Hz\n"
     ]
    },
    {
     "name": "stdout",
     "output_type": "stream",
     "text": [
      "253/253 [==============================] - 21s 78ms/step - loss: 3.5577 - tp: 27.0866 - fp: 30.7283 - tn: 1168.0197 - fn: 686.5827 - sen: 0.0351 - prc: 0.4102 - auroc: 0.6043 - acc: 0.6258 - val_loss: 1.8214 - val_tp: 4.0000 - val_fp: 3.0000 - val_tn: 185.0000 - val_fn: 108.0000 - val_sen: 0.0357 - val_prc: 0.5714 - val_auroc: 0.6057 - val_acc: 0.6300\n",
      "Epoch 2/80\n",
      "253/253 [==============================] - 19s 74ms/step - loss: 1.6379 - tp: 153.2087 - fp: 77.1260 - tn: 1122.5118 - fn: 559.5709 - sen: 0.2006 - prc: 0.6776 - auroc: 0.7182 - acc: 0.6650 - val_loss: 1.3762 - val_tp: 30.0000 - val_fp: 33.0000 - val_tn: 155.0000 - val_fn: 82.0000 - val_sen: 0.2679 - val_prc: 0.4762 - val_auroc: 0.6082 - val_acc: 0.6167\n",
      "Epoch 3/80\n",
      "253/253 [==============================] - 19s 75ms/step - loss: 1.2151 - tp: 255.4528 - fp: 126.8228 - tn: 1077.4055 - fn: 452.7362 - sen: 0.3465 - prc: 0.6688 - auroc: 0.7599 - acc: 0.6970 - val_loss: 1.1538 - val_tp: 18.0000 - val_fp: 21.0000 - val_tn: 167.0000 - val_fn: 94.0000 - val_sen: 0.1607 - val_prc: 0.4615 - val_auroc: 0.6082 - val_acc: 0.6167\n",
      "Epoch 4/80\n",
      "253/253 [==============================] - 19s 76ms/step - loss: 0.9803 - tp: 302.9606 - fp: 136.3504 - tn: 1062.9685 - fn: 410.1378 - sen: 0.4038 - prc: 0.6834 - auroc: 0.7880 - acc: 0.7144 - val_loss: 1.0339 - val_tp: 18.0000 - val_fp: 16.0000 - val_tn: 172.0000 - val_fn: 94.0000 - val_sen: 0.1607 - val_prc: 0.5294 - val_auroc: 0.6248 - val_acc: 0.6333\n",
      "Epoch 5/80\n",
      "253/253 [==============================] - 19s 73ms/step - loss: 0.8318 - tp: 357.9488 - fp: 139.4921 - tn: 1069.8661 - fn: 345.1102 - sen: 0.4892 - prc: 0.7130 - auroc: 0.8181 - acc: 0.7405 - val_loss: 0.9560 - val_tp: 41.0000 - val_fp: 37.0000 - val_tn: 151.0000 - val_fn: 71.0000 - val_sen: 0.3661 - val_prc: 0.5256 - val_auroc: 0.6287 - val_acc: 0.6400\n",
      "Epoch 6/80\n",
      "253/253 [==============================] - 18s 72ms/step - loss: 0.7424 - tp: 396.5906 - fp: 152.6024 - tn: 1053.1614 - fn: 310.0630 - sen: 0.5620 - prc: 0.7228 - auroc: 0.8435 - acc: 0.7598 - val_loss: 0.9687 - val_tp: 35.0000 - val_fp: 38.0000 - val_tn: 150.0000 - val_fn: 77.0000 - val_sen: 0.3125 - val_prc: 0.4795 - val_auroc: 0.5950 - val_acc: 0.6167\n",
      "Epoch 7/80\n",
      "253/253 [==============================] - 18s 72ms/step - loss: 0.6797 - tp: 443.2165 - fp: 131.3504 - tn: 1067.6260 - fn: 270.2244 - sen: 0.6249 - prc: 0.7919 - auroc: 0.8736 - acc: 0.7983 - val_loss: 0.9694 - val_tp: 30.0000 - val_fp: 35.0000 - val_tn: 153.0000 - val_fn: 82.0000 - val_sen: 0.2679 - val_prc: 0.4615 - val_auroc: 0.5947 - val_acc: 0.6100\n",
      "\n",
      "Epoch 00007: ReduceLROnPlateau reducing learning rate to 9.999999747378752e-06.\n",
      "Epoch 8/80\n",
      "253/253 [==============================] - 18s 71ms/step - loss: 0.6085 - tp: 492.3780 - fp: 101.9213 - tn: 1102.8858 - fn: 215.2323 - sen: 0.6817 - prc: 0.8201 - auroc: 0.9147 - acc: 0.8278 - val_loss: 0.9490 - val_tp: 34.0000 - val_fp: 33.0000 - val_tn: 155.0000 - val_fn: 78.0000 - val_sen: 0.3036 - val_prc: 0.5075 - val_auroc: 0.6104 - val_acc: 0.6300\n",
      "Epoch 9/80\n",
      "253/253 [==============================] - 19s 73ms/step - loss: 0.5688 - tp: 521.9370 - fp: 83.6260 - tn: 1116.1772 - fn: 190.6772 - sen: 0.7280 - prc: 0.8654 - auroc: 0.9369 - acc: 0.8564 - val_loss: 0.9423 - val_tp: 36.0000 - val_fp: 32.0000 - val_tn: 156.0000 - val_fn: 76.0000 - val_sen: 0.3214 - val_prc: 0.5294 - val_auroc: 0.6148 - val_acc: 0.6400\n",
      "Epoch 10/80\n",
      "253/253 [==============================] - 19s 74ms/step - loss: 0.5463 - tp: 519.6614 - fp: 86.8504 - tn: 1128.9724 - fn: 176.9331 - sen: 0.7418 - prc: 0.8554 - auroc: 0.9442 - acc: 0.8600 - val_loss: 0.9368 - val_tp: 38.0000 - val_fp: 32.0000 - val_tn: 156.0000 - val_fn: 74.0000 - val_sen: 0.3393 - val_prc: 0.5429 - val_auroc: 0.6209 - val_acc: 0.6467\n",
      "Epoch 11/80\n",
      "253/253 [==============================] - 19s 75ms/step - loss: 0.5304 - tp: 549.5669 - fp: 82.2638 - tn: 1120.3189 - fn: 160.2677 - sen: 0.7754 - prc: 0.8715 - auroc: 0.9501 - acc: 0.8756 - val_loss: 0.9319 - val_tp: 39.0000 - val_fp: 37.0000 - val_tn: 151.0000 - val_fn: 73.0000 - val_sen: 0.3482 - val_prc: 0.5132 - val_auroc: 0.6209 - val_acc: 0.6333\n",
      "Epoch 12/80\n",
      "253/253 [==============================] - 27s 108ms/step - loss: 0.5153 - tp: 542.5197 - fp: 76.1496 - tn: 1131.9055 - fn: 161.8425 - sen: 0.7664 - prc: 0.8778 - auroc: 0.9540 - acc: 0.8749 - val_loss: 0.9294 - val_tp: 37.0000 - val_fp: 36.0000 - val_tn: 152.0000 - val_fn: 75.0000 - val_sen: 0.3304 - val_prc: 0.5068 - val_auroc: 0.6224 - val_acc: 0.6300\n",
      "Epoch 13/80\n",
      "253/253 [==============================] - 36s 143ms/step - loss: 0.5066 - tp: 552.2480 - fp: 77.4134 - tn: 1122.6102 - fn: 160.1457 - sen: 0.7801 - prc: 0.8819 - auroc: 0.9568 - acc: 0.8798 - val_loss: 0.9375 - val_tp: 37.0000 - val_fp: 32.0000 - val_tn: 156.0000 - val_fn: 75.0000 - val_sen: 0.3304 - val_prc: 0.5362 - val_auroc: 0.6239 - val_acc: 0.6433\n",
      "Epoch 14/80\n",
      "253/253 [==============================] - 34s 135ms/step - loss: 0.4929 - tp: 566.1890 - fp: 72.4921 - tn: 1128.2638 - fn: 145.4724 - sen: 0.7967 - prc: 0.8917 - auroc: 0.9625 - acc: 0.8885 - val_loss: 0.9322 - val_tp: 38.0000 - val_fp: 35.0000 - val_tn: 153.0000 - val_fn: 74.0000 - val_sen: 0.3393 - val_prc: 0.5205 - val_auroc: 0.6232 - val_acc: 0.6367\n",
      "\n",
      "Epoch 00014: ReduceLROnPlateau reducing learning rate to 9.999999747378752e-07.\n",
      "Epoch 15/80\n",
      "253/253 [==============================] - 36s 142ms/step - loss: 0.4879 - tp: 574.9173 - fp: 75.4488 - tn: 1125.3189 - fn: 136.7323 - sen: 0.8002 - prc: 0.8837 - auroc: 0.9636 - acc: 0.8873 - val_loss: 0.9328 - val_tp: 37.0000 - val_fp: 34.0000 - val_tn: 154.0000 - val_fn: 75.0000 - val_sen: 0.3304 - val_prc: 0.5211 - val_auroc: 0.6237 - val_acc: 0.6367\n",
      "Epoch 16/80\n",
      "253/253 [==============================] - 37s 145ms/step - loss: 0.4876 - tp: 561.4646 - fp: 69.1102 - tn: 1135.2480 - fn: 146.5945 - sen: 0.7950 - prc: 0.8888 - auroc: 0.9612 - acc: 0.8865 - val_loss: 0.9329 - val_tp: 37.0000 - val_fp: 35.0000 - val_tn: 153.0000 - val_fn: 75.0000 - val_sen: 0.3304 - val_prc: 0.5139 - val_auroc: 0.6235 - val_acc: 0.6333\n",
      "Restoring model weights from the end of the best epoch.\n",
      "\n",
      "Epoch 00016: ReduceLROnPlateau reducing learning rate to 9.999999974752428e-08.\n",
      "Epoch 00016: early stopping\n",
      "20/20 [==============================] - 1s 38ms/step - loss: 0.9294 - tp: 37.0000 - fp: 36.0000 - tn: 152.0000 - fn: 75.0000 - sen: 0.3304 - prc: 0.5068 - auroc: 0.6224 - acc: 0.6300\n"
     ]
    },
    {
     "data": {
      "text/plain": [
       "[0.9293699264526367,\n",
       " 37.0,\n",
       " 36.0,\n",
       " 152.0,\n",
       " 75.0,\n",
       " 0.3303571343421936,\n",
       " 0.5068492889404297,\n",
       " 0.6223641633987427,\n",
       " 0.6299999952316284]"
      ]
     },
     "execution_count": 19,
     "metadata": {},
     "output_type": "execute_result"
    }
   ],
   "source": [
    "input1 = tf.keras.Input(shape=(max_length,))\n",
    "nl = tf.keras.layers.Embedding(vocabulary_size, embedding_dimension, embeddings_initializer = tf.keras.initializers.Constant(embedding_matrix), input_length = max_length, trainable=False)(input1)\n",
    "nl = tf.keras.layers.Flatten()(nl)\n",
    "nl = tf.keras.layers.Dense(224, activation='relu', kernel_regularizer=tf.keras.regularizers.l2())(nl)\n",
    "nl = tf.keras.layers.Dropout(0.3)(nl)\n",
    "nl = tf.keras.layers.Dense(128, activation='relu', kernel_regularizer=tf.keras.regularizers.l2())(nl)\n",
    "\n",
    "output = tf.keras.layers.Dense(1, activation='sigmoid')(nl)\n",
    "\n",
    "#model = tf.keras.Model(inputs = input1, outputs = output)\n",
    "#model = tf.keras.Model(inputs = input2, outputs = output)\n",
    "model = tf.keras.Model(inputs = input1, outputs = output)\n",
    "\n",
    "model.summary()\n",
    "\n",
    "metrics = [\n",
    "    tf.keras.metrics.TruePositives(name='tp'), \n",
    "    tf.keras.metrics.FalsePositives(name='fp'), \n",
    "    tf.keras.metrics.TrueNegatives(name='tn'), \n",
    "    tf.keras.metrics.FalseNegatives(name='fn'), \n",
    "    tf.keras.metrics.Recall(name='sen'), \n",
    "    tf.keras.metrics.Precision(name='prc'), \n",
    "    tf.keras.metrics.AUC(name='auroc'), \n",
    "    tf.keras.metrics.BinaryAccuracy(name='acc')\n",
    "]\n",
    "callbacks=[\n",
    "    tf.keras.callbacks.EarlyStopping(patience=4, verbose=1, restore_best_weights=True, min_delta=0.0001), \n",
    "    tf.keras.callbacks.ReduceLROnPlateau(factor=0.1, patience=2, verbose=1)\n",
    "]\n",
    "model.compile(optimizer=tf.keras.optimizers.Adam(0.0001), loss='binary_crossentropy', metrics=metrics)\n",
    "history = model.fit(train_dataset, epochs=80, validation_data=validation_dataset, verbose=1, callbacks=callbacks)\n",
    "model.evaluate(validation_dataset)\n",
    "y_pred = model.predict(validation_dataset)\n",
    "model.save_weights('final/struct031b_lowva_weights-XXXX')"
   ]
  },
  {
   "cell_type": "markdown",
   "id": "8c06fb88",
   "metadata": {},
   "source": [
    "loss: 0.9294 - tp: 37.0000 - fp: 36.0000 - tn: 152.0000 - fn: 75.0000 - sen: 0.3304 - prc: 0.5068 - auroc: 0.6224 - acc: 0.6300"
   ]
  },
  {
   "cell_type": "code",
   "execution_count": 20,
   "id": "598a70a2",
   "metadata": {},
   "outputs": [
    {
     "name": "stdout",
     "output_type": "stream",
     "text": [
      "20/20 [==============================] - 1s 40ms/step - loss: 0.9294 - tp: 37.0000 - fp: 36.0000 - tn: 152.0000 - fn: 75.0000 - sen: 0.3304 - prc: 0.5068 - auroc: 0.6224 - acc: 0.6300\n"
     ]
    },
    {
     "data": {
      "text/plain": [
       "[0.9293699264526367,\n",
       " 37.0,\n",
       " 36.0,\n",
       " 152.0,\n",
       " 75.0,\n",
       " 0.3303571343421936,\n",
       " 0.5068492889404297,\n",
       " 0.6223641633987427,\n",
       " 0.6299999952316284]"
      ]
     },
     "execution_count": 20,
     "metadata": {},
     "output_type": "execute_result"
    },
    {
     "data": {
      "image/png": "[encoded data removed]",
      "text/plain": [
       "<Figure size 432x288 with 1 Axes>"
      ]
     },
     "metadata": {
      "needs_background": "light"
     },
     "output_type": "display_data"
    },
    {
     "data": {
      "image/png": "[encoded data removed]",
      "text/plain": [
       "<Figure size 432x288 with 1 Axes>"
      ]
     },
     "metadata": {
      "needs_background": "light"
     },
     "output_type": "display_data"
    },
    {
     "data": {
      "image/png": "[encoded data removed]",
      "text/plain": [
       "<Figure size 432x288 with 1 Axes>"
      ]
     },
     "metadata": {
      "needs_background": "light"
     },
     "output_type": "display_data"
    }
   ],
   "source": [
    "model.evaluate(validation_dataset)\n",
    "plt_loss(history)\n",
    "plt_acc(history)\n",
    "plt_roc(validation_dataset, y_pred)"
   ]
  },
  {
   "cell_type": "markdown",
   "id": "a377e765",
   "metadata": {},
   "source": [
    "# (Model G) Structured and CUI cui2vec combined model"
   ]
  },
  {
   "cell_type": "code",
   "execution_count": 56,
   "id": "a42959f8",
   "metadata": {},
   "outputs": [],
   "source": [
    "total_input = tf.data.Dataset.from_tensor_slices((padded_cui, structuredArray))\n",
    "total_output = tf.data.Dataset.from_tensor_slices(outputArray)\n",
    "total_dataset = tf.data.Dataset.zip((total_input, total_output))\n",
    "train_dataset = total_dataset.skip(600).shuffle(1000).batch(15)\n",
    "validation_dataset = total_dataset.skip(300).take(300).batch(15)\n",
    "test_dataset = total_dataset.take(300).batch(15)"
   ]
  },
  {
   "cell_type": "code",
   "execution_count": 57,
   "id": "6736d012",
   "metadata": {},
   "outputs": [
    {
     "name": "stdout",
     "output_type": "stream",
     "text": [
      "Model: \"model_3\"\n",
      "__________________________________________________________________________________________________\n",
      "Layer (type)                    Output Shape         Param #     Connected to                     \n",
      "==================================================================================================\n",
      "input_14 (InputLayer)           [(None, 239)]        0                                            \n",
      "__________________________________________________________________________________________________\n",
      "embedding_10 (Embedding)        (None, 239, 500)     408000      input_14[0][0]                   \n",
      "__________________________________________________________________________________________________\n",
      "flatten_10 (Flatten)            (None, 119500)       0           embedding_10[0][0]               \n",
      "__________________________________________________________________________________________________\n",
      "input_15 (InputLayer)           [(None, 556)]        0                                            \n",
      "__________________________________________________________________________________________________\n",
      "dense_28 (Dense)                (None, 128)          15296128    flatten_10[0][0]                 \n",
      "__________________________________________________________________________________________________\n",
      "dense_30 (Dense)                (None, 416)          231712      input_15[0][0]                   \n",
      "__________________________________________________________________________________________________\n",
      "dropout_9 (Dropout)             (None, 128)          0           dense_28[0][0]                   \n",
      "__________________________________________________________________________________________________\n",
      "dropout_10 (Dropout)            (None, 416)          0           dense_30[0][0]                   \n",
      "__________________________________________________________________________________________________\n",
      "dense_29 (Dense)                (None, 320)          41280       dropout_9[0][0]                  \n",
      "__________________________________________________________________________________________________\n",
      "dense_31 (Dense)                (None, 480)          200160      dropout_10[0][0]                 \n",
      "__________________________________________________________________________________________________\n",
      "concatenate_3 (Concatenate)     (None, 800)          0           dense_29[0][0]                   \n",
      "                                                                 dense_31[0][0]                   \n",
      "__________________________________________________________________________________________________\n",
      "dense_32 (Dense)                (None, 448)          358848      concatenate_3[0][0]              \n",
      "__________________________________________________________________________________________________\n",
      "dense_33 (Dense)                (None, 1)            449         dense_32[0][0]                   \n",
      "==================================================================================================\n",
      "Total params: 16,536,577\n",
      "Trainable params: 16,128,577\n",
      "Non-trainable params: 408,000\n",
      "__________________________________________________________________________________________________\n",
      "Epoch 1/80\n",
      "253/253 [==============================] - 12s 43ms/step - loss: 6.7550 - tp: 257.3937 - fp: 166.4646 - tn: 1038.8465 - fn: 449.7126 - sen: 0.3356 - prc: 0.5833 - auroc: 0.6643 - acc: 0.6703 - val_loss: 0.7247 - val_tp: 51.0000 - val_fp: 35.0000 - val_tn: 153.0000 - val_fn: 61.0000 - val_sen: 0.4554 - val_prc: 0.5930 - val_auroc: 0.7660 - val_acc: 0.6800\n",
      "Epoch 2/80\n",
      "253/253 [==============================] - 10s 41ms/step - loss: 0.6984 - tp: 283.0669 - fp: 147.4961 - tn: 1062.6890 - fn: 419.1654 - sen: 0.3993 - prc: 0.6623 - auroc: 0.7464 - acc: 0.7087 - val_loss: 0.6436 - val_tp: 57.0000 - val_fp: 37.0000 - val_tn: 151.0000 - val_fn: 55.0000 - val_sen: 0.5089 - val_prc: 0.6064 - val_auroc: 0.7724 - val_acc: 0.6933\n",
      "Epoch 3/80\n",
      "253/253 [==============================] - 10s 41ms/step - loss: 0.6477 - tp: 318.2205 - fp: 148.2165 - tn: 1057.8465 - fn: 388.1339 - sen: 0.4449 - prc: 0.6881 - auroc: 0.7559 - acc: 0.7207 - val_loss: 0.6143 - val_tp: 37.0000 - val_fp: 8.0000 - val_tn: 180.0000 - val_fn: 75.0000 - val_sen: 0.3304 - val_prc: 0.8222 - val_auroc: 0.8027 - val_acc: 0.7233\n",
      "Epoch 4/80\n",
      "253/253 [==============================] - 11s 42ms/step - loss: 0.6371 - tp: 322.4803 - fp: 155.3189 - tn: 1045.6693 - fn: 388.9488 - sen: 0.4524 - prc: 0.6841 - auroc: 0.7685 - acc: 0.7219 - val_loss: 0.6032 - val_tp: 54.0000 - val_fp: 27.0000 - val_tn: 161.0000 - val_fn: 58.0000 - val_sen: 0.4821 - val_prc: 0.6667 - val_auroc: 0.7921 - val_acc: 0.7167\n",
      "Epoch 5/80\n",
      "253/253 [==============================] - 11s 42ms/step - loss: 0.6301 - tp: 332.3268 - fp: 151.8425 - tn: 1058.8898 - fn: 369.3583 - sen: 0.4787 - prc: 0.6911 - auroc: 0.7752 - acc: 0.7261 - val_loss: 0.6024 - val_tp: 64.0000 - val_fp: 32.0000 - val_tn: 156.0000 - val_fn: 48.0000 - val_sen: 0.5714 - val_prc: 0.6667 - val_auroc: 0.8032 - val_acc: 0.7333\n",
      "Epoch 6/80\n",
      "253/253 [==============================] - 11s 42ms/step - loss: 0.6184 - tp: 354.1063 - fp: 165.2598 - tn: 1045.0276 - fn: 348.0236 - sen: 0.4801 - prc: 0.6669 - auroc: 0.7713 - acc: 0.7302 - val_loss: 0.5940 - val_tp: 54.0000 - val_fp: 19.0000 - val_tn: 169.0000 - val_fn: 58.0000 - val_sen: 0.4821 - val_prc: 0.7397 - val_auroc: 0.8084 - val_acc: 0.7433\n",
      "Epoch 7/80\n",
      "253/253 [==============================] - 10s 41ms/step - loss: 0.6060 - tp: 402.0906 - fp: 180.1811 - tn: 1011.7835 - fn: 318.3622 - sen: 0.5732 - prc: 0.7009 - auroc: 0.7992 - acc: 0.7457 - val_loss: 0.6242 - val_tp: 41.0000 - val_fp: 10.0000 - val_tn: 178.0000 - val_fn: 71.0000 - val_sen: 0.3661 - val_prc: 0.8039 - val_auroc: 0.7948 - val_acc: 0.7300\n",
      "Epoch 8/80\n",
      "253/253 [==============================] - 10s 41ms/step - loss: 0.6065 - tp: 360.3701 - fp: 162.6654 - tn: 1039.5157 - fn: 349.8661 - sen: 0.4855 - prc: 0.6964 - auroc: 0.7939 - acc: 0.7349 - val_loss: 0.6188 - val_tp: 44.0000 - val_fp: 17.0000 - val_tn: 171.0000 - val_fn: 68.0000 - val_sen: 0.3929 - val_prc: 0.7213 - val_auroc: 0.7915 - val_acc: 0.7167\n",
      "\n",
      "Epoch 00008: ReduceLROnPlateau reducing learning rate to 0.00010000000474974513.\n",
      "Epoch 9/80\n",
      "253/253 [==============================] - 10s 41ms/step - loss: 0.5886 - tp: 357.9016 - fp: 133.8189 - tn: 1076.4567 - fn: 344.2402 - sen: 0.4862 - prc: 0.7397 - auroc: 0.8065 - acc: 0.7501 - val_loss: 0.5814 - val_tp: 61.0000 - val_fp: 27.0000 - val_tn: 161.0000 - val_fn: 51.0000 - val_sen: 0.5446 - val_prc: 0.6932 - val_auroc: 0.8038 - val_acc: 0.7400\n",
      "Epoch 10/80\n",
      "253/253 [==============================] - 10s 41ms/step - loss: 0.5675 - tp: 413.1417 - fp: 152.8150 - tn: 1047.5354 - fn: 298.9252 - sen: 0.5871 - prc: 0.7305 - auroc: 0.8192 - acc: 0.7670 - val_loss: 0.5662 - val_tp: 63.0000 - val_fp: 28.0000 - val_tn: 160.0000 - val_fn: 49.0000 - val_sen: 0.5625 - val_prc: 0.6923 - val_auroc: 0.8136 - val_acc: 0.7433\n",
      "Epoch 11/80\n",
      "253/253 [==============================] - 11s 43ms/step - loss: 0.5638 - tp: 421.6535 - fp: 158.5709 - tn: 1051.5197 - fn: 280.6732 - sen: 0.6008 - prc: 0.7169 - auroc: 0.8182 - acc: 0.7678 - val_loss: 0.5609 - val_tp: 65.0000 - val_fp: 28.0000 - val_tn: 160.0000 - val_fn: 47.0000 - val_sen: 0.5804 - val_prc: 0.6989 - val_auroc: 0.8182 - val_acc: 0.7500\n",
      "Epoch 12/80\n",
      "253/253 [==============================] - 11s 42ms/step - loss: 0.5479 - tp: 434.6929 - fp: 145.1811 - tn: 1058.2992 - fn: 274.2441 - sen: 0.6182 - prc: 0.7554 - auroc: 0.8355 - acc: 0.7836 - val_loss: 0.5560 - val_tp: 62.0000 - val_fp: 24.0000 - val_tn: 164.0000 - val_fn: 50.0000 - val_sen: 0.5536 - val_prc: 0.7209 - val_auroc: 0.8228 - val_acc: 0.7533\n",
      "Epoch 13/80\n",
      "253/253 [==============================] - 11s 42ms/step - loss: 0.5403 - tp: 435.4055 - fp: 145.4449 - tn: 1058.6850 - fn: 272.8819 - sen: 0.6166 - prc: 0.7567 - auroc: 0.8401 - acc: 0.7851 - val_loss: 0.5561 - val_tp: 63.0000 - val_fp: 29.0000 - val_tn: 159.0000 - val_fn: 49.0000 - val_sen: 0.5625 - val_prc: 0.6848 - val_auroc: 0.8210 - val_acc: 0.7400\n",
      "Epoch 14/80\n",
      "253/253 [==============================] - 10s 41ms/step - loss: 0.5425 - tp: 446.3740 - fp: 144.7992 - tn: 1058.4961 - fn: 262.7480 - sen: 0.6278 - prc: 0.7497 - auroc: 0.8365 - acc: 0.7837 - val_loss: 0.5547 - val_tp: 67.0000 - val_fp: 28.0000 - val_tn: 160.0000 - val_fn: 45.0000 - val_sen: 0.5982 - val_prc: 0.7053 - val_auroc: 0.8227 - val_acc: 0.7567\n",
      "Epoch 15/80\n",
      "253/253 [==============================] - 10s 41ms/step - loss: 0.5332 - tp: 452.9724 - fp: 146.5709 - tn: 1059.6299 - fn: 253.2441 - sen: 0.6431 - prc: 0.7549 - auroc: 0.8469 - acc: 0.7888 - val_loss: 0.5520 - val_tp: 70.0000 - val_fp: 26.0000 - val_tn: 162.0000 - val_fn: 42.0000 - val_sen: 0.6250 - val_prc: 0.7292 - val_auroc: 0.8252 - val_acc: 0.7733\n",
      "Epoch 16/80\n",
      "253/253 [==============================] - 10s 41ms/step - loss: 0.5312 - tp: 440.0236 - fp: 138.7323 - tn: 1072.3504 - fn: 261.3110 - sen: 0.6400 - prc: 0.7662 - auroc: 0.8509 - acc: 0.7957 - val_loss: 0.5547 - val_tp: 72.0000 - val_fp: 29.0000 - val_tn: 159.0000 - val_fn: 40.0000 - val_sen: 0.6429 - val_prc: 0.7129 - val_auroc: 0.8231 - val_acc: 0.7700\n",
      "Epoch 17/80\n",
      "253/253 [==============================] - 11s 42ms/step - loss: 0.5280 - tp: 469.5236 - fp: 159.5472 - tn: 1043.0906 - fn: 240.2559 - sen: 0.6612 - prc: 0.7415 - auroc: 0.8493 - acc: 0.7927 - val_loss: 0.5555 - val_tp: 65.0000 - val_fp: 24.0000 - val_tn: 164.0000 - val_fn: 47.0000 - val_sen: 0.5804 - val_prc: 0.7303 - val_auroc: 0.8220 - val_acc: 0.7633\n",
      "\n",
      "Epoch 00017: ReduceLROnPlateau reducing learning rate to 1.0000000474974514e-05.\n",
      "Epoch 18/80\n",
      "253/253 [==============================] - 11s 42ms/step - loss: 0.5064 - tp: 461.3661 - fp: 130.1575 - tn: 1082.6102 - fn: 238.2835 - sen: 0.6818 - prc: 0.7823 - auroc: 0.8690 - acc: 0.8168 - val_loss: 0.5553 - val_tp: 65.0000 - val_fp: 25.0000 - val_tn: 163.0000 - val_fn: 47.0000 - val_sen: 0.5804 - val_prc: 0.7222 - val_auroc: 0.8226 - val_acc: 0.7600\n",
      "Epoch 19/80\n",
      "253/253 [==============================] - 10s 41ms/step - loss: 0.5309 - tp: 475.3031 - fp: 147.2126 - tn: 1052.0827 - fn: 237.8189 - sen: 0.6696 - prc: 0.7548 - auroc: 0.8496 - acc: 0.7959 - val_loss: 0.5552 - val_tp: 66.0000 - val_fp: 25.0000 - val_tn: 163.0000 - val_fn: 46.0000 - val_sen: 0.5893 - val_prc: 0.7253 - val_auroc: 0.8228 - val_acc: 0.7633\n",
      "Restoring model weights from the end of the best epoch.\n",
      "\n",
      "Epoch 00019: ReduceLROnPlateau reducing learning rate to 1.0000000656873453e-06.\n",
      "Epoch 00019: early stopping\n",
      "20/20 [==============================] - 0s 12ms/step - loss: 0.5520 - tp: 70.0000 - fp: 26.0000 - tn: 162.0000 - fn: 42.0000 - sen: 0.6250 - prc: 0.7292 - auroc: 0.8252 - acc: 0.7733\n"
     ]
    },
    {
     "data": {
      "text/plain": [
       "[0.552009105682373,\n",
       " 70.0,\n",
       " 26.0,\n",
       " 162.0,\n",
       " 42.0,\n",
       " 0.625,\n",
       " 0.7291666865348816,\n",
       " 0.8251804709434509,\n",
       " 0.7733333110809326]"
      ]
     },
     "execution_count": 57,
     "metadata": {},
     "output_type": "execute_result"
    }
   ],
   "source": [
    "input1 = tf.keras.Input(shape=(max_length,))\n",
    "nl = tf.keras.layers.Embedding(vocabulary_size, embedding_dimension, embeddings_initializer = tf.keras.initializers.Constant(embedding_matrix), input_length = max_length, trainable=False)(input1)\n",
    "nl = tf.keras.layers.Flatten()(nl)\n",
    "nl = tf.keras.layers.Dense(128, activation='relu', kernel_regularizer=tf.keras.regularizers.l2())(nl)\n",
    "nl = tf.keras.layers.Dropout(0.6)(nl)\n",
    "nl = tf.keras.layers.Dense(320, activation='relu', kernel_regularizer=tf.keras.regularizers.l2())(nl)\n",
    "\n",
    "input2 = tf.keras.Input(shape=(structuredArray.shape[1],))\n",
    "sl = tf.keras.layers.Dense(416, activation='relu', kernel_regularizer=tf.keras.regularizers.l2())(input2)\n",
    "sl = tf.keras.layers.Dropout(0.50)(sl)\n",
    "sl = tf.keras.layers.Dense(480, activation='relu', kernel_regularizer=tf.keras.regularizers.l2())(sl)\n",
    "\n",
    "combo = tf.keras.layers.Concatenate()([nl, sl])\n",
    "combo = tf.keras.layers.Dense(448, activation='relu', kernel_regularizer=tf.keras.regularizers.l2())(combo)\n",
    "nl = combo\n",
    "\n",
    "output = tf.keras.layers.Dense(1, activation='sigmoid')(nl)\n",
    "\n",
    "#model = tf.keras.Model(inputs = input1, outputs = output)\n",
    "#model = tf.keras.Model(inputs = input2, outputs = output)\n",
    "model = tf.keras.Model(inputs = (input1, input2), outputs = output)\n",
    "\n",
    "model.summary()\n",
    "\n",
    "metrics = [\n",
    "    tf.keras.metrics.TruePositives(name='tp'), \n",
    "    tf.keras.metrics.FalsePositives(name='fp'), \n",
    "    tf.keras.metrics.TrueNegatives(name='tn'), \n",
    "    tf.keras.metrics.FalseNegatives(name='fn'), \n",
    "    tf.keras.metrics.Recall(name='sen'), \n",
    "    tf.keras.metrics.Precision(name='prc'), \n",
    "    tf.keras.metrics.AUC(name='auroc'), \n",
    "    tf.keras.metrics.BinaryAccuracy(name='acc')\n",
    "]\n",
    "callbacks=[\n",
    "    tf.keras.callbacks.EarlyStopping(patience=4, verbose=1, restore_best_weights=True, min_delta=0.0001), \n",
    "    tf.keras.callbacks.ReduceLROnPlateau(factor=0.1, patience=2, verbose=1)\n",
    "]\n",
    "model.compile(optimizer=tf.keras.optimizers.Adam(0.001), loss='binary_crossentropy', metrics=metrics)\n",
    "history = model.fit(train_dataset, epochs=80, validation_data=validation_dataset, verbose=1, callbacks=callbacks)\n",
    "model.evaluate(validation_dataset)\n",
    "y_pred = model.predict(validation_dataset)\n",
    "model.save_weights('final/struct035b_lowva_weights-XXXX')"
   ]
  },
  {
   "cell_type": "markdown",
   "id": "96e26864",
   "metadata": {},
   "source": [
    "loss: 0.5541 - tp: 61.0000 - fp: 24.0000 - tn: 164.0000 - fn: 51.0000 - sen: 0.5446 - prc: 0.7176 - auroc: 0.8262 - acc: 0.7500"
   ]
  },
  {
   "cell_type": "code",
   "execution_count": 58,
   "id": "0df0e389",
   "metadata": {},
   "outputs": [
    {
     "data": {
      "image/png": "[encoded data removed]",
      "text/plain": [
       "<Figure size 432x288 with 1 Axes>"
      ]
     },
     "metadata": {
      "needs_background": "light"
     },
     "output_type": "display_data"
    },
    {
     "data": {
      "image/png": "[encoded data removed]",
      "text/plain": [
       "<Figure size 432x288 with 1 Axes>"
      ]
     },
     "metadata": {
      "needs_background": "light"
     },
     "output_type": "display_data"
    },
    {
     "data": {
      "image/png": "[encoded data removed]",
      "text/plain": [
       "<Figure size 432x288 with 1 Axes>"
      ]
     },
     "metadata": {
      "needs_background": "light"
     },
     "output_type": "display_data"
    }
   ],
   "source": [
    "plt_loss(history)\n",
    "plt_acc(history)\n",
    "plt_roc(validation_dataset, y_pred)"
   ]
  },
  {
   "cell_type": "markdown",
   "id": "a74d27e4",
   "metadata": {},
   "source": [
    "## (Model H) Structured and cui2vec text model and fully connected word embedding model"
   ]
  },
  {
   "cell_type": "code",
   "execution_count": 18,
   "id": "c7de3d59",
   "metadata": {},
   "outputs": [],
   "source": [
    "total_input = tf.data.Dataset.from_tensor_slices((padded_cui, wordArray, structuredArray))\n",
    "total_output = tf.data.Dataset.from_tensor_slices(outputArray)\n",
    "total_dataset = tf.data.Dataset.zip((total_input, total_output))\n",
    "train_dataset = total_dataset.skip(600).shuffle(1000).batch(15)\n",
    "validation_dataset = total_dataset.skip(300).take(300).batch(15)\n",
    "test_dataset = total_dataset.take(300).batch(15)\n",
    "\n",
    "max_length = max(map(len, encoded_cui))"
   ]
  },
  {
   "cell_type": "code",
   "execution_count": 19,
   "id": "51c0ee34",
   "metadata": {},
   "outputs": [
    {
     "name": "stdout",
     "output_type": "stream",
     "text": [
      "Model: \"model\"\n",
      "__________________________________________________________________________________________________\n",
      "Layer (type)                    Output Shape         Param #     Connected to                     \n",
      "==================================================================================================\n",
      "input_1 (InputLayer)            [(None, 239)]        0                                            \n",
      "__________________________________________________________________________________________________\n",
      "input_2 (InputLayer)            [(None, 1000)]       0                                            \n",
      "__________________________________________________________________________________________________\n",
      "embedding (Embedding)           (None, 239, 500)     408000      input_1[0][0]                    \n",
      "__________________________________________________________________________________________________\n",
      "embedding_1 (Embedding)         (None, 1000, 300)    16782000    input_2[0][0]                    \n",
      "__________________________________________________________________________________________________\n",
      "flatten (Flatten)               (None, 119500)       0           embedding[0][0]                  \n",
      "__________________________________________________________________________________________________\n",
      "flatten_1 (Flatten)             (None, 300000)       0           embedding_1[0][0]                \n",
      "__________________________________________________________________________________________________\n",
      "input_3 (InputLayer)            [(None, 556)]        0                                            \n",
      "__________________________________________________________________________________________________\n",
      "dense (Dense)                   (None, 384)          45888384    flatten[0][0]                    \n",
      "__________________________________________________________________________________________________\n",
      "dense_2 (Dense)                 (None, 64)           19200064    flatten_1[0][0]                  \n",
      "__________________________________________________________________________________________________\n",
      "dense_4 (Dense)                 (None, 160)          89120       input_3[0][0]                    \n",
      "__________________________________________________________________________________________________\n",
      "dropout (Dropout)               (None, 384)          0           dense[0][0]                      \n",
      "__________________________________________________________________________________________________\n",
      "dropout_1 (Dropout)             (None, 64)           0           dense_2[0][0]                    \n",
      "__________________________________________________________________________________________________\n",
      "dropout_2 (Dropout)             (None, 160)          0           dense_4[0][0]                    \n",
      "__________________________________________________________________________________________________\n",
      "dense_1 (Dense)                 (None, 256)          98560       dropout[0][0]                    \n",
      "__________________________________________________________________________________________________\n",
      "dense_3 (Dense)                 (None, 384)          24960       dropout_1[0][0]                  \n",
      "__________________________________________________________________________________________________\n",
      "dense_5 (Dense)                 (None, 896)          144256      dropout_2[0][0]                  \n",
      "__________________________________________________________________________________________________\n",
      "concatenate (Concatenate)       (None, 1536)         0           dense_1[0][0]                    \n",
      "                                                                 dense_3[0][0]                    \n",
      "                                                                 dense_5[0][0]                    \n",
      "__________________________________________________________________________________________________\n",
      "dense_6 (Dense)                 (None, 192)          295104      concatenate[0][0]                \n",
      "__________________________________________________________________________________________________\n",
      "dense_7 (Dense)                 (None, 1)            193         dense_6[0][0]                    \n",
      "==================================================================================================\n",
      "Total params: 82,930,641\n",
      "Trainable params: 65,740,641\n",
      "Non-trainable params: 17,190,000\n",
      "__________________________________________________________________________________________________\n",
      "Epoch 1/80\n"
     ]
    },
    {
     "name": "stderr",
     "output_type": "stream",
     "text": [
      "2021-08-23 15:49:11.928947: I tensorflow/compiler/mlir/mlir_graph_optimization_pass.cc:116] None of the MLIR optimization passes are enabled (registered 2)\n",
      "2021-08-23 15:49:12.014169: I tensorflow/core/platform/profile_utils/cpu_utils.cc:112] CPU Frequency: 2199995000 Hz\n"
     ]
    },
    {
     "name": "stdout",
     "output_type": "stream",
     "text": [
      "253/253 [==============================] - 46s 166ms/step - loss: 9.3278 - tp: 233.1535 - fp: 235.7126 - tn: 966.5787 - fn: 476.9724 - sen: 0.3325 - prc: 0.4696 - auroc: 0.5941 - acc: 0.6128 - val_loss: 2.1431 - val_tp: 49.0000 - val_fp: 28.0000 - val_tn: 160.0000 - val_fn: 63.0000 - val_sen: 0.4375 - val_prc: 0.6364 - val_auroc: 0.7441 - val_acc: 0.6967\n",
      "Epoch 2/80\n",
      "253/253 [==============================] - 41s 163ms/step - loss: 2.1227 - tp: 259.7795 - fp: 176.0079 - tn: 1026.6457 - fn: 449.9843 - sen: 0.3780 - prc: 0.5928 - auroc: 0.7015 - acc: 0.6764 - val_loss: 1.1378 - val_tp: 41.0000 - val_fp: 18.0000 - val_tn: 170.0000 - val_fn: 71.0000 - val_sen: 0.3661 - val_prc: 0.6949 - val_auroc: 0.7669 - val_acc: 0.7033\n",
      "Epoch 3/80\n",
      "253/253 [==============================] - 41s 162ms/step - loss: 1.1674 - tp: 291.0512 - fp: 165.8898 - tn: 1033.9331 - fn: 421.5433 - sen: 0.4143 - prc: 0.6318 - auroc: 0.7334 - acc: 0.6920 - val_loss: 1.1358 - val_tp: 39.0000 - val_fp: 18.0000 - val_tn: 170.0000 - val_fn: 73.0000 - val_sen: 0.3482 - val_prc: 0.6842 - val_auroc: 0.7893 - val_acc: 0.6967\n",
      "Epoch 4/80\n",
      "253/253 [==============================] - 41s 162ms/step - loss: 0.9010 - tp: 286.4606 - fp: 154.9134 - tn: 1043.2362 - fn: 427.8071 - sen: 0.3976 - prc: 0.6442 - auroc: 0.7314 - acc: 0.6926 - val_loss: 0.7188 - val_tp: 35.0000 - val_fp: 6.0000 - val_tn: 182.0000 - val_fn: 77.0000 - val_sen: 0.3125 - val_prc: 0.8537 - val_auroc: 0.7937 - val_acc: 0.7233\n",
      "Epoch 5/80\n",
      "253/253 [==============================] - 41s 163ms/step - loss: 0.7664 - tp: 305.2205 - fp: 158.6339 - tn: 1045.0709 - fn: 403.4921 - sen: 0.4178 - prc: 0.6569 - auroc: 0.7484 - acc: 0.7100 - val_loss: 0.6979 - val_tp: 36.0000 - val_fp: 6.0000 - val_tn: 182.0000 - val_fn: 76.0000 - val_sen: 0.3214 - val_prc: 0.8571 - val_auroc: 0.7908 - val_acc: 0.7267\n",
      "Epoch 6/80\n",
      "253/253 [==============================] - 41s 164ms/step - loss: 0.6847 - tp: 304.8110 - fp: 159.9055 - tn: 1032.8425 - fn: 414.8583 - sen: 0.4167 - prc: 0.6501 - auroc: 0.7533 - acc: 0.6948 - val_loss: 0.6267 - val_tp: 47.0000 - val_fp: 15.0000 - val_tn: 173.0000 - val_fn: 65.0000 - val_sen: 0.4196 - val_prc: 0.7581 - val_auroc: 0.7836 - val_acc: 0.7333\n",
      "Epoch 7/80\n",
      "253/253 [==============================] - 41s 162ms/step - loss: 0.6292 - tp: 310.6654 - fp: 145.1693 - tn: 1062.1220 - fn: 394.4606 - sen: 0.4256 - prc: 0.6861 - auroc: 0.7612 - acc: 0.7230 - val_loss: 0.6273 - val_tp: 73.0000 - val_fp: 54.0000 - val_tn: 134.0000 - val_fn: 39.0000 - val_sen: 0.6518 - val_prc: 0.5748 - val_auroc: 0.7878 - val_acc: 0.6900\n",
      "Epoch 8/80\n",
      "253/253 [==============================] - 41s 163ms/step - loss: 0.6343 - tp: 369.3583 - fp: 169.0787 - tn: 1025.1614 - fn: 348.8189 - sen: 0.5368 - prc: 0.6811 - auroc: 0.7701 - acc: 0.7300 - val_loss: 0.6029 - val_tp: 43.0000 - val_fp: 11.0000 - val_tn: 177.0000 - val_fn: 69.0000 - val_sen: 0.3839 - val_prc: 0.7963 - val_auroc: 0.7966 - val_acc: 0.7333\n",
      "Epoch 9/80\n",
      "253/253 [==============================] - 41s 163ms/step - loss: 0.6201 - tp: 321.3819 - fp: 146.2913 - tn: 1060.4331 - fn: 384.3110 - sen: 0.4464 - prc: 0.6917 - auroc: 0.7705 - acc: 0.7239 - val_loss: 0.6056 - val_tp: 47.0000 - val_fp: 15.0000 - val_tn: 173.0000 - val_fn: 65.0000 - val_sen: 0.4196 - val_prc: 0.7581 - val_auroc: 0.7933 - val_acc: 0.7333\n",
      "Epoch 10/80\n",
      "253/253 [==============================] - 41s 162ms/step - loss: 0.6149 - tp: 346.1732 - fp: 158.7126 - tn: 1048.1772 - fn: 359.3543 - sen: 0.4854 - prc: 0.6933 - auroc: 0.7811 - acc: 0.7318 - val_loss: 0.6209 - val_tp: 45.0000 - val_fp: 14.0000 - val_tn: 174.0000 - val_fn: 67.0000 - val_sen: 0.4018 - val_prc: 0.7627 - val_auroc: 0.7911 - val_acc: 0.7300\n",
      "\n",
      "Epoch 00010: ReduceLROnPlateau reducing learning rate to 0.00010000000474974513.\n",
      "Epoch 11/80\n",
      "253/253 [==============================] - 41s 162ms/step - loss: 0.5966 - tp: 368.7480 - fp: 134.8425 - tn: 1069.2008 - fn: 339.6260 - sen: 0.4959 - prc: 0.7317 - auroc: 0.7981 - acc: 0.7542 - val_loss: 0.5873 - val_tp: 50.0000 - val_fp: 22.0000 - val_tn: 166.0000 - val_fn: 62.0000 - val_sen: 0.4464 - val_prc: 0.6944 - val_auroc: 0.8067 - val_acc: 0.7200\n",
      "Epoch 12/80\n",
      "253/253 [==============================] - 41s 162ms/step - loss: 0.5983 - tp: 386.1693 - fp: 147.9685 - tn: 1046.9213 - fn: 331.3583 - sen: 0.5304 - prc: 0.7277 - auroc: 0.8000 - acc: 0.7464 - val_loss: 0.5763 - val_tp: 54.0000 - val_fp: 23.0000 - val_tn: 165.0000 - val_fn: 58.0000 - val_sen: 0.4821 - val_prc: 0.7013 - val_auroc: 0.8137 - val_acc: 0.7300\n",
      "Epoch 13/80\n",
      "253/253 [==============================] - 41s 162ms/step - loss: 0.5706 - tp: 389.6024 - fp: 147.8661 - tn: 1055.2362 - fn: 319.7126 - sen: 0.5319 - prc: 0.7203 - auroc: 0.8203 - acc: 0.7510 - val_loss: 0.5671 - val_tp: 60.0000 - val_fp: 23.0000 - val_tn: 165.0000 - val_fn: 52.0000 - val_sen: 0.5357 - val_prc: 0.7229 - val_auroc: 0.8174 - val_acc: 0.7500\n",
      "Epoch 14/80\n",
      "253/253 [==============================] - 41s 163ms/step - loss: 0.5784 - tp: 398.1929 - fp: 144.2205 - tn: 1055.1220 - fn: 314.8819 - sen: 0.5572 - prc: 0.7335 - auroc: 0.8095 - acc: 0.7595 - val_loss: 0.5606 - val_tp: 61.0000 - val_fp: 24.0000 - val_tn: 164.0000 - val_fn: 51.0000 - val_sen: 0.5446 - val_prc: 0.7176 - val_auroc: 0.8207 - val_acc: 0.7500\n",
      "Epoch 15/80\n",
      "253/253 [==============================] - 41s 164ms/step - loss: 0.5649 - tp: 408.5118 - fp: 144.7441 - tn: 1056.1732 - fn: 302.9882 - sen: 0.5686 - prc: 0.7312 - auroc: 0.8199 - acc: 0.7667 - val_loss: 0.5634 - val_tp: 56.0000 - val_fp: 20.0000 - val_tn: 168.0000 - val_fn: 56.0000 - val_sen: 0.5000 - val_prc: 0.7368 - val_auroc: 0.8196 - val_acc: 0.7467\n",
      "Epoch 16/80\n",
      "253/253 [==============================] - 41s 163ms/step - loss: 0.5588 - tp: 409.4606 - fp: 139.7756 - tn: 1059.2874 - fn: 303.8937 - sen: 0.5852 - prc: 0.7517 - auroc: 0.8245 - acc: 0.7732 - val_loss: 0.5584 - val_tp: 62.0000 - val_fp: 26.0000 - val_tn: 162.0000 - val_fn: 50.0000 - val_sen: 0.5536 - val_prc: 0.7045 - val_auroc: 0.8205 - val_acc: 0.7467\n",
      "Epoch 17/80\n",
      "253/253 [==============================] - 41s 162ms/step - loss: 0.5608 - tp: 432.6339 - fp: 154.6693 - tn: 1043.8701 - fn: 281.2441 - sen: 0.6215 - prc: 0.7469 - auroc: 0.8270 - acc: 0.7764 - val_loss: 0.5572 - val_tp: 60.0000 - val_fp: 24.0000 - val_tn: 164.0000 - val_fn: 52.0000 - val_sen: 0.5357 - val_prc: 0.7143 - val_auroc: 0.8229 - val_acc: 0.7467\n",
      "Epoch 18/80\n",
      "253/253 [==============================] - 41s 162ms/step - loss: 0.5585 - tp: 417.1063 - fp: 148.0551 - tn: 1056.6378 - fn: 290.6181 - sen: 0.5768 - prc: 0.7344 - auroc: 0.8224 - acc: 0.7727 - val_loss: 0.5589 - val_tp: 55.0000 - val_fp: 22.0000 - val_tn: 166.0000 - val_fn: 57.0000 - val_sen: 0.4911 - val_prc: 0.7143 - val_auroc: 0.8223 - val_acc: 0.7367\n",
      "Epoch 19/80\n",
      "253/253 [==============================] - 41s 163ms/step - loss: 0.5517 - tp: 408.1772 - fp: 140.9528 - tn: 1062.4606 - fn: 300.8268 - sen: 0.5612 - prc: 0.7407 - auroc: 0.8312 - acc: 0.7646 - val_loss: 0.5569 - val_tp: 60.0000 - val_fp: 24.0000 - val_tn: 164.0000 - val_fn: 52.0000 - val_sen: 0.5357 - val_prc: 0.7143 - val_auroc: 0.8232 - val_acc: 0.7467\n",
      "Epoch 20/80\n",
      "253/253 [==============================] - 41s 162ms/step - loss: 0.5549 - tp: 432.6575 - fp: 136.5630 - tn: 1064.9724 - fn: 278.2244 - sen: 0.5937 - prc: 0.7547 - auroc: 0.8295 - acc: 0.7788 - val_loss: 0.5565 - val_tp: 59.0000 - val_fp: 23.0000 - val_tn: 165.0000 - val_fn: 53.0000 - val_sen: 0.5268 - val_prc: 0.7195 - val_auroc: 0.8249 - val_acc: 0.7467\n",
      "Epoch 21/80\n",
      "253/253 [==============================] - 42s 167ms/step - loss: 0.5507 - tp: 437.7402 - fp: 144.1496 - tn: 1051.5906 - fn: 278.9370 - sen: 0.6103 - prc: 0.7591 - auroc: 0.8362 - acc: 0.7782 - val_loss: 0.5556 - val_tp: 61.0000 - val_fp: 23.0000 - val_tn: 165.0000 - val_fn: 51.0000 - val_sen: 0.5446 - val_prc: 0.7262 - val_auroc: 0.8252 - val_acc: 0.7533\n",
      "Epoch 22/80\n",
      "253/253 [==============================] - 41s 164ms/step - loss: 0.5348 - tp: 441.3110 - fp: 148.6969 - tn: 1056.8701 - fn: 265.5394 - sen: 0.6386 - prc: 0.7582 - auroc: 0.8491 - acc: 0.7896 - val_loss: 0.5577 - val_tp: 68.0000 - val_fp: 26.0000 - val_tn: 162.0000 - val_fn: 44.0000 - val_sen: 0.6071 - val_prc: 0.7234 - val_auroc: 0.8229 - val_acc: 0.7667\n",
      "Epoch 23/80\n",
      "253/253 [==============================] - 41s 163ms/step - loss: 0.5445 - tp: 446.4252 - fp: 158.3543 - tn: 1044.6063 - fn: 263.0315 - sen: 0.6217 - prc: 0.7298 - auroc: 0.8367 - acc: 0.7789 - val_loss: 0.5615 - val_tp: 64.0000 - val_fp: 24.0000 - val_tn: 164.0000 - val_fn: 48.0000 - val_sen: 0.5714 - val_prc: 0.7273 - val_auroc: 0.8198 - val_acc: 0.7600\n",
      "\n",
      "Epoch 00023: ReduceLROnPlateau reducing learning rate to 1.0000000474974514e-05.\n",
      "Epoch 24/80\n",
      "253/253 [==============================] - 41s 163ms/step - loss: 0.5375 - tp: 449.6339 - fp: 135.6339 - tn: 1066.2126 - fn: 260.9370 - sen: 0.6221 - prc: 0.7625 - auroc: 0.8437 - acc: 0.7904 - val_loss: 0.5603 - val_tp: 64.0000 - val_fp: 24.0000 - val_tn: 164.0000 - val_fn: 48.0000 - val_sen: 0.5714 - val_prc: 0.7273 - val_auroc: 0.8209 - val_acc: 0.7600\n",
      "Epoch 25/80\n",
      "253/253 [==============================] - 41s 162ms/step - loss: 0.5263 - tp: 466.8425 - fp: 137.8661 - tn: 1059.9961 - fn: 247.7126 - sen: 0.6546 - prc: 0.7821 - auroc: 0.8594 - acc: 0.8018 - val_loss: 0.5600 - val_tp: 64.0000 - val_fp: 24.0000 - val_tn: 164.0000 - val_fn: 48.0000 - val_sen: 0.5714 - val_prc: 0.7273 - val_auroc: 0.8215 - val_acc: 0.7600\n",
      "Restoring model weights from the end of the best epoch.\n",
      "\n",
      "Epoch 00025: ReduceLROnPlateau reducing learning rate to 1.0000000656873453e-06.\n",
      "Epoch 00025: early stopping\n",
      "20/20 [==============================] - 1s 43ms/step - loss: 0.5556 - tp: 61.0000 - fp: 23.0000 - tn: 165.0000 - fn: 51.0000 - sen: 0.5446 - prc: 0.7262 - auroc: 0.8252 - acc: 0.7533\n"
     ]
    },
    {
     "data": {
      "text/plain": [
       "[0.5555747747421265,\n",
       " 61.0,\n",
       " 23.0,\n",
       " 165.0,\n",
       " 51.0,\n",
       " 0.5446428656578064,\n",
       " 0.726190447807312,\n",
       " 0.8252041935920715,\n",
       " 0.753333330154419]"
      ]
     },
     "execution_count": 19,
     "metadata": {},
     "output_type": "execute_result"
    }
   ],
   "source": [
    "input1 = tf.keras.Input(shape=(max_length,))\n",
    "nl = tf.keras.layers.Embedding(vocabulary_size, embedding_dimension, embeddings_initializer = tf.keras.initializers.Constant(embedding_matrix), input_length = max_length, trainable=False)(input1)\n",
    "nl = tf.keras.layers.Flatten()(nl)\n",
    "nl = tf.keras.layers.Dense(384, activation='relu', kernel_regularizer=tf.keras.regularizers.l2())(nl)\n",
    "nl = tf.keras.layers.Dropout(0)(nl)\n",
    "nl = tf.keras.layers.Dense(256, activation='relu', kernel_regularizer=tf.keras.regularizers.l2())(nl)\n",
    "\n",
    "input2 = tf.keras.Input(shape=(width,))\n",
    "nl2 = tf.keras.layers.Embedding(vocabulary_pubmed_size, pubmed_embedding_dimension, embeddings_initializer = tf.keras.initializers.Constant(pubmed_embedding_matrix), input_length = width, trainable=False)(input2)\n",
    "nl2 = tf.keras.layers.Flatten()(nl2)\n",
    "nl2 = tf.keras.layers.Dense(64, activation='relu', kernel_regularizer=tf.keras.regularizers.l2())(nl2)\n",
    "nl2 = tf.keras.layers.Dropout(0.8)(nl2)\n",
    "nl2 = tf.keras.layers.Dense(384, activation='relu', kernel_regularizer=tf.keras.regularizers.l2())(nl2)\n",
    "\n",
    "input3 = tf.keras.Input(shape=(structuredArray.shape[1],))\n",
    "sl = tf.keras.layers.Dense(160, activation='relu', kernel_regularizer=tf.keras.regularizers.l2())(input3)\n",
    "sl = tf.keras.layers.Dropout(0.6)(sl)\n",
    "sl = tf.keras.layers.Dense(896, activation='relu', kernel_regularizer=tf.keras.regularizers.l2())(sl)\n",
    "\n",
    "combo = tf.keras.layers.Concatenate()([nl, nl2, sl])\n",
    "combo = tf.keras.layers.Dense(192, activation='relu', kernel_regularizer=tf.keras.regularizers.l2())(combo)\n",
    "nl = combo\n",
    "\n",
    "output = tf.keras.layers.Dense(1, activation='sigmoid')(nl)\n",
    "\n",
    "#model = tf.keras.Model(inputs = input1, outputs = output)\n",
    "#model = tf.keras.Model(inputs = input2, outputs = output)\n",
    "model = tf.keras.Model(inputs = (input1, input2, input3), outputs = output)\n",
    "\n",
    "model.summary()\n",
    "\n",
    "metrics = [\n",
    "    tf.keras.metrics.TruePositives(name='tp'), \n",
    "    tf.keras.metrics.FalsePositives(name='fp'), \n",
    "    tf.keras.metrics.TrueNegatives(name='tn'), \n",
    "    tf.keras.metrics.FalseNegatives(name='fn'), \n",
    "    tf.keras.metrics.Recall(name='sen'), \n",
    "    tf.keras.metrics.Precision(name='prc'), \n",
    "    tf.keras.metrics.AUC(name='auroc'), \n",
    "    tf.keras.metrics.BinaryAccuracy(name='acc')\n",
    "]\n",
    "callbacks=[\n",
    "    tf.keras.callbacks.EarlyStopping(patience=4, verbose=1, restore_best_weights=True, min_delta=0.0001), \n",
    "    tf.keras.callbacks.ReduceLROnPlateau(factor=0.1, patience=2, verbose=1)\n",
    "]\n",
    "model.compile(optimizer=tf.keras.optimizers.Adam(0.001), loss='binary_crossentropy', metrics=metrics)\n",
    "history = model.fit(train_dataset, epochs=80, validation_data=validation_dataset, verbose=1, callbacks=callbacks)\n",
    "model.evaluate(validation_dataset)\n",
    "y_pred = model.predict(validation_dataset)"
   ]
  },
  {
   "cell_type": "code",
   "execution_count": 53,
   "id": "fec10832",
   "metadata": {},
   "outputs": [],
   "source": [
    "model.save_weights('final/struct036b_lowva_weights-XXXX')"
   ]
  },
  {
   "cell_type": "markdown",
   "id": "ebbf6fba",
   "metadata": {},
   "source": [
    "loss: 2.0188 - tp: 42.0000 - fp: 45.0000 - tn: 143.0000 - fn: 70.0000 - sen: 0.3750 - prc: 0.4828 - auroc: 0.6193 - acc: 0.6167"
   ]
  },
  {
   "cell_type": "code",
   "execution_count": 20,
   "id": "83725e71",
   "metadata": {},
   "outputs": [
    {
     "data": {
      "image/png": "[encoded data removed]",
      "text/plain": [
       "<Figure size 432x288 with 1 Axes>"
      ]
     },
     "metadata": {
      "needs_background": "light"
     },
     "output_type": "display_data"
    },
    {
     "data": {
      "image/png": "[encoded data removed]",
      "text/plain": [
       "<Figure size 432x288 with 1 Axes>"
      ]
     },
     "metadata": {
      "needs_background": "light"
     },
     "output_type": "display_data"
    },
    {
     "data": {
      "image/png": "[encoded data removed]",
      "text/plain": [
       "<Figure size 432x288 with 1 Axes>"
      ]
     },
     "metadata": {
      "needs_background": "light"
     },
     "output_type": "display_data"
    }
   ],
   "source": [
    "plt_loss(history)\n",
    "plt_acc(history)\n",
    "plt_roc(validation_dataset, y_pred)"
   ]
  },
  {
   "cell_type": "code",
   "execution_count": 21,
   "id": "8427ee4a",
   "metadata": {},
   "outputs": [
    {
     "name": "stdout",
     "output_type": "stream",
     "text": [
      "20/20 [==============================] - 1s 44ms/step - loss: 0.5914 - tp: 64.0000 - fp: 23.0000 - tn: 164.0000 - fn: 49.0000 - sen: 0.5664 - prc: 0.7356 - auroc: 0.7889 - acc: 0.7600\n"
     ]
    },
    {
     "data": {
      "text/plain": [
       "[0.5914145708084106,\n",
       " 64.0,\n",
       " 23.0,\n",
       " 164.0,\n",
       " 49.0,\n",
       " 0.5663716793060303,\n",
       " 0.7356321811676025,\n",
       " 0.7888646721839905,\n",
       " 0.7599999904632568]"
      ]
     },
     "execution_count": 21,
     "metadata": {},
     "output_type": "execute_result"
    },
    {
     "data": {
      "image/png": "[encoded data removed]",
      "text/plain": [
       "<Figure size 432x288 with 1 Axes>"
      ]
     },
     "metadata": {
      "needs_background": "light"
     },
     "output_type": "display_data"
    }
   ],
   "source": [
    "model.evaluate(test_dataset)\n",
    "y_pred_test = model.predict(test_dataset)\n",
    "plt_roc(test_dataset, y_pred_test, 'test')"
   ]
  },
  {
   "cell_type": "markdown",
   "id": "a9161bd5",
   "metadata": {},
   "source": [
    "# Loading Data- TextCNN"
   ]
  },
  {
   "cell_type": "code",
   "execution_count": 20,
   "id": "db40a8a8",
   "metadata": {},
   "outputs": [
    {
     "data": {
      "text/plain": [
       "1310720"
      ]
     },
     "execution_count": 20,
     "metadata": {},
     "output_type": "execute_result"
    },
    {
     "name": "stdout",
     "output_type": "stream",
     "text": [
      "\n",
      "loading structured data\n",
      "loading and joining with unstructured data\n",
      "(5548, 1000) (5548, 556) (5548, 1)\n",
      "loading Pubmed EMR vectors\n",
      "(55940, 300)\n"
     ]
    }
   ],
   "source": [
    "# code to load the pre-trained embeddings and dataset\n",
    "import tensorflow_datasets as tfds\n",
    "import numpy as np\n",
    "import csv\n",
    "\n",
    "def isfloat(value):\n",
    "    try:\n",
    "        float(value)\n",
    "        return True\n",
    "    except ValueError:\n",
    "        return False\n",
    "\n",
    "with open('../pubmed_cbow_vocabulary.txt', 'r') as f:\n",
    "    vocabulary = []\n",
    "    for row in f:\n",
    "        vocabulary.append(row.strip())\n",
    "\n",
    "vocabulary_size = len(vocabulary) + 2\n",
    "tokenizer = tfds.deprecated.text.Tokenizer()\n",
    "\n",
    "width = 1000\n",
    "embedding_dimension = 300\n",
    "encoder = tfds.deprecated.text.TokenTextEncoder(vocabulary, tokenizer=tokenizer)\n",
    "csv.field_size_limit(1310720)\n",
    "print('\\nloading structured data')\n",
    "with open('../lowva-structured-02.csv', 'r') as f:\n",
    "    r = csv.reader(f)\n",
    "    i = 0\n",
    "    structuredDict = {}\n",
    "    for row in r:\n",
    "        i += 1\n",
    "        if i == 1:\n",
    "            continue\n",
    "        else:\n",
    "            key = row[0].strip()\n",
    "            values = np.array([float(i) for i in row[2:] if isfloat(i)])\n",
    "            structuredDict[key] = values\n",
    "\n",
    "print('loading and joining with unstructured data')\n",
    "with open('../lowva-extrinsicdata.csv', 'r') as f:\n",
    "    r = csv.reader(f)\n",
    "    i = 0\n",
    "    tokenArray = []\n",
    "    outputArray = []\n",
    "    structuredArray = []\n",
    "    for row in r:\n",
    "        i += 1\n",
    "        if row[0].strip() in structuredDict:\n",
    "            structvalues = structuredDict[row[0].strip()]\n",
    "            output = np.array([int(row[1])])\n",
    "            tokens = encoder.encode(row[2])\n",
    "            tokens = tokens[0:width]\n",
    "            if len(tokens) < width:\n",
    "                tokens = tokens + [0 for i in range(width-len(tokens))]\n",
    "\n",
    "            structuredArray.append(structvalues)\n",
    "            outputArray.append(output)\n",
    "            tokenArray.append(tokens)\n",
    "\n",
    "del structuredDict\n",
    "tokenArray = np.array(tokenArray)\n",
    "outputArray = np.array(outputArray)\n",
    "structuredArray = np.array(structuredArray)\n",
    "\n",
    "print(tokenArray.shape, structuredArray.shape, outputArray.shape)\n",
    "\n",
    "print('loading Pubmed EMR vectors')\n",
    "model = tf.keras.models.load_model('../pubmed_cbow_embeddings.h5')\n",
    "embedding_matrix = np.zeros((vocabulary_size, embedding_dimension))\n",
    "e = model.layers[1]\n",
    "embedding_matrix = e.get_weights()[0]\n",
    "print(embedding_matrix.shape)\n",
    "del model"
   ]
  },
  {
   "cell_type": "markdown",
   "id": "655e69e2",
   "metadata": {},
   "source": [
    "# (Model B) CNN word embedding text model"
   ]
  },
  {
   "cell_type": "code",
   "execution_count": 22,
   "id": "8c113e19",
   "metadata": {},
   "outputs": [],
   "source": [
    "total_input = tf.data.Dataset.from_tensor_slices(tokenArray)\n",
    "total_output = tf.data.Dataset.from_tensor_slices(outputArray)\n",
    "total_dataset = tf.data.Dataset.zip((total_input, total_output))\n",
    "train_dataset = total_dataset.skip(600).shuffle(1000).batch(15)\n",
    "validation_dataset = total_dataset.skip(300).take(300).batch(15)\n",
    "test_dataset = total_dataset.take(300).batch(15)"
   ]
  },
  {
   "cell_type": "code",
   "execution_count": 23,
   "id": "cb858e39",
   "metadata": {},
   "outputs": [
    {
     "name": "stdout",
     "output_type": "stream",
     "text": [
      "Model: \"model_1\"\n",
      "__________________________________________________________________________________________________\n",
      "Layer (type)                    Output Shape         Param #     Connected to                     \n",
      "==================================================================================================\n",
      "input_2 (InputLayer)            [(None, 1000)]       0                                            \n",
      "__________________________________________________________________________________________________\n",
      "embedding_1 (Embedding)         (None, 1000, 300)    16782000    input_2[0][0]                    \n",
      "__________________________________________________________________________________________________\n",
      "dense_4 (Dense)                 (None, 1000, 512)    154112      embedding_1[0][0]                \n",
      "__________________________________________________________________________________________________\n",
      "dropout_3 (Dropout)             (None, 1000, 512)    0           dense_4[0][0]                    \n",
      "__________________________________________________________________________________________________\n",
      "conv1d_4 (Conv1D)               (None, 998, 256)     393472      dropout_3[0][0]                  \n",
      "__________________________________________________________________________________________________\n",
      "conv1d_5 (Conv1D)               (None, 996, 256)     655616      dropout_3[0][0]                  \n",
      "__________________________________________________________________________________________________\n",
      "conv1d_6 (Conv1D)               (None, 994, 256)     917760      dropout_3[0][0]                  \n",
      "__________________________________________________________________________________________________\n",
      "conv1d_7 (Conv1D)               (None, 991, 256)     1310976     dropout_3[0][0]                  \n",
      "__________________________________________________________________________________________________\n",
      "max_pooling1d_4 (MaxPooling1D)  (None, 1, 256)       0           conv1d_4[0][0]                   \n",
      "__________________________________________________________________________________________________\n",
      "max_pooling1d_5 (MaxPooling1D)  (None, 1, 256)       0           conv1d_5[0][0]                   \n",
      "__________________________________________________________________________________________________\n",
      "max_pooling1d_6 (MaxPooling1D)  (None, 1, 256)       0           conv1d_6[0][0]                   \n",
      "__________________________________________________________________________________________________\n",
      "max_pooling1d_7 (MaxPooling1D)  (None, 1, 256)       0           conv1d_7[0][0]                   \n",
      "__________________________________________________________________________________________________\n",
      "concatenate_1 (Concatenate)     (None, 4, 256)       0           max_pooling1d_4[0][0]            \n",
      "                                                                 max_pooling1d_5[0][0]            \n",
      "                                                                 max_pooling1d_6[0][0]            \n",
      "                                                                 max_pooling1d_7[0][0]            \n",
      "__________________________________________________________________________________________________\n",
      "flatten_1 (Flatten)             (None, 1024)         0           concatenate_1[0][0]              \n",
      "__________________________________________________________________________________________________\n",
      "dropout_4 (Dropout)             (None, 1024)         0           flatten_1[0][0]                  \n",
      "__________________________________________________________________________________________________\n",
      "dense_5 (Dense)                 (None, 1024)         1049600     dropout_4[0][0]                  \n",
      "__________________________________________________________________________________________________\n",
      "dropout_5 (Dropout)             (None, 1024)         0           dense_5[0][0]                    \n",
      "__________________________________________________________________________________________________\n",
      "dense_6 (Dense)                 (None, 64)           65600       dropout_5[0][0]                  \n",
      "__________________________________________________________________________________________________\n",
      "dense_7 (Dense)                 (None, 1)            65          dense_6[0][0]                    \n",
      "==================================================================================================\n",
      "Total params: 21,329,201\n",
      "Trainable params: 4,547,201\n",
      "Non-trainable params: 16,782,000\n",
      "__________________________________________________________________________________________________\n",
      "Epoch 1/80\n"
     ]
    },
    {
     "name": "stderr",
     "output_type": "stream",
     "text": [
      "2021-11-08 04:30:42.310259: I tensorflow/compiler/mlir/mlir_graph_optimization_pass.cc:116] None of the MLIR optimization passes are enabled (registered 2)\n",
      "2021-11-08 04:30:42.386123: I tensorflow/core/platform/profile_utils/cpu_utils.cc:112] CPU Frequency: 2199995000 Hz\n"
     ]
    },
    {
     "name": "stdout",
     "output_type": "stream",
     "text": [
      "330/330 [==============================] - 370s 1s/step - loss: 7.1367 - tp: 137.7583 - fp: 199.5529 - tn: 1272.7190 - fn: 879.9124 - sen: 0.1858 - prc: 0.4054 - auroc: 0.5027 - acc: 0.5534 - val_loss: 1.2232 - val_tp: 0.0000e+00 - val_fp: 0.0000e+00 - val_tn: 176.0000 - val_fn: 124.0000 - val_sen: 0.0000e+00 - val_prc: 0.0000e+00 - val_auroc: 0.5616 - val_acc: 0.5867\n",
      "Epoch 2/80\n",
      "330/330 [==============================] - 382s 1s/step - loss: 1.0383 - tp: 13.6103 - fp: 25.3293 - tn: 1444.8429 - fn: 1006.1601 - sen: 0.0173 - prc: 0.3453 - auroc: 0.5309 - acc: 0.5845 - val_loss: 0.7729 - val_tp: 0.0000e+00 - val_fp: 0.0000e+00 - val_tn: 176.0000 - val_fn: 124.0000 - val_sen: 0.0000e+00 - val_prc: 0.0000e+00 - val_auroc: 0.5556 - val_acc: 0.5867\n",
      "Epoch 3/80\n",
      "330/330 [==============================] - 384s 1s/step - loss: 0.7531 - tp: 57.4139 - fp: 79.0604 - tn: 1391.4864 - fn: 961.9819 - sen: 0.0480 - prc: 0.3575 - auroc: 0.5764 - acc: 0.5819 - val_loss: 0.7128 - val_tp: 31.0000 - val_fp: 18.0000 - val_tn: 158.0000 - val_fn: 93.0000 - val_sen: 0.2500 - val_prc: 0.6327 - val_auroc: 0.5940 - val_acc: 0.6300\n",
      "Epoch 4/80\n",
      "330/330 [==============================] - 366s 1s/step - loss: 0.6942 - tp: 191.9698 - fp: 127.1752 - tn: 1350.2085 - fn: 820.5891 - sen: 0.1548 - prc: 0.6577 - auroc: 0.6287 - acc: 0.6228 - val_loss: 0.6678 - val_tp: 45.0000 - val_fp: 33.0000 - val_tn: 143.0000 - val_fn: 79.0000 - val_sen: 0.3629 - val_prc: 0.5769 - val_auroc: 0.6733 - val_acc: 0.6267\n",
      "Epoch 5/80\n",
      "330/330 [==============================] - 367s 1s/step - loss: 0.6527 - tp: 398.5015 - fp: 260.7795 - tn: 1218.9396 - fn: 611.7221 - sen: 0.3648 - prc: 0.6199 - auroc: 0.6881 - acc: 0.6517 - val_loss: 0.6110 - val_tp: 83.0000 - val_fp: 46.0000 - val_tn: 130.0000 - val_fn: 41.0000 - val_sen: 0.6694 - val_prc: 0.6434 - val_auroc: 0.7695 - val_acc: 0.7100\n",
      "Epoch 6/80\n",
      "330/330 [==============================] - 367s 1s/step - loss: 0.6350 - tp: 509.2085 - fp: 304.4018 - tn: 1171.3263 - fn: 505.0060 - sen: 0.5106 - prc: 0.6285 - auroc: 0.7239 - acc: 0.6775 - val_loss: 0.5831 - val_tp: 62.0000 - val_fp: 23.0000 - val_tn: 153.0000 - val_fn: 62.0000 - val_sen: 0.5000 - val_prc: 0.7294 - val_auroc: 0.7869 - val_acc: 0.7167\n",
      "Epoch 7/80\n",
      "330/330 [==============================] - 368s 1s/step - loss: 0.6106 - tp: 548.6737 - fp: 288.6707 - tn: 1192.9577 - fn: 459.6405 - sen: 0.5468 - prc: 0.6543 - auroc: 0.7464 - acc: 0.7014 - val_loss: 0.6159 - val_tp: 89.0000 - val_fp: 45.0000 - val_tn: 131.0000 - val_fn: 35.0000 - val_sen: 0.7177 - val_prc: 0.6642 - val_auroc: 0.7903 - val_acc: 0.7333\n",
      "Epoch 8/80\n",
      "330/330 [==============================] - 367s 1s/step - loss: 0.5932 - tp: 555.1843 - fp: 244.6888 - tn: 1228.6073 - fn: 461.4622 - sen: 0.5646 - prc: 0.6953 - auroc: 0.7712 - acc: 0.7211 - val_loss: 0.5630 - val_tp: 73.0000 - val_fp: 28.0000 - val_tn: 148.0000 - val_fn: 51.0000 - val_sen: 0.5887 - val_prc: 0.7228 - val_auroc: 0.7968 - val_acc: 0.7367\n",
      "Epoch 9/80\n",
      "330/330 [==============================] - 368s 1s/step - loss: 0.5942 - tp: 568.6586 - fp: 251.6405 - tn: 1228.6647 - fn: 440.9789 - sen: 0.5619 - prc: 0.6937 - auroc: 0.7695 - acc: 0.7225 - val_loss: 0.5564 - val_tp: 69.0000 - val_fp: 23.0000 - val_tn: 153.0000 - val_fn: 55.0000 - val_sen: 0.5565 - val_prc: 0.7500 - val_auroc: 0.8094 - val_acc: 0.7400\n",
      "Epoch 10/80\n",
      "330/330 [==============================] - 367s 1s/step - loss: 0.5792 - tp: 563.7402 - fp: 238.5861 - tn: 1242.6465 - fn: 444.9698 - sen: 0.5463 - prc: 0.6966 - auroc: 0.7802 - acc: 0.7221 - val_loss: 0.5663 - val_tp: 74.0000 - val_fp: 24.0000 - val_tn: 152.0000 - val_fn: 50.0000 - val_sen: 0.5968 - val_prc: 0.7551 - val_auroc: 0.7992 - val_acc: 0.7533\n",
      "Epoch 11/80\n",
      "330/330 [==============================] - 367s 1s/step - loss: 0.5726 - tp: 578.9789 - fp: 216.9789 - tn: 1250.2024 - fn: 443.7825 - sen: 0.5568 - prc: 0.7239 - auroc: 0.7881 - acc: 0.7327 - val_loss: 0.5594 - val_tp: 83.0000 - val_fp: 39.0000 - val_tn: 137.0000 - val_fn: 41.0000 - val_sen: 0.6694 - val_prc: 0.6803 - val_auroc: 0.8069 - val_acc: 0.7333\n",
      "\n",
      "Epoch 00011: ReduceLROnPlateau reducing learning rate to 0.00010000000474974513.\n",
      "Epoch 12/80\n",
      "330/330 [==============================] - 368s 1s/step - loss: 0.5399 - tp: 626.1118 - fp: 224.9154 - tn: 1252.6012 - fn: 386.3142 - sen: 0.6167 - prc: 0.7277 - auroc: 0.8163 - acc: 0.7536 - val_loss: 0.5460 - val_tp: 72.0000 - val_fp: 28.0000 - val_tn: 148.0000 - val_fn: 52.0000 - val_sen: 0.5806 - val_prc: 0.7200 - val_auroc: 0.8090 - val_acc: 0.7333\n",
      "Epoch 13/80\n",
      "330/330 [==============================] - 370s 1s/step - loss: 0.5429 - tp: 616.9305 - fp: 214.0544 - tn: 1264.0816 - fn: 394.8761 - sen: 0.6019 - prc: 0.7324 - auroc: 0.8093 - acc: 0.7517 - val_loss: 0.5442 - val_tp: 73.0000 - val_fp: 28.0000 - val_tn: 148.0000 - val_fn: 51.0000 - val_sen: 0.5887 - val_prc: 0.7228 - val_auroc: 0.8081 - val_acc: 0.7367\n",
      "Epoch 14/80\n",
      "330/330 [==============================] - 368s 1s/step - loss: 0.5307 - tp: 638.6163 - fp: 215.4169 - tn: 1262.4743 - fn: 373.4350 - sen: 0.6251 - prc: 0.7438 - auroc: 0.8216 - acc: 0.7586 - val_loss: 0.5433 - val_tp: 78.0000 - val_fp: 29.0000 - val_tn: 147.0000 - val_fn: 46.0000 - val_sen: 0.6290 - val_prc: 0.7290 - val_auroc: 0.8083 - val_acc: 0.7500\n",
      "Epoch 15/80\n",
      "330/330 [==============================] - 368s 1s/step - loss: 0.5133 - tp: 653.8671 - fp: 212.2387 - tn: 1266.5317 - fn: 357.3051 - sen: 0.6504 - prc: 0.7559 - auroc: 0.8349 - acc: 0.7749 - val_loss: 0.5438 - val_tp: 77.0000 - val_fp: 29.0000 - val_tn: 147.0000 - val_fn: 47.0000 - val_sen: 0.6210 - val_prc: 0.7264 - val_auroc: 0.8068 - val_acc: 0.7467\n",
      "Epoch 16/80\n",
      "330/330 [==============================] - 367s 1s/step - loss: 0.5117 - tp: 639.5740 - fp: 202.1511 - tn: 1270.2628 - fn: 377.9547 - sen: 0.6221 - prc: 0.7592 - auroc: 0.8350 - acc: 0.7657 - val_loss: 0.5404 - val_tp: 80.0000 - val_fp: 31.0000 - val_tn: 145.0000 - val_fn: 44.0000 - val_sen: 0.6452 - val_prc: 0.7207 - val_auroc: 0.8093 - val_acc: 0.7500\n",
      "Epoch 17/80\n",
      "330/330 [==============================] - 367s 1s/step - loss: 0.4988 - tp: 651.5468 - fp: 204.6677 - tn: 1278.6647 - fn: 355.0634 - sen: 0.6544 - prc: 0.7537 - auroc: 0.8420 - acc: 0.7759 - val_loss: 0.5373 - val_tp: 75.0000 - val_fp: 30.0000 - val_tn: 146.0000 - val_fn: 49.0000 - val_sen: 0.6048 - val_prc: 0.7143 - val_auroc: 0.8115 - val_acc: 0.7367\n",
      "Epoch 18/80\n",
      "330/330 [==============================] - 367s 1s/step - loss: 0.5022 - tp: 654.8973 - fp: 197.3051 - tn: 1268.4199 - fn: 369.3202 - sen: 0.6340 - prc: 0.7687 - auroc: 0.8375 - acc: 0.7738 - val_loss: 0.5362 - val_tp: 72.0000 - val_fp: 25.0000 - val_tn: 151.0000 - val_fn: 52.0000 - val_sen: 0.5806 - val_prc: 0.7423 - val_auroc: 0.8115 - val_acc: 0.7433\n",
      "Epoch 19/80\n",
      "330/330 [==============================] - 370s 1s/step - loss: 0.4986 - tp: 650.5831 - fp: 189.1601 - tn: 1279.6012 - fn: 370.5982 - sen: 0.6329 - prc: 0.7715 - auroc: 0.8414 - acc: 0.7729 - val_loss: 0.5390 - val_tp: 77.0000 - val_fp: 28.0000 - val_tn: 148.0000 - val_fn: 47.0000 - val_sen: 0.6210 - val_prc: 0.7333 - val_auroc: 0.8100 - val_acc: 0.7500\n",
      "Epoch 20/80\n",
      "330/330 [==============================] - 368s 1s/step - loss: 0.4938 - tp: 655.3233 - fp: 180.3595 - tn: 1298.7885 - fn: 355.4713 - sen: 0.6399 - prc: 0.7834 - auroc: 0.8444 - acc: 0.7804 - val_loss: 0.5395 - val_tp: 77.0000 - val_fp: 31.0000 - val_tn: 145.0000 - val_fn: 47.0000 - val_sen: 0.6210 - val_prc: 0.7130 - val_auroc: 0.8107 - val_acc: 0.7400\n",
      "\n",
      "Epoch 00020: ReduceLROnPlateau reducing learning rate to 1.0000000474974514e-05.\n",
      "Epoch 21/80\n",
      "330/330 [==============================] - 366s 1s/step - loss: 0.4796 - tp: 687.4743 - fp: 184.5166 - tn: 1287.2779 - fn: 330.6737 - sen: 0.6721 - prc: 0.7875 - auroc: 0.8559 - acc: 0.7947 - val_loss: 0.5397 - val_tp: 77.0000 - val_fp: 31.0000 - val_tn: 145.0000 - val_fn: 47.0000 - val_sen: 0.6210 - val_prc: 0.7130 - val_auroc: 0.8110 - val_acc: 0.7400\n",
      "Epoch 22/80\n",
      "330/330 [==============================] - 368s 1s/step - loss: 0.4969 - tp: 669.6495 - fp: 182.3293 - tn: 1292.7553 - fn: 345.2085 - sen: 0.6572 - prc: 0.7796 - auroc: 0.8393 - acc: 0.7876 - val_loss: 0.5400 - val_tp: 77.0000 - val_fp: 31.0000 - val_tn: 145.0000 - val_fn: 47.0000 - val_sen: 0.6210 - val_prc: 0.7130 - val_auroc: 0.8113 - val_acc: 0.7400\n",
      "Restoring model weights from the end of the best epoch.\n",
      "\n",
      "Epoch 00022: ReduceLROnPlateau reducing learning rate to 1.0000000656873453e-06.\n",
      "Epoch 00022: early stopping\n",
      "20/20 [==============================] - 7s 325ms/step - loss: 0.5362 - tp: 72.0000 - fp: 25.0000 - tn: 151.0000 - fn: 52.0000 - sen: 0.5806 - prc: 0.7423 - auroc: 0.8115 - acc: 0.7433\n"
     ]
    },
    {
     "data": {
      "text/plain": [
       "[0.5362467765808105,\n",
       " 72.0,\n",
       " 25.0,\n",
       " 151.0,\n",
       " 52.0,\n",
       " 0.5806451439857483,\n",
       " 0.7422680258750916,\n",
       " 0.8115377426147461,\n",
       " 0.7433333396911621]"
      ]
     },
     "execution_count": 23,
     "metadata": {},
     "output_type": "execute_result"
    }
   ],
   "source": [
    "input1 = tf.keras.Input(shape=(width,))\n",
    "nl = tf.keras.layers.Embedding(vocabulary_size, embedding_dimension, embeddings_initializer = tf.keras.initializers.Constant(embedding_matrix), input_length = width, trainable=False)(input1)\n",
    "nl = tf.keras.layers.Dense(512, activation='relu')(nl)\n",
    "nl = tf.keras.layers.Dropout(0.50)(nl)\n",
    "kernels = [3, 5, 7, 10]\n",
    "pooled = []\n",
    "for kernel_size in kernels:\n",
    "    mini_layer = tf.keras.layers.Conv1D(256, kernel_size, activation='relu')(nl)\n",
    "    mini_pooled = tf.keras.layers.MaxPooling1D(width - kernel_size + 1)(mini_layer)\n",
    "    pooled.append(mini_pooled)\n",
    "nl = tf.keras.layers.Concatenate(axis=1)(pooled)\n",
    "nl = tf.keras.layers.Flatten()(nl)\n",
    "nl = tf.keras.layers.Dropout(0.50)(nl)\n",
    "nl = tf.keras.layers.Dense(1024, activation='relu', kernel_regularizer=tf.keras.regularizers.l2())(nl)\n",
    "nl = tf.keras.layers.Dropout(0.5)(nl)\n",
    "nl = tf.keras.layers.Dense(64, activation='relu', kernel_regularizer=tf.keras.regularizers.l2())(nl)\n",
    "\n",
    "output = tf.keras.layers.Dense(1, activation='sigmoid')(nl)\n",
    "\n",
    "model = tf.keras.Model(inputs = input1, outputs = output)\n",
    "\n",
    "model.summary()\n",
    "\n",
    "metrics = [\n",
    "    tf.keras.metrics.TruePositives(name='tp'), \n",
    "    tf.keras.metrics.FalsePositives(name='fp'), \n",
    "    tf.keras.metrics.TrueNegatives(name='tn'), \n",
    "    tf.keras.metrics.FalseNegatives(name='fn'), \n",
    "    tf.keras.metrics.Recall(name='sen'), \n",
    "    tf.keras.metrics.Precision(name='prc'), \n",
    "    tf.keras.metrics.AUC(name='auroc'), \n",
    "    tf.keras.metrics.BinaryAccuracy(name='acc')\n",
    "]\n",
    "callbacks=[\n",
    "    tf.keras.callbacks.EarlyStopping(patience=4, verbose=1, restore_best_weights=True, min_delta=0.0001), \n",
    "    tf.keras.callbacks.ReduceLROnPlateau(factor=0.1, patience=2, verbose=1)\n",
    "]\n",
    "model.compile(optimizer=tf.keras.optimizers.Adam(0.001), loss='binary_crossentropy', metrics=metrics)\n",
    "history = model.fit(train_dataset, epochs=80, validation_data=validation_dataset, verbose=1, callbacks=callbacks)\n",
    "model.evaluate(validation_dataset)\n",
    "y_pred = model.predict(validation_dataset)"
   ]
  },
  {
   "cell_type": "markdown",
   "id": "31a26948",
   "metadata": {},
   "source": [
    "loss: 0.5362 - tp: 72.0000 - fp: 25.0000 - tn: 151.0000 - fn: 52.0000 - sen: 0.5806 - prc: 0.7423 - auroc: 0.8115 - acc: 0.7433"
   ]
  },
  {
   "cell_type": "code",
   "execution_count": 24,
   "id": "4b9e99ff",
   "metadata": {},
   "outputs": [
    {
     "data": {
      "image/png": "[encoded data removed]",
      "text/plain": [
       "<Figure size 432x288 with 1 Axes>"
      ]
     },
     "metadata": {
      "needs_background": "light"
     },
     "output_type": "display_data"
    },
    {
     "data": {
      "image/png": "[encoded data removed]",
      "text/plain": [
       "<Figure size 432x288 with 1 Axes>"
      ]
     },
     "metadata": {
      "needs_background": "light"
     },
     "output_type": "display_data"
    },
    {
     "data": {
      "image/png": "[encoded data removed]",
      "text/plain": [
       "<Figure size 432x288 with 1 Axes>"
      ]
     },
     "metadata": {
      "needs_background": "light"
     },
     "output_type": "display_data"
    }
   ],
   "source": [
    "plt_loss(history)\n",
    "plt_acc(history)\n",
    "plt_roc(validation_dataset, y_pred)"
   ]
  },
  {
   "cell_type": "markdown",
   "id": "dfbeb9c7",
   "metadata": {},
   "source": [
    "# (Model E) Structured and CNN word embedding combined model"
   ]
  },
  {
   "cell_type": "code",
   "execution_count": 25,
   "id": "14cd7998",
   "metadata": {},
   "outputs": [],
   "source": [
    "total_input = tf.data.Dataset.from_tensor_slices((tokenArray, structuredArray))\n",
    "total_output = tf.data.Dataset.from_tensor_slices(outputArray)\n",
    "total_dataset = tf.data.Dataset.zip((total_input, total_output))\n",
    "train_dataset = total_dataset.skip(600).shuffle(1000).batch(15)\n",
    "validation_dataset = total_dataset.skip(300).take(300).batch(15)\n",
    "test_dataset = total_dataset.take(300).batch(15)"
   ]
  },
  {
   "cell_type": "code",
   "execution_count": null,
   "id": "2064eef5",
   "metadata": {},
   "outputs": [
    {
     "name": "stdout",
     "output_type": "stream",
     "text": [
      "Model: \"model_2\"\n",
      "__________________________________________________________________________________________________\n",
      "Layer (type)                    Output Shape         Param #     Connected to                     \n",
      "==================================================================================================\n",
      "input_3 (InputLayer)            [(None, 1000)]       0                                            \n",
      "__________________________________________________________________________________________________\n",
      "embedding_2 (Embedding)         (None, 1000, 300)    16782000    input_3[0][0]                    \n",
      "__________________________________________________________________________________________________\n",
      "dense_8 (Dense)                 (None, 1000, 512)    154112      embedding_2[0][0]                \n",
      "__________________________________________________________________________________________________\n",
      "dropout_6 (Dropout)             (None, 1000, 512)    0           dense_8[0][0]                    \n",
      "__________________________________________________________________________________________________\n",
      "conv1d_8 (Conv1D)               (None, 998, 256)     393472      dropout_6[0][0]                  \n",
      "__________________________________________________________________________________________________\n",
      "conv1d_9 (Conv1D)               (None, 996, 256)     655616      dropout_6[0][0]                  \n",
      "__________________________________________________________________________________________________\n",
      "conv1d_10 (Conv1D)              (None, 994, 256)     917760      dropout_6[0][0]                  \n",
      "__________________________________________________________________________________________________\n",
      "conv1d_11 (Conv1D)              (None, 991, 256)     1310976     dropout_6[0][0]                  \n",
      "__________________________________________________________________________________________________\n",
      "max_pooling1d_8 (MaxPooling1D)  (None, 1, 256)       0           conv1d_8[0][0]                   \n",
      "__________________________________________________________________________________________________\n",
      "max_pooling1d_9 (MaxPooling1D)  (None, 1, 256)       0           conv1d_9[0][0]                   \n",
      "__________________________________________________________________________________________________\n",
      "max_pooling1d_10 (MaxPooling1D) (None, 1, 256)       0           conv1d_10[0][0]                  \n",
      "__________________________________________________________________________________________________\n",
      "max_pooling1d_11 (MaxPooling1D) (None, 1, 256)       0           conv1d_11[0][0]                  \n",
      "__________________________________________________________________________________________________\n",
      "concatenate_2 (Concatenate)     (None, 4, 256)       0           max_pooling1d_8[0][0]            \n",
      "                                                                 max_pooling1d_9[0][0]            \n",
      "                                                                 max_pooling1d_10[0][0]           \n",
      "                                                                 max_pooling1d_11[0][0]           \n",
      "__________________________________________________________________________________________________\n",
      "flatten_2 (Flatten)             (None, 1024)         0           concatenate_2[0][0]              \n",
      "__________________________________________________________________________________________________\n",
      "dropout_7 (Dropout)             (None, 1024)         0           flatten_2[0][0]                  \n",
      "__________________________________________________________________________________________________\n",
      "input_4 (InputLayer)            [(None, 556)]        0                                            \n",
      "__________________________________________________________________________________________________\n",
      "dense_9 (Dense)                 (None, 1024)         1049600     dropout_7[0][0]                  \n",
      "__________________________________________________________________________________________________\n",
      "dense_10 (Dense)                (None, 1024)         570368      input_4[0][0]                    \n",
      "__________________________________________________________________________________________________\n",
      "concatenate_3 (Concatenate)     (None, 2048)         0           dense_9[0][0]                    \n",
      "                                                                 dense_10[0][0]                   \n",
      "__________________________________________________________________________________________________\n",
      "dense_11 (Dense)                (None, 256)          524544      concatenate_3[0][0]              \n",
      "__________________________________________________________________________________________________\n",
      "dropout_8 (Dropout)             (None, 256)          0           dense_11[0][0]                   \n",
      "__________________________________________________________________________________________________\n",
      "dense_12 (Dense)                (None, 64)           16448       dropout_8[0][0]                  \n",
      "__________________________________________________________________________________________________\n",
      "dense_13 (Dense)                (None, 1)            65          dense_12[0][0]                   \n",
      "==================================================================================================\n",
      "Total params: 22,374,961\n",
      "Trainable params: 5,592,961\n",
      "Non-trainable params: 16,782,000\n",
      "__________________________________________________________________________________________________\n",
      "Epoch 1/80\n",
      "330/330 [==============================] - 373s 1s/step - loss: 9.0441 - tp: 244.9366 - fp: 282.4532 - tn: 1197.5015 - fn: 765.0514 - sen: 0.2559 - prc: 0.4345 - auroc: 0.5231 - acc: 0.5586 - val_loss: 1.0239 - val_tp: 70.0000 - val_fp: 43.0000 - val_tn: 133.0000 - val_fn: 54.0000 - val_sen: 0.5645 - val_prc: 0.6195 - val_auroc: 0.7311 - val_acc: 0.6767\n",
      "Epoch 2/80\n",
      "330/330 [==============================] - 370s 1s/step - loss: 0.9287 - tp: 436.0544 - fp: 260.1964 - tn: 1212.3082 - fn: 581.3837 - sen: 0.4198 - prc: 0.6294 - auroc: 0.6906 - acc: 0.6647 - val_loss: 0.7302 - val_tp: 56.0000 - val_fp: 21.0000 - val_tn: 155.0000 - val_fn: 68.0000 - val_sen: 0.4516 - val_prc: 0.7273 - val_auroc: 0.7583 - val_acc: 0.7033\n",
      "Epoch 3/80\n",
      "216/330 [==================>...........] - ETA: 2:05 - loss: 0.7278 - tp: 341.2083 - fp: 195.8472 - tn: 769.0370 - fn: 321.4074 - sen: 0.4928 - prc: 0.6384 - auroc: 0.7293 - acc: 0.6820"
     ]
    }
   ],
   "source": [
    "input1 = tf.keras.Input(shape=(width,)) \n",
    "nl = tf.keras.layers.Embedding(vocabulary_size, embedding_dimension, embeddings_initializer = tf.keras.initializers.Constant(embedding_matrix), input_length = width, trainable=False)(input1) \n",
    "nl = tf.keras.layers.Dense(512, activation='relu')(nl) \n",
    "nl = tf.keras.layers.Dropout(0.50)(nl) \n",
    "kernels = [3, 5, 7, 10] \n",
    "pooled = [] \n",
    "for kernel_size in kernels: \n",
    "    mini_layer = tf.keras.layers.Conv1D(256, kernel_size, activation='relu')(nl) \n",
    "    mini_pooled = tf.keras.layers.MaxPooling1D(width - kernel_size + 1)(mini_layer) \n",
    "    pooled.append(mini_pooled) \n",
    "nl = tf.keras.layers.Concatenate(axis=1)(pooled) \n",
    "nl = tf.keras.layers.Flatten()(nl) \n",
    "nl = tf.keras.layers.Dropout(0.50)(nl) \n",
    "nl = tf.keras.layers.Dense(1024, activation='relu', kernel_regularizer=tf.keras.regularizers.l2())(nl) \n",
    "\n",
    "input2 = tf.keras.Input(shape=(structuredArray.shape[1],))\n",
    "sl = tf.keras.layers.Dense(1024, activation='relu', kernel_regularizer=tf.keras.regularizers.l2())(input2)\n",
    "\n",
    "combo = tf.keras.layers.Concatenate()([nl, sl])\n",
    "nl = combo\n",
    "nl = tf.keras.layers.Dense(256, activation='relu', kernel_regularizer=tf.keras.regularizers.l2())(nl) \n",
    "nl = tf.keras.layers.Dropout(0.5)(nl) \n",
    "nl = tf.keras.layers.Dense(64, activation='relu', kernel_regularizer=tf.keras.regularizers.l2())(nl)\n",
    "output = tf.keras.layers.Dense(1, activation='sigmoid')(nl)\n",
    "\n",
    "model = tf.keras.Model(inputs = (input1, input2), outputs = output)\n",
    "\n",
    "model.summary()\n",
    "\n",
    "metrics = [\n",
    "    tf.keras.metrics.TruePositives(name='tp'), \n",
    "    tf.keras.metrics.FalsePositives(name='fp'), \n",
    "    tf.keras.metrics.TrueNegatives(name='tn'), \n",
    "    tf.keras.metrics.FalseNegatives(name='fn'), \n",
    "    tf.keras.metrics.Recall(name='sen'), \n",
    "    tf.keras.metrics.Precision(name='prc'), \n",
    "    tf.keras.metrics.AUC(name='auroc'), \n",
    "    tf.keras.metrics.BinaryAccuracy(name='acc')\n",
    "]\n",
    "callbacks=[\n",
    "    tf.keras.callbacks.EarlyStopping(patience=4, verbose=1, restore_best_weights=True, min_delta=0.0001), \n",
    "    tf.keras.callbacks.ReduceLROnPlateau(factor=0.1, patience=2, verbose=1)\n",
    "]\n",
    "model.compile(optimizer=tf.keras.optimizers.Adam(0.001), loss='binary_crossentropy', metrics=metrics)\n",
    "history = model.fit(train_dataset, epochs=80, validation_data=validation_dataset, verbose=1, callbacks=callbacks)\n",
    "model.evaluate(validation_dataset)\n",
    "y_pred = model.predict(validation_dataset)"
   ]
  },
  {
   "cell_type": "code",
   "execution_count": null,
   "id": "095276fa",
   "metadata": {},
   "outputs": [],
   "source": [
    "plt_loss(history)\n",
    "plt_acc(history)\n",
    "plt_roc(validation_dataset, y_pred)"
   ]
  }
 ],
 "metadata": {
  "environment": {
   "name": "pytorch-gpu.1-9.m75",
   "type": "gcloud",
   "uri": "gcr.io/deeplearning-platform-release/pytorch-gpu.1-9:m75"
  },
  "kernelspec": {
   "display_name": "Python [conda env:haiwen]",
   "language": "python",
   "name": "conda-env-haiwen-py"
  },
  "language_info": {
   "codemirror_mode": {
    "name": "ipython",
    "version": 3
   },
   "file_extension": ".py",
   "mimetype": "text/x-python",
   "name": "python",
   "nbconvert_exporter": "python",
   "pygments_lexer": "ipython3",
   "version": "3.9.6"
  }
 },
 "nbformat": 4,
 "nbformat_minor": 5
}
