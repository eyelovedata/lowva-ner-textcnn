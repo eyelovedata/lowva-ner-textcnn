{
 "cells": [
  {
   "cell_type": "code",
   "execution_count": 1,
   "metadata": {},
   "outputs": [],
   "source": [
    "import pandas as pd\n",
    "import re \n",
    "import nltk \n",
    "import sqlite3\n",
    "import numpy as np\n",
    "import ast\n",
    "import string \n",
    "\n",
    "from IPython.core.interactiveshell import InteractiveShell\n",
    "InteractiveShell.ast_node_interactivity = \"all\""
   ]
  },
  {
   "cell_type": "markdown",
   "metadata": {},
   "source": [
    "# Import Data"
   ]
  },
  {
   "cell_type": "code",
   "execution_count": 2,
   "metadata": {},
   "outputs": [],
   "source": [
    "conn = sqlite3.connect('lowva\\lowva.db')\n",
    "conn.text_factory = str\n",
    "cur = conn.cursor()"
   ]
  },
  {
   "cell_type": "code",
   "execution_count": 3,
   "metadata": {},
   "outputs": [],
   "source": [
    "dfnotes=pd.read_sql_query('''select * from notes''', conn)\n",
    "dfnotes[\"enc_date\"]=pd.to_datetime(dfnotes[\"enc_date\"])"
   ]
  },
  {
   "cell_type": "code",
   "execution_count": 4,
   "metadata": {},
   "outputs": [
    {
     "data": {
      "text/html": [
       "<div>\n",
       "<style scoped>\n",
       "    .dataframe tbody tr th:only-of-type {\n",
       "        vertical-align: middle;\n",
       "    }\n",
       "\n",
       "    .dataframe tbody tr th {\n",
       "        vertical-align: top;\n",
       "    }\n",
       "\n",
       "    .dataframe thead th {\n",
       "        text-align: right;\n",
       "    }\n",
       "</style>\n",
       "<table border=\"1\" class=\"dataframe\">\n",
       "  <thead>\n",
       "    <tr style=\"text-align: right;\">\n",
       "      <th></th>\n",
       "      <th>pat_deid</th>\n",
       "      <th>note_deid</th>\n",
       "      <th>enc_date</th>\n",
       "      <th>note</th>\n",
       "      <th>note_desc</th>\n",
       "    </tr>\n",
       "  </thead>\n",
       "  <tbody>\n",
       "    <tr>\n",
       "      <th>0</th>\n",
       "      <td>1174</td>\n",
       "      <td>28528746.0</td>\n",
       "      <td>2009-01-12</td>\n",
       "      <td>January 12, 2009      Peter  R Egbert, MD    R...</td>\n",
       "      <td>Outpatient Letter</td>\n",
       "    </tr>\n",
       "    <tr>\n",
       "      <th>1</th>\n",
       "      <td>1174</td>\n",
       "      <td>28528751.0</td>\n",
       "      <td>2009-01-12</td>\n",
       "      <td>Department of Ophthalmology  California Vitreo...</td>\n",
       "      <td>RTF Letter</td>\n",
       "    </tr>\n",
       "    <tr>\n",
       "      <th>2</th>\n",
       "      <td>1174</td>\n",
       "      <td>58842312.0</td>\n",
       "      <td>2009-09-17</td>\n",
       "      <td>Assessment and Plan:  1. Proliferative diabeti...</td>\n",
       "      <td>Progress Notes</td>\n",
       "    </tr>\n",
       "    <tr>\n",
       "      <th>3</th>\n",
       "      <td>1790</td>\n",
       "      <td>174426007.0</td>\n",
       "      <td>2012-02-14</td>\n",
       "      <td>Retina Service Outpatient Encounter    Steven ...</td>\n",
       "      <td>Progress Notes</td>\n",
       "    </tr>\n",
       "    <tr>\n",
       "      <th>4</th>\n",
       "      <td>1790</td>\n",
       "      <td>174435847.0</td>\n",
       "      <td>2012-02-14</td>\n",
       "      <td>Retina Service Outpatient Encounter    Steven ...</td>\n",
       "      <td>RTF Letter</td>\n",
       "    </tr>\n",
       "  </tbody>\n",
       "</table>\n",
       "</div>"
      ],
      "text/plain": [
       "   pat_deid    note_deid   enc_date  \\\n",
       "0      1174   28528746.0 2009-01-12   \n",
       "1      1174   28528751.0 2009-01-12   \n",
       "2      1174   58842312.0 2009-09-17   \n",
       "3      1790  174426007.0 2012-02-14   \n",
       "4      1790  174435847.0 2012-02-14   \n",
       "\n",
       "                                                note          note_desc  \n",
       "0  January 12, 2009      Peter  R Egbert, MD    R...  Outpatient Letter  \n",
       "1  Department of Ophthalmology  California Vitreo...         RTF Letter  \n",
       "2  Assessment and Plan:  1. Proliferative diabeti...     Progress Notes  \n",
       "3  Retina Service Outpatient Encounter    Steven ...     Progress Notes  \n",
       "4  Retina Service Outpatient Encounter    Steven ...         RTF Letter  "
      ]
     },
     "execution_count": 4,
     "metadata": {},
     "output_type": "execute_result"
    },
    {
     "data": {
      "text/plain": [
       "67690"
      ]
     },
     "execution_count": 4,
     "metadata": {},
     "output_type": "execute_result"
    }
   ],
   "source": [
    "dfnotes.head()\n",
    "len(dfnotes)"
   ]
  },
  {
   "cell_type": "code",
   "execution_count": 5,
   "metadata": {},
   "outputs": [],
   "source": [
    "conn.close() "
   ]
  },
  {
   "cell_type": "markdown",
   "metadata": {},
   "source": [
    "# Directly preprocess full notes for CLAMP - Haiwen's Project"
   ]
  },
  {
   "cell_type": "code",
   "execution_count": 9,
   "metadata": {},
   "outputs": [
    {
     "name": "stderr",
     "output_type": "stream",
     "text": [
      "C:\\Users\\Sophia\\Anaconda3\\lib\\site-packages\\ipykernel_launcher.py:2: SettingWithCopyWarning: \n",
      "A value is trying to be set on a copy of a slice from a DataFrame.\n",
      "Try using .loc[row_indexer,col_indexer] = value instead\n",
      "\n",
      "See the caveats in the documentation: https://pandas.pydata.org/pandas-docs/stable/user_guide/indexing.html#returning-a-view-versus-a-copy\n",
      "  \n"
     ]
    }
   ],
   "source": [
    "df=dfnotes[dfnotes[\"note_desc\"]==\"Progress Notes\"]\n",
    "df[\"note_deid\"]=df[\"note_deid\"].astype(int)"
   ]
  },
  {
   "cell_type": "code",
   "execution_count": 30,
   "metadata": {},
   "outputs": [],
   "source": [
    "def get_note_length(text): \n",
    "    try: \n",
    "        return len(text)\n",
    "    except TypeError: \n",
    "        return None "
   ]
  },
  {
   "cell_type": "code",
   "execution_count": 32,
   "metadata": {},
   "outputs": [
    {
     "name": "stderr",
     "output_type": "stream",
     "text": [
      "C:\\Users\\Sophia\\Anaconda3\\lib\\site-packages\\ipykernel_launcher.py:1: SettingWithCopyWarning: \n",
      "A value is trying to be set on a copy of a slice from a DataFrame.\n",
      "Try using .loc[row_indexer,col_indexer] = value instead\n",
      "\n",
      "See the caveats in the documentation: https://pandas.pydata.org/pandas-docs/stable/user_guide/indexing.html#returning-a-view-versus-a-copy\n",
      "  \"\"\"Entry point for launching an IPython kernel.\n"
     ]
    }
   ],
   "source": [
    "df[\"note_length\"]=df[\"note\"].apply(get_note_length)"
   ]
  },
  {
   "cell_type": "code",
   "execution_count": 33,
   "metadata": {},
   "outputs": [
    {
     "data": {
      "text/plain": [
       "<AxesSubplot:>"
      ]
     },
     "execution_count": 33,
     "metadata": {},
     "output_type": "execute_result"
    },
    {
     "data": {
      "image/png": "[encoded data removed]",
      "text/plain": [
       "<Figure size 432x288 with 1 Axes>"
      ]
     },
     "metadata": {
      "needs_background": "light"
     },
     "output_type": "display_data"
    }
   ],
   "source": [
    "df[\"note_length\"].hist()"
   ]
  },
  {
   "cell_type": "code",
   "execution_count": 35,
   "metadata": {},
   "outputs": [],
   "source": [
    "#select longish notes at least 1000 characters \n",
    "df = df[df[\"note_length\"]>=1000]"
   ]
  },
  {
   "cell_type": "code",
   "execution_count": 37,
   "metadata": {},
   "outputs": [],
   "source": [
    "#two stage sampling. \n",
    "#one random note per patient, then one random row of that \n",
    "dfsample = df.groupby(\"pat_deid\").sample(n=1, random_state=0).sample(1000, random_state=1)"
   ]
  },
  {
   "cell_type": "code",
   "execution_count": 38,
   "metadata": {},
   "outputs": [
    {
     "data": {
      "text/html": [
       "<div>\n",
       "<style scoped>\n",
       "    .dataframe tbody tr th:only-of-type {\n",
       "        vertical-align: middle;\n",
       "    }\n",
       "\n",
       "    .dataframe tbody tr th {\n",
       "        vertical-align: top;\n",
       "    }\n",
       "\n",
       "    .dataframe thead th {\n",
       "        text-align: right;\n",
       "    }\n",
       "</style>\n",
       "<table border=\"1\" class=\"dataframe\">\n",
       "  <thead>\n",
       "    <tr style=\"text-align: right;\">\n",
       "      <th></th>\n",
       "      <th>pat_deid</th>\n",
       "      <th>note_deid</th>\n",
       "      <th>enc_date</th>\n",
       "      <th>note</th>\n",
       "      <th>note_desc</th>\n",
       "      <th>note_length</th>\n",
       "    </tr>\n",
       "  </thead>\n",
       "  <tbody>\n",
       "    <tr>\n",
       "      <th>50280</th>\n",
       "      <td>2898571</td>\n",
       "      <td>598277351</td>\n",
       "      <td>2016-03-24</td>\n",
       "      <td>CC: referred for elevated intraocular pressure...</td>\n",
       "      <td>Progress Notes</td>\n",
       "      <td>5193.0</td>\n",
       "    </tr>\n",
       "    <tr>\n",
       "      <th>24585</th>\n",
       "      <td>1518694</td>\n",
       "      <td>59043385</td>\n",
       "      <td>2009-09-21</td>\n",
       "      <td>I have done a complete, fourteen-point review ...</td>\n",
       "      <td>Progress Notes</td>\n",
       "      <td>1207.0</td>\n",
       "    </tr>\n",
       "    <tr>\n",
       "      <th>54035</th>\n",
       "      <td>3094044</td>\n",
       "      <td>100751229</td>\n",
       "      <td>2010-12-09</td>\n",
       "      <td>CLINICAL ELECTROPHYSIOLOGY READING: ERG # 2498...</td>\n",
       "      <td>Progress Notes</td>\n",
       "      <td>1403.0</td>\n",
       "    </tr>\n",
       "    <tr>\n",
       "      <th>38765</th>\n",
       "      <td>2247623</td>\n",
       "      <td>549000528</td>\n",
       "      <td>2015-11-05</td>\n",
       "      <td>HPI-     32 yo M with Down syndrome.  First vi...</td>\n",
       "      <td>Progress Notes</td>\n",
       "      <td>4121.0</td>\n",
       "    </tr>\n",
       "    <tr>\n",
       "      <th>13281</th>\n",
       "      <td>853379</td>\n",
       "      <td>107154545</td>\n",
       "      <td>2011-02-08</td>\n",
       "      <td>OPHTHALMOLOGY - CORNEA CLINIC    Patient ident...</td>\n",
       "      <td>Progress Notes</td>\n",
       "      <td>5398.0</td>\n",
       "    </tr>\n",
       "    <tr>\n",
       "      <th>...</th>\n",
       "      <td>...</td>\n",
       "      <td>...</td>\n",
       "      <td>...</td>\n",
       "      <td>...</td>\n",
       "      <td>...</td>\n",
       "      <td>...</td>\n",
       "    </tr>\n",
       "    <tr>\n",
       "      <th>30872</th>\n",
       "      <td>1834112</td>\n",
       "      <td>80616805</td>\n",
       "      <td>2010-05-26</td>\n",
       "      <td>Stanford University Hospital and Clinics  Opht...</td>\n",
       "      <td>Progress Notes</td>\n",
       "      <td>9134.0</td>\n",
       "    </tr>\n",
       "    <tr>\n",
       "      <th>30211</th>\n",
       "      <td>1796120</td>\n",
       "      <td>217900295</td>\n",
       "      <td>2012-09-05</td>\n",
       "      <td>HPI-   Patient presents for UCC appointment. R...</td>\n",
       "      <td>Progress Notes</td>\n",
       "      <td>3936.0</td>\n",
       "    </tr>\n",
       "    <tr>\n",
       "      <th>65698</th>\n",
       "      <td>3760494</td>\n",
       "      <td>74562153</td>\n",
       "      <td>2010-03-25</td>\n",
       "      <td>HPI-   Referred by Dr. Ta.  First visit to see...</td>\n",
       "      <td>Progress Notes</td>\n",
       "      <td>3298.0</td>\n",
       "    </tr>\n",
       "    <tr>\n",
       "      <th>31704</th>\n",
       "      <td>1866448</td>\n",
       "      <td>193126728</td>\n",
       "      <td>2012-04-03</td>\n",
       "      <td>Optical coherence tomography (OCT) INTERPRETAT...</td>\n",
       "      <td>Progress Notes</td>\n",
       "      <td>1786.0</td>\n",
       "    </tr>\n",
       "    <tr>\n",
       "      <th>19210</th>\n",
       "      <td>1207832</td>\n",
       "      <td>106704189</td>\n",
       "      <td>2011-02-03</td>\n",
       "      <td>HPI-   Acute Care Visit  Cc: always have float...</td>\n",
       "      <td>Progress Notes</td>\n",
       "      <td>1413.0</td>\n",
       "    </tr>\n",
       "  </tbody>\n",
       "</table>\n",
       "<p>1000 rows × 6 columns</p>\n",
       "</div>"
      ],
      "text/plain": [
       "       pat_deid  note_deid   enc_date  \\\n",
       "50280   2898571  598277351 2016-03-24   \n",
       "24585   1518694   59043385 2009-09-21   \n",
       "54035   3094044  100751229 2010-12-09   \n",
       "38765   2247623  549000528 2015-11-05   \n",
       "13281    853379  107154545 2011-02-08   \n",
       "...         ...        ...        ...   \n",
       "30872   1834112   80616805 2010-05-26   \n",
       "30211   1796120  217900295 2012-09-05   \n",
       "65698   3760494   74562153 2010-03-25   \n",
       "31704   1866448  193126728 2012-04-03   \n",
       "19210   1207832  106704189 2011-02-03   \n",
       "\n",
       "                                                    note       note_desc  \\\n",
       "50280  CC: referred for elevated intraocular pressure...  Progress Notes   \n",
       "24585  I have done a complete, fourteen-point review ...  Progress Notes   \n",
       "54035  CLINICAL ELECTROPHYSIOLOGY READING: ERG # 2498...  Progress Notes   \n",
       "38765  HPI-     32 yo M with Down syndrome.  First vi...  Progress Notes   \n",
       "13281  OPHTHALMOLOGY - CORNEA CLINIC    Patient ident...  Progress Notes   \n",
       "...                                                  ...             ...   \n",
       "30872  Stanford University Hospital and Clinics  Opht...  Progress Notes   \n",
       "30211  HPI-   Patient presents for UCC appointment. R...  Progress Notes   \n",
       "65698  HPI-   Referred by Dr. Ta.  First visit to see...  Progress Notes   \n",
       "31704  Optical coherence tomography (OCT) INTERPRETAT...  Progress Notes   \n",
       "19210  HPI-   Acute Care Visit  Cc: always have float...  Progress Notes   \n",
       "\n",
       "       note_length  \n",
       "50280       5193.0  \n",
       "24585       1207.0  \n",
       "54035       1403.0  \n",
       "38765       4121.0  \n",
       "13281       5398.0  \n",
       "...            ...  \n",
       "30872       9134.0  \n",
       "30211       3936.0  \n",
       "65698       3298.0  \n",
       "31704       1786.0  \n",
       "19210       1413.0  \n",
       "\n",
       "[1000 rows x 6 columns]"
      ]
     },
     "execution_count": 38,
     "metadata": {},
     "output_type": "execute_result"
    }
   ],
   "source": [
    "dfsample"
   ]
  },
  {
   "cell_type": "code",
   "execution_count": 39,
   "metadata": {},
   "outputs": [
    {
     "data": {
      "text/plain": [
       "1000"
      ]
     },
     "execution_count": 39,
     "metadata": {},
     "output_type": "execute_result"
    }
   ],
   "source": [
    "len(dfsample[\"pat_deid\"].unique())"
   ]
  },
  {
   "cell_type": "code",
   "execution_count": 41,
   "metadata": {},
   "outputs": [],
   "source": [
    "del dfsample[\"note_desc\"]\n",
    "del dfsample[\"note_length\"]"
   ]
  },
  {
   "cell_type": "code",
   "execution_count": 43,
   "metadata": {},
   "outputs": [
    {
     "data": {
      "text/html": [
       "<div>\n",
       "<style scoped>\n",
       "    .dataframe tbody tr th:only-of-type {\n",
       "        vertical-align: middle;\n",
       "    }\n",
       "\n",
       "    .dataframe tbody tr th {\n",
       "        vertical-align: top;\n",
       "    }\n",
       "\n",
       "    .dataframe thead th {\n",
       "        text-align: right;\n",
       "    }\n",
       "</style>\n",
       "<table border=\"1\" class=\"dataframe\">\n",
       "  <thead>\n",
       "    <tr style=\"text-align: right;\">\n",
       "      <th></th>\n",
       "      <th>pat_deid</th>\n",
       "      <th>note_deid</th>\n",
       "      <th>enc_date</th>\n",
       "      <th>note</th>\n",
       "    </tr>\n",
       "  </thead>\n",
       "  <tbody>\n",
       "    <tr>\n",
       "      <th>0</th>\n",
       "      <td>2898571</td>\n",
       "      <td>598277351</td>\n",
       "      <td>2016-03-24</td>\n",
       "      <td>CC: referred for elevated intraocular pressure...</td>\n",
       "    </tr>\n",
       "    <tr>\n",
       "      <th>1</th>\n",
       "      <td>1518694</td>\n",
       "      <td>59043385</td>\n",
       "      <td>2009-09-21</td>\n",
       "      <td>I have done a complete, fourteen-point review ...</td>\n",
       "    </tr>\n",
       "    <tr>\n",
       "      <th>2</th>\n",
       "      <td>3094044</td>\n",
       "      <td>100751229</td>\n",
       "      <td>2010-12-09</td>\n",
       "      <td>CLINICAL ELECTROPHYSIOLOGY READING: ERG # 2498...</td>\n",
       "    </tr>\n",
       "    <tr>\n",
       "      <th>3</th>\n",
       "      <td>2247623</td>\n",
       "      <td>549000528</td>\n",
       "      <td>2015-11-05</td>\n",
       "      <td>HPI-     32 yo M with Down syndrome.  First vi...</td>\n",
       "    </tr>\n",
       "    <tr>\n",
       "      <th>4</th>\n",
       "      <td>853379</td>\n",
       "      <td>107154545</td>\n",
       "      <td>2011-02-08</td>\n",
       "      <td>OPHTHALMOLOGY - CORNEA CLINIC    Patient ident...</td>\n",
       "    </tr>\n",
       "  </tbody>\n",
       "</table>\n",
       "</div>"
      ],
      "text/plain": [
       "   pat_deid  note_deid   enc_date  \\\n",
       "0   2898571  598277351 2016-03-24   \n",
       "1   1518694   59043385 2009-09-21   \n",
       "2   3094044  100751229 2010-12-09   \n",
       "3   2247623  549000528 2015-11-05   \n",
       "4    853379  107154545 2011-02-08   \n",
       "\n",
       "                                                note  \n",
       "0  CC: referred for elevated intraocular pressure...  \n",
       "1  I have done a complete, fourteen-point review ...  \n",
       "2  CLINICAL ELECTROPHYSIOLOGY READING: ERG # 2498...  \n",
       "3  HPI-     32 yo M with Down syndrome.  First vi...  \n",
       "4  OPHTHALMOLOGY - CORNEA CLINIC    Patient ident...  "
      ]
     },
     "execution_count": 43,
     "metadata": {},
     "output_type": "execute_result"
    }
   ],
   "source": [
    "dfsample.reset_index(inplace=True, drop=True)\n",
    "dfsample.head()"
   ]
  },
  {
   "cell_type": "code",
   "execution_count": 53,
   "metadata": {},
   "outputs": [],
   "source": [
    "for name, group in dfsample.groupby(dfsample.index):\n",
    "        group.to_csv(\"C:/Users/Sophia/Documents/ResearchPHI/STRIDE_FULL/lowva/clampnotesample/\" +\n",
    "                     str(name).zfill(4)+'-pid'+str(group.iloc[0][0]) + '-nid' + str(group.iloc[0][1]) + '.txt', index=False, header=False)"
   ]
  },
  {
   "cell_type": "code",
   "execution_count": null,
   "metadata": {},
   "outputs": [],
   "source": []
  },
  {
   "cell_type": "markdown",
   "metadata": {},
   "source": [
    "# Alternative: Export for pre processing, section finding, laterality tagging before CLAMP"
   ]
  },
  {
   "cell_type": "code",
   "execution_count": null,
   "metadata": {},
   "outputs": [],
   "source": [
    "#Save notes to CSV so that we can run Luisa's pre-processing step to it "
   ]
  },
  {
   "cell_type": "markdown",
   "metadata": {},
   "source": [
    "#but first we will run only a sample \n",
    "dfnotesample=dfnotes.head(50)\n",
    "dfnotesample=dfnotesample[[\"note_deid\", \"note\"]]"
   ]
  },
  {
   "cell_type": "markdown",
   "metadata": {},
   "source": [
    "dfnotesample.to_csv(\"predictglaucsurgoutcomesample.csv\", index=False)"
   ]
  },
  {
   "cell_type": "code",
   "execution_count": null,
   "metadata": {},
   "outputs": [],
   "source": [
    "#and now we will output \n",
    "dfnotes.to_csv(\"lowvafullnotes.csv\", index=False)"
   ]
  },
  {
   "cell_type": "code",
   "execution_count": null,
   "metadata": {},
   "outputs": [],
   "source": [
    "#of note, preprocessing all of these notes takes about 26 minutes"
   ]
  },
  {
   "cell_type": "markdown",
   "metadata": {},
   "source": [
    "## Import preprocessing results, create dataframe of note sections"
   ]
  },
  {
   "cell_type": "code",
   "execution_count": null,
   "metadata": {},
   "outputs": [],
   "source": [
    "clampdf=pd.read_csv(\"output-preprocesslowva-allnotes.csv\")\n",
    "#clampdf=clampdf[[\"note_deid\",\"note_cleaned\"]]\n",
    "clampdf.head()"
   ]
  },
  {
   "cell_type": "code",
   "execution_count": null,
   "metadata": {},
   "outputs": [],
   "source": [
    "clampdf.dtypes\n",
    "len(clampdf)"
   ]
  },
  {
   "cell_type": "code",
   "execution_count": null,
   "metadata": {},
   "outputs": [],
   "source": [
    "#quick detour to save the output (minus useless variables) as a csv to upload for teammates \n",
    "savepreprocessoutput=clampdf[[\"note_deid\", \"note_cleaned\", \"dates\", \"sections\"]]\n",
    "savepreprocessoutput.to_csv(\"lowva-preprocess-output.csv\", index=False)"
   ]
  },
  {
   "cell_type": "code",
   "execution_count": null,
   "metadata": {},
   "outputs": [],
   "source": [
    "clampdfsection=clampdf[[\"note_deid\", \"sections\"]]"
   ]
  },
  {
   "cell_type": "code",
   "execution_count": null,
   "metadata": {},
   "outputs": [],
   "source": [
    "#create dataframe for each row\n",
    "#this is super inefficient but i can't think of a vectorized way to do it \n",
    "#of note this takes less than 40 minutes \n",
    "column_names = [\"note_deid\", \"section\", \"text\"]\n",
    "dfsection=pd.DataFrame(columns=column_names)\n",
    "\n",
    "for i in range(len(clampdfsection)):\n",
    "    note_deid = clampdfsection[\"note_deid\"][i]\n",
    "    sections=clampdfsection[\"sections\"][i]\n",
    "    interim = pd.DataFrame(columns = column_names)\n",
    "    sectionlist=ast.literal_eval(sections) \n",
    "    for j in range(len(sectionlist)): \n",
    "        sectiondict=sectionlist[j]\n",
    "        sectiondict[\"note_deid\"]=note_deid\n",
    "        interim.loc[j]=pd.Series(sectiondict)\n",
    "    dfsection=pd.concat([dfsection, interim], axis=0)\n",
    "dfsection.head()\n",
    "dfsection.tail()\n",
    "len(dfsection)"
   ]
  },
  {
   "cell_type": "code",
   "execution_count": null,
   "metadata": {},
   "outputs": [],
   "source": [
    "#now slightly process the section headers\n",
    "dfsection[\"section\"]=dfsection[\"section\"].str.lower().str.translate(str.maketrans('', '', string.punctuation)).str.strip()"
   ]
  },
  {
   "cell_type": "code",
   "execution_count": null,
   "metadata": {},
   "outputs": [],
   "source": [
    "len(dfsection[\"section\"].unique())"
   ]
  },
  {
   "cell_type": "code",
   "execution_count": null,
   "metadata": {},
   "outputs": [],
   "source": [
    "sectionlist=list(dfsection[\"section\"].unique())\n",
    "sectionlist.sort()"
   ]
  },
  {
   "cell_type": "code",
   "execution_count": null,
   "metadata": {},
   "outputs": [],
   "source": [
    "sectionlist"
   ]
  },
  {
   "cell_type": "code",
   "execution_count": null,
   "metadata": {},
   "outputs": [],
   "source": [
    "def sectioncleanup(sectionheader): \n",
    "    if sectionheader.startswith('call'): \n",
    "        return \"call\"\n",
    "    if sectionheader.startswith('active problem'):\n",
    "        return \"problem list\"\n",
    "    if sectionheader.startswith('allerg'):\n",
    "        return \"allergy\"\n",
    "    elif sectionheader.startswith('current  med') or sectionheader.startswith('current med') or sectionheader.startswith('current outpatient prescriptions') or sectionheader.startswith('meds'): \n",
    "        return 'current medications'\n",
    "    elif sectionheader.startswith('exam') or sectionheader.startswith('physical exam') : \n",
    "        return 'exam'\n",
    "    elif sectionheader.startswith('eye med') or sectionheader==\"gtts\" or sectionheader.startswith('ocular med'): \n",
    "        return 'eye medications'\n",
    "    elif sectionheader.startswith('fam'): \n",
    "        return 'family history'\n",
    "    elif sectionheader in [\"hpi\", \"history of present illness\"]:\n",
    "        return 'hpi'\n",
    "    elif sectionheader=='imp' or sectionheader=='impression' or sectionheader=='assessment': \n",
    "        return 'assessment'\n",
    "    elif sectionheader.startswith('impression') or sectionheader.startswith('imp') or sectionheader.startswith('assessment') or sectionheader=='ip': \n",
    "        return 'ap'\n",
    "    elif sectionheader.startswith('pmh') or sectionheader==\"past medical history\":\n",
    "        return 'pmh'\n",
    "    elif sectionheader.startswith('recommendation') or sectionheader=='plan' or sectionheader=='advised': \n",
    "        return 'plan'\n",
    "    elif sectionheader.startswith('review of system') or sectionheader=='ros': \n",
    "        return 'ros'\n",
    "    elif sectionheader.startswith('risk'): \n",
    "        return \"risk\"\n",
    "    elif sectionheader.startswith('soc'): \n",
    "        return \"social history\"\n",
    "    elif sectionheader in ['ophthalmic history', 'ocular history', 'ocular hx', 'past ocular hx', 'past ocular history']: \n",
    "        return 'ocular history'\n",
    "    elif 'interpretation' in sectionheader: \n",
    "        return 'interpretation'\n",
    "    elif 'instruct' in sectionheader: \n",
    "        return 'instruction'\n",
    "    else: \n",
    "        return sectionheader "
   ]
  },
  {
   "cell_type": "code",
   "execution_count": null,
   "metadata": {},
   "outputs": [],
   "source": [
    "newsectionlist=set()\n",
    "for word in sectionlist: \n",
    "    newsectionlist.add(sectioncleanup(word))\n",
    "newsectionlist"
   ]
  },
  {
   "cell_type": "code",
   "execution_count": null,
   "metadata": {},
   "outputs": [],
   "source": [
    "#now let's add a section header clean \n",
    "dfsection[\"sectionclean\"]=dfsection[\"section\"].apply(sectioncleanup)"
   ]
  },
  {
   "cell_type": "code",
   "execution_count": null,
   "metadata": {},
   "outputs": [],
   "source": [
    "dfsection.head(20)"
   ]
  },
  {
   "cell_type": "markdown",
   "metadata": {},
   "source": [
    "## Process notes for CLAMP - one line per txt file"
   ]
  },
  {
   "cell_type": "code",
   "execution_count": null,
   "metadata": {},
   "outputs": [],
   "source": [
    "clampdfsection=dfsection[[\"note_deid\", 'sectionclean', 'text']]\n",
    "#we want to process this one row at a time so \n",
    "clampdfsection.reset_index(inplace=True, drop=True)\n",
    "clampdfsection.head()"
   ]
  },
  {
   "cell_type": "code",
   "execution_count": null,
   "metadata": {},
   "outputs": [],
   "source": [
    "len(clampdfsection)"
   ]
  },
  {
   "cell_type": "markdown",
   "metadata": {},
   "source": [
    "for name, group in clampdfsection.groupby(clampdfsection.index): \n",
    "    print(group.iloc[0][0])\n",
    "    print(group.iloc[0][1])\n",
    "    print(group.iloc[0][2])"
   ]
  },
  {
   "cell_type": "code",
   "execution_count": null,
   "metadata": {},
   "outputs": [],
   "source": [
    "for name, group in clampdfsection.groupby(clampdfsection.index):\n",
    "        group.to_csv(\"C:/Users/Sophia/Documents/ClampWin_1.6.1/workspace/MyPipeline/clamp-ner/Data/InputLowVa/\" +\n",
    "                     str(name)+'-'+str(group.iloc[0][0]) + '-' + str(group.iloc[0][1]) + '.txt', index=False, header=False)"
   ]
  },
  {
   "cell_type": "markdown",
   "metadata": {},
   "source": [
    "# Import CLAMP output and continue processing \n",
    "- this is a way to read in all the clamp output .txt files and combine them into one dataframe for later processing/input into DL models \n",
    "- will need to be updated for Haiwen's project most likely \n",
    "- Can also be modified to create jsonl files for import to Prodigy, I think. Or the XML files can be read instead, if easier to convert those to jsonl for Prodigy "
   ]
  },
  {
   "cell_type": "code",
   "execution_count": null,
   "metadata": {},
   "outputs": [],
   "source": [
    "\n",
    "#Column Headers\n",
    "#Start End Semantic CUI Assertion Entity\n",
    "#And add an note_deid and section column \n",
    "import glob \n",
    "import os \n",
    "import pandas as pd\n",
    "\n",
    "path = r'C:/Users/Sophia/Documents/ClampWin_1.6.1/workspace/MyPipeline/clamp-ner/Data/Output' # use your path\n",
    "all_files = glob.glob(path + \"/*.txt\")\n",
    "\n",
    "li = []\n",
    "\n",
    "for filename in all_files:\n",
    "    df = pd.read_csv(filename, sep = '\\t', index_col=None, header=0)\n",
    "    df['section'] = os.path.basename(filename).strip('.txt').translate(str.maketrans('', '', '0123456789-'))\n",
    "    df['note_deid'] = os.path.basename(filename).strip('.txt').translate(str.maketrans('', '', 'abcdefghijklmnopqrstuvwxyz'))#Put in a new column with the filename \n",
    "    df['note_deid']=df['note_deid'].str.split('-').str.get(1)\n",
    "    li.append(df)\n",
    "\n",
    "frame = pd.concat(li, axis=0, ignore_index=True)"
   ]
  },
  {
   "cell_type": "code",
   "execution_count": null,
   "metadata": {},
   "outputs": [],
   "source": [
    "frame.head(26)"
   ]
  },
  {
   "cell_type": "code",
   "execution_count": null,
   "metadata": {},
   "outputs": [],
   "source": [
    "frame[\"section\"]=frame[\"section\"].str.strip('.')"
   ]
  },
  {
   "cell_type": "code",
   "execution_count": null,
   "metadata": {},
   "outputs": [],
   "source": [
    "frame.to_csv(\"lowva-clampoutput.csv\", index=False)"
   ]
  },
  {
   "cell_type": "code",
   "execution_count": null,
   "metadata": {},
   "outputs": [],
   "source": [
    "#frame[\"note_deid\"]=pd.to_numeric(frame[\"note_deid\"]).astype(int)"
   ]
  },
  {
   "cell_type": "code",
   "execution_count": null,
   "metadata": {},
   "outputs": [],
   "source": []
  }
 ],
 "metadata": {
  "kernelspec": {
   "display_name": "Python 3",
   "language": "python",
   "name": "python3"
  },
  "language_info": {
   "codemirror_mode": {
    "name": "ipython",
    "version": 3
   },
   "file_extension": ".py",
   "mimetype": "text/x-python",
   "name": "python",
   "nbconvert_exporter": "python",
   "pygments_lexer": "ipython3",
   "version": "3.6.12"
  }
 },
 "nbformat": 4,
 "nbformat_minor": 2
}
