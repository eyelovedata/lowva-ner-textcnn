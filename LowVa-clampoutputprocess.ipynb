{
 "cells": [
  {
   "cell_type": "code",
   "execution_count": 1,
   "metadata": {},
   "outputs": [],
   "source": [
    "import pandas as pd\n",
    "import re \n",
    "import nltk \n",
    "import sqlite3\n",
    "import numpy as np\n",
    "import ast\n",
    "import string \n",
    "\n",
    "from IPython.core.interactiveshell import InteractiveShell\n",
    "InteractiveShell.ast_node_interactivity = \"all\""
   ]
  },
  {
   "cell_type": "code",
   "execution_count": 3,
   "metadata": {},
   "outputs": [],
   "source": [
    "conn = sqlite3.connect('lowva\\lowva.db')\n",
    "conn.text_factory = str\n",
    "cur = conn.cursor()\n",
    "\n",
    "dfcohort=pd.read_sql_query('''select outcome.pat_deid, note_deid, enc_date, lowvadate from outcome, notes where outcome.pat_deid=notes.pat_deid''', conn)\n",
    "dfcohort[\"lowvadate\"]=pd.to_datetime(dfcohort[\"lowvadate\"])\n",
    "dfcohort[\"enc_date\"]=pd.to_datetime(dfcohort[\"enc_date\"])"
   ]
  },
  {
   "cell_type": "code",
   "execution_count": 2,
   "metadata": {},
   "outputs": [],
   "source": [
    "dfterms=pd.read_csv(\"lowva/lowva-clampoutput.csv\")\n",
    "dfterms.columns = map(str.lower, dfterms.columns)\n",
    "dfterms=dfterms[[\"note_deid\",\"cui\", \"assertion\", \"section\"]]"
   ]
  },
  {
   "cell_type": "code",
   "execution_count": 3,
   "metadata": {},
   "outputs": [
    {
     "data": {
      "text/html": [
       "<div>\n",
       "<style scoped>\n",
       "    .dataframe tbody tr th:only-of-type {\n",
       "        vertical-align: middle;\n",
       "    }\n",
       "\n",
       "    .dataframe tbody tr th {\n",
       "        vertical-align: top;\n",
       "    }\n",
       "\n",
       "    .dataframe thead th {\n",
       "        text-align: right;\n",
       "    }\n",
       "</style>\n",
       "<table border=\"1\" class=\"dataframe\">\n",
       "  <thead>\n",
       "    <tr style=\"text-align: right;\">\n",
       "      <th></th>\n",
       "      <th>note_deid</th>\n",
       "      <th>cui</th>\n",
       "      <th>assertion</th>\n",
       "      <th>section</th>\n",
       "    </tr>\n",
       "  </thead>\n",
       "  <tbody>\n",
       "    <tr>\n",
       "      <th>0</th>\n",
       "      <td>28528746.0</td>\n",
       "      <td>C0154863</td>\n",
       "      <td>present</td>\n",
       "      <td>other</td>\n",
       "    </tr>\n",
       "    <tr>\n",
       "      <th>1</th>\n",
       "      <td>28528746.0</td>\n",
       "      <td>C0154830</td>\n",
       "      <td>present</td>\n",
       "      <td>plan</td>\n",
       "    </tr>\n",
       "    <tr>\n",
       "      <th>2</th>\n",
       "      <td>645212689.0</td>\n",
       "      <td>C0746467</td>\n",
       "      <td>present</td>\n",
       "      <td>current medications</td>\n",
       "    </tr>\n",
       "    <tr>\n",
       "      <th>3</th>\n",
       "      <td>645212689.0</td>\n",
       "      <td>C0003969</td>\n",
       "      <td>present</td>\n",
       "      <td>current medications</td>\n",
       "    </tr>\n",
       "    <tr>\n",
       "      <th>4</th>\n",
       "      <td>645212689.0</td>\n",
       "      <td>C0306488</td>\n",
       "      <td>present</td>\n",
       "      <td>current medications</td>\n",
       "    </tr>\n",
       "  </tbody>\n",
       "</table>\n",
       "</div>"
      ],
      "text/plain": [
       "     note_deid       cui assertion              section\n",
       "0   28528746.0  C0154863   present                other\n",
       "1   28528746.0  C0154830   present                 plan\n",
       "2  645212689.0  C0746467   present  current medications\n",
       "3  645212689.0  C0003969   present  current medications\n",
       "4  645212689.0  C0306488   present  current medications"
      ]
     },
     "execution_count": 3,
     "metadata": {},
     "output_type": "execute_result"
    }
   ],
   "source": [
    "dfterms.head()"
   ]
  },
  {
   "cell_type": "markdown",
   "metadata": {},
   "source": [
    "sectionlist=['allergy',\n",
    " 'ap',\n",
    " 'assessment',\n",
    " 'attestation',\n",
    " 'call',\n",
    " 'chief complaint',\n",
    " 'current medications',\n",
    " 'encounter diagnoses',\n",
    " 'exam',\n",
    " 'eye exam',\n",
    " 'eye medications',\n",
    " 'family history',\n",
    " 'findings',\n",
    " 'hpi',\n",
    " 'informed consent',\n",
    " 'instruction',\n",
    " 'interpretation',\n",
    " 'medications',\n",
    " 'ocular history',\n",
    " 'other',\n",
    " 'past surgical history',\n",
    " 'plan',\n",
    " 'pmh',\n",
    " 'problem list',\n",
    " 'risk',\n",
    " 'ros',\n",
    " 'sle',\n",
    " 'social history',\n",
    " 'visual acuity']"
   ]
  },
  {
   "cell_type": "code",
   "execution_count": 4,
   "metadata": {},
   "outputs": [],
   "source": [
    "#delete terms that are in these irrelevant sections\n",
    "dfterms=dfterms[~dfterms['section'].isin(['call', 'attestation', 'informed consent', 'instruction', 'risk', 'ros'])]"
   ]
  },
  {
   "cell_type": "markdown",
   "metadata": {},
   "source": [
    "## check which are the most common terms"
   ]
  },
  {
   "cell_type": "code",
   "execution_count": 40,
   "metadata": {},
   "outputs": [
    {
     "data": {
      "text/plain": [
       "C0582103    48224\n",
       "C0031809    23907\n",
       "C0042812    23852\n",
       "C0746467    23352\n",
       "C0013227    20934\n",
       "            ...  \n",
       "C0339505      630\n",
       "C0592218      630\n",
       "C3544111      626\n",
       "C1720208      624\n",
       "C0023901      623\n",
       "Name: counts, Length: 500, dtype: int64"
      ]
     },
     "execution_count": 40,
     "metadata": {},
     "output_type": "execute_result"
    }
   ],
   "source": [
    "#check which are the most common terms types \n",
    "pd.Series(dfterms[\"cui\"].value_counts(), name=\"counts\")[0:500]"
   ]
  },
  {
   "cell_type": "code",
   "execution_count": 50,
   "metadata": {},
   "outputs": [
    {
     "name": "stderr",
     "output_type": "stream",
     "text": [
      "C:\\Users\\Sophia\\Anaconda3\\lib\\site-packages\\IPython\\core\\interactiveshell.py:3263: DtypeWarning: Columns (9,10) have mixed types.Specify dtype option on import or set low_memory=False.\n",
      "  if (await self.run_code(code, result,  async_=asy)):\n"
     ]
    }
   ],
   "source": [
    "umls=pd.read_table('umls-2021AA-mrconso/MRCONSO.RRF', sep='|', encoding='latin-1', index_col=False, \n",
    "                   names=[\"cui\", \"lat\", \"ts\", \"lui\", \"stt\", \"sui\", \"ispref\", \"aui\", \"saui\", \"scui\", \"sdui\", \n",
    "                           \"sab\", \"tty\", \"code\", \"desc\", \"srl\", \"suppress\"], skiprows=1)[[\"cui\", \"lat\", \"desc\"]]"
   ]
  },
  {
   "cell_type": "code",
   "execution_count": 51,
   "metadata": {},
   "outputs": [
    {
     "data": {
      "text/html": [
       "<div>\n",
       "<style scoped>\n",
       "    .dataframe tbody tr th:only-of-type {\n",
       "        vertical-align: middle;\n",
       "    }\n",
       "\n",
       "    .dataframe tbody tr th {\n",
       "        vertical-align: top;\n",
       "    }\n",
       "\n",
       "    .dataframe thead th {\n",
       "        text-align: right;\n",
       "    }\n",
       "</style>\n",
       "<table border=\"1\" class=\"dataframe\">\n",
       "  <thead>\n",
       "    <tr style=\"text-align: right;\">\n",
       "      <th></th>\n",
       "      <th>lat</th>\n",
       "      <th>desc</th>\n",
       "    </tr>\n",
       "    <tr>\n",
       "      <th>cui</th>\n",
       "      <th></th>\n",
       "      <th></th>\n",
       "    </tr>\n",
       "  </thead>\n",
       "  <tbody>\n",
       "    <tr>\n",
       "      <th>C0000005</th>\n",
       "      <td>ENG</td>\n",
       "      <td>(131)I-MAA</td>\n",
       "    </tr>\n",
       "    <tr>\n",
       "      <th>C0000005</th>\n",
       "      <td>FRE</td>\n",
       "      <td>MacroagrÃ©gats d'albumine marquÃ©e Ã  l'iode 131</td>\n",
       "    </tr>\n",
       "    <tr>\n",
       "      <th>C0000005</th>\n",
       "      <td>FRE</td>\n",
       "      <td>MAA-I 131</td>\n",
       "    </tr>\n",
       "    <tr>\n",
       "      <th>C0000005</th>\n",
       "      <td>FRE</td>\n",
       "      <td>MacroagrÃ©gats d'albumine humaine marquÃ©e Ã  ...</td>\n",
       "    </tr>\n",
       "    <tr>\n",
       "      <th>C0000039</th>\n",
       "      <td>CZE</td>\n",
       "      <td>1,2-dipalmitoylfosfatidylcholin</td>\n",
       "    </tr>\n",
       "  </tbody>\n",
       "</table>\n",
       "</div>"
      ],
      "text/plain": [
       "          lat                                               desc\n",
       "cui                                                             \n",
       "C0000005  ENG                                         (131)I-MAA\n",
       "C0000005  FRE   MacroagrÃ©gats d'albumine marquÃ©e Ã  l'iode 131\n",
       "C0000005  FRE                                          MAA-I 131\n",
       "C0000005  FRE  MacroagrÃ©gats d'albumine humaine marquÃ©e Ã  ...\n",
       "C0000039  CZE                    1,2-dipalmitoylfosfatidylcholin"
      ]
     },
     "execution_count": 51,
     "metadata": {},
     "output_type": "execute_result"
    }
   ],
   "source": [
    "umls = umls.set_index(\"cui\")\n",
    "umls.head()"
   ]
  },
  {
   "cell_type": "code",
   "execution_count": 55,
   "metadata": {},
   "outputs": [
    {
     "data": {
      "text/html": [
       "<div>\n",
       "<style scoped>\n",
       "    .dataframe tbody tr th:only-of-type {\n",
       "        vertical-align: middle;\n",
       "    }\n",
       "\n",
       "    .dataframe tbody tr th {\n",
       "        vertical-align: top;\n",
       "    }\n",
       "\n",
       "    .dataframe thead th {\n",
       "        text-align: right;\n",
       "    }\n",
       "</style>\n",
       "<table border=\"1\" class=\"dataframe\">\n",
       "  <thead>\n",
       "    <tr style=\"text-align: right;\">\n",
       "      <th></th>\n",
       "      <th>lat</th>\n",
       "      <th>desc</th>\n",
       "    </tr>\n",
       "    <tr>\n",
       "      <th>cui</th>\n",
       "      <th></th>\n",
       "      <th></th>\n",
       "    </tr>\n",
       "  </thead>\n",
       "  <tbody>\n",
       "    <tr>\n",
       "      <th>C0000005</th>\n",
       "      <td>ENG</td>\n",
       "      <td>(131)i-maa</td>\n",
       "    </tr>\n",
       "    <tr>\n",
       "      <th>C0000039</th>\n",
       "      <td>ENG</td>\n",
       "      <td>1,2-dipalmitoylphosphatidylcholine</td>\n",
       "    </tr>\n",
       "    <tr>\n",
       "      <th>C0000039</th>\n",
       "      <td>ENG</td>\n",
       "      <td>1,2 dipalmitoylphosphatidylcholine</td>\n",
       "    </tr>\n",
       "    <tr>\n",
       "      <th>C0000039</th>\n",
       "      <td>ENG</td>\n",
       "      <td>1,2-dihexadecyl-sn-glycerophosphocholine</td>\n",
       "    </tr>\n",
       "    <tr>\n",
       "      <th>C0000039</th>\n",
       "      <td>ENG</td>\n",
       "      <td>1,2 dihexadecyl sn glycerophosphocholine</td>\n",
       "    </tr>\n",
       "  </tbody>\n",
       "</table>\n",
       "</div>"
      ],
      "text/plain": [
       "          lat                                      desc\n",
       "cui                                                    \n",
       "C0000005  ENG                                (131)i-maa\n",
       "C0000039  ENG        1,2-dipalmitoylphosphatidylcholine\n",
       "C0000039  ENG        1,2 dipalmitoylphosphatidylcholine\n",
       "C0000039  ENG  1,2-dihexadecyl-sn-glycerophosphocholine\n",
       "C0000039  ENG  1,2 dihexadecyl sn glycerophosphocholine"
      ]
     },
     "execution_count": 55,
     "metadata": {},
     "output_type": "execute_result"
    }
   ],
   "source": [
    "umls = umls[umls[\"lat\"]==\"ENG\"]\n",
    "umls[\"desc\"]=umls[\"desc\"].str.lower()\n",
    "umls=umls.drop_duplicates()\n",
    "umls.head()"
   ]
  },
  {
   "cell_type": "code",
   "execution_count": 58,
   "metadata": {},
   "outputs": [],
   "source": [
    "dftopcuis=pd.merge(pd.Series(dfterms[\"cui\"].value_counts()[0:500], name=\"counts\"), umls[\"desc\"], left_index=True, right_index=True, how=\"left\")"
   ]
  },
  {
   "cell_type": "code",
   "execution_count": 59,
   "metadata": {},
   "outputs": [],
   "source": [
    "dftopcuis=dftopcuis.reset_index()\n",
    "dftopcuis=dftopcuis.drop_duplicates([\"index\"])\n",
    "dftopcuis=dftopcuis.sort_values(by=\"counts\", ascending=False)"
   ]
  },
  {
   "cell_type": "code",
   "execution_count": 62,
   "metadata": {},
   "outputs": [],
   "source": [
    "dftopcuis.to_csv(\"lowva/lowva-clamptopcuis.csv\", index=False)"
   ]
  },
  {
   "cell_type": "markdown",
   "metadata": {},
   "source": [
    "# process terms for our cohort"
   ]
  },
  {
   "cell_type": "code",
   "execution_count": 15,
   "metadata": {},
   "outputs": [
    {
     "data": {
      "text/html": [
       "<div>\n",
       "<style scoped>\n",
       "    .dataframe tbody tr th:only-of-type {\n",
       "        vertical-align: middle;\n",
       "    }\n",
       "\n",
       "    .dataframe tbody tr th {\n",
       "        vertical-align: top;\n",
       "    }\n",
       "\n",
       "    .dataframe thead th {\n",
       "        text-align: right;\n",
       "    }\n",
       "</style>\n",
       "<table border=\"1\" class=\"dataframe\">\n",
       "  <thead>\n",
       "    <tr style=\"text-align: right;\">\n",
       "      <th></th>\n",
       "      <th>pat_deid</th>\n",
       "      <th>note_deid</th>\n",
       "      <th>enc_date</th>\n",
       "      <th>lowvadate</th>\n",
       "    </tr>\n",
       "  </thead>\n",
       "  <tbody>\n",
       "    <tr>\n",
       "      <th>0</th>\n",
       "      <td>1174</td>\n",
       "      <td>28528746.0</td>\n",
       "      <td>2009-01-12</td>\n",
       "      <td>2009-09-17</td>\n",
       "    </tr>\n",
       "    <tr>\n",
       "      <th>1</th>\n",
       "      <td>1174</td>\n",
       "      <td>28528751.0</td>\n",
       "      <td>2009-01-12</td>\n",
       "      <td>2009-09-17</td>\n",
       "    </tr>\n",
       "    <tr>\n",
       "      <th>6</th>\n",
       "      <td>2262</td>\n",
       "      <td>193611450.0</td>\n",
       "      <td>2012-05-10</td>\n",
       "      <td>2012-05-15</td>\n",
       "    </tr>\n",
       "    <tr>\n",
       "      <th>25</th>\n",
       "      <td>3178</td>\n",
       "      <td>227867100.0</td>\n",
       "      <td>2012-10-24</td>\n",
       "      <td>2016-11-11</td>\n",
       "    </tr>\n",
       "    <tr>\n",
       "      <th>26</th>\n",
       "      <td>3178</td>\n",
       "      <td>227870944.0</td>\n",
       "      <td>2012-10-24</td>\n",
       "      <td>2016-11-11</td>\n",
       "    </tr>\n",
       "  </tbody>\n",
       "</table>\n",
       "</div>"
      ],
      "text/plain": [
       "    pat_deid    note_deid   enc_date  lowvadate\n",
       "0       1174   28528746.0 2009-01-12 2009-09-17\n",
       "1       1174   28528751.0 2009-01-12 2009-09-17\n",
       "6       2262  193611450.0 2012-05-10 2012-05-15\n",
       "25      3178  227867100.0 2012-10-24 2016-11-11\n",
       "26      3178  227870944.0 2012-10-24 2016-11-11"
      ]
     },
     "execution_count": 15,
     "metadata": {},
     "output_type": "execute_result"
    }
   ],
   "source": [
    "dfcohort=dfcohort[dfcohort[\"enc_date\"]<dfcohort[\"lowvadate\"]]\n",
    "dfcohort.head()"
   ]
  },
  {
   "cell_type": "code",
   "execution_count": 16,
   "metadata": {},
   "outputs": [],
   "source": [
    "dfterms=pd.merge(dfcohort,dfterms,on='note_deid')[[\"pat_deid\", \"cui\", \"assertion\", \"section\"]]"
   ]
  },
  {
   "cell_type": "code",
   "execution_count": 17,
   "metadata": {},
   "outputs": [
    {
     "data": {
      "text/html": [
       "<div>\n",
       "<style scoped>\n",
       "    .dataframe tbody tr th:only-of-type {\n",
       "        vertical-align: middle;\n",
       "    }\n",
       "\n",
       "    .dataframe tbody tr th {\n",
       "        vertical-align: top;\n",
       "    }\n",
       "\n",
       "    .dataframe thead th {\n",
       "        text-align: right;\n",
       "    }\n",
       "</style>\n",
       "<table border=\"1\" class=\"dataframe\">\n",
       "  <thead>\n",
       "    <tr style=\"text-align: right;\">\n",
       "      <th></th>\n",
       "      <th>pat_deid</th>\n",
       "      <th>cui</th>\n",
       "      <th>assertion</th>\n",
       "      <th>section</th>\n",
       "      <th>fh</th>\n",
       "      <th>pivotvalue</th>\n",
       "    </tr>\n",
       "  </thead>\n",
       "  <tbody>\n",
       "    <tr>\n",
       "      <th>0</th>\n",
       "      <td>1174</td>\n",
       "      <td>C0154863</td>\n",
       "      <td>pos</td>\n",
       "      <td>other</td>\n",
       "      <td>pt</td>\n",
       "      <td>1</td>\n",
       "    </tr>\n",
       "    <tr>\n",
       "      <th>1</th>\n",
       "      <td>1174</td>\n",
       "      <td>C0154830</td>\n",
       "      <td>pos</td>\n",
       "      <td>plan</td>\n",
       "      <td>pt</td>\n",
       "      <td>1</td>\n",
       "    </tr>\n",
       "    <tr>\n",
       "      <th>2</th>\n",
       "      <td>1174</td>\n",
       "      <td>C0582103</td>\n",
       "      <td>pos</td>\n",
       "      <td>exam</td>\n",
       "      <td>pt</td>\n",
       "      <td>1</td>\n",
       "    </tr>\n",
       "    <tr>\n",
       "      <th>3</th>\n",
       "      <td>1174</td>\n",
       "      <td>C0021888</td>\n",
       "      <td>pos</td>\n",
       "      <td>exam</td>\n",
       "      <td>pt</td>\n",
       "      <td>1</td>\n",
       "    </tr>\n",
       "    <tr>\n",
       "      <th>4</th>\n",
       "      <td>1174</td>\n",
       "      <td>C0348014</td>\n",
       "      <td>pos</td>\n",
       "      <td>exam</td>\n",
       "      <td>pt</td>\n",
       "      <td>1</td>\n",
       "    </tr>\n",
       "  </tbody>\n",
       "</table>\n",
       "</div>"
      ],
      "text/plain": [
       "   pat_deid       cui assertion section  fh  pivotvalue\n",
       "0      1174  C0154863       pos   other  pt           1\n",
       "1      1174  C0154830       pos    plan  pt           1\n",
       "2      1174  C0582103       pos    exam  pt           1\n",
       "3      1174  C0021888       pos    exam  pt           1\n",
       "4      1174  C0348014       pos    exam  pt           1"
      ]
     },
     "execution_count": 17,
     "metadata": {},
     "output_type": "execute_result"
    }
   ],
   "source": [
    "dfterms.loc[dfterms.assertion == 'present', 'assertion'] = 'pos'\n",
    "dfterms.loc[dfterms.assertion == 'absent', 'assertion'] = 'neg'\n",
    "\n",
    "dfterms[\"fh\"]= 'pt'\n",
    "dfterms.loc[dfterms.section == 'family history', 'fh'] = 'f'\n",
    "\n",
    "dfterms['pivotvalue'] = 1\n",
    "\n",
    "dfterms.head()"
   ]
  },
  {
   "cell_type": "code",
   "execution_count": 19,
   "metadata": {},
   "outputs": [
    {
     "data": {
      "text/plain": [
       "Index(['C0000723pospt', 'C0000729pospt', 'C0000734negpt', 'C0000734pospt',\n",
       "       'C0000735pospt', 'C0000737negpt', 'C0000737pospt', 'C0000741pospt',\n",
       "       'C0000765pospt', 'C0000768negpt',\n",
       "       ...\n",
       "       'C4280600negpt', 'C4280600posf', 'C4280600pospt', 'C4280682pospt',\n",
       "       'C4280806pospt', 'C4280810pospt', 'C4280891pospt', 'C4280929pospt',\n",
       "       'C4280983pospt', 'C4281066pospt'],\n",
       "      dtype='object', length=31639)"
      ]
     },
     "execution_count": 19,
     "metadata": {},
     "output_type": "execute_result"
    }
   ],
   "source": [
    "dftermswide=dfterms.pivot_table(values='pivotvalue', index=['pat_deid'], columns=['cui', 'assertion', 'fh'], fill_value=0)\n",
    "\n",
    "dftermswide.columns = [''.join((char for char in str(col) if char.isalnum())).strip() for col in dftermswide.columns.values]\n",
    "dftermswide.columns"
   ]
  },
  {
   "cell_type": "code",
   "execution_count": 20,
   "metadata": {},
   "outputs": [
    {
     "data": {
      "text/plain": [
       "(3068, 1663)"
      ]
     },
     "execution_count": 20,
     "metadata": {},
     "output_type": "execute_result"
    }
   ],
   "source": [
    "from sklearn.feature_selection import VarianceThreshold\n",
    "selector=VarianceThreshold(.99 * (1 - .99))\n",
    "selector.fit_transform(np.array(dftermswide)).shape\n",
    "\n",
    "def variance_threshold_selector(data, threshold=0.5):\n",
    "    selector = VarianceThreshold(threshold)\n",
    "    selector.fit(data)\n",
    "    return data[data.columns[selector.get_support(indices=True)]]\n",
    "\n",
    "dftermsfiltered=variance_threshold_selector(dftermswide, .99 * (1 - .99))"
   ]
  },
  {
   "cell_type": "code",
   "execution_count": 21,
   "metadata": {},
   "outputs": [],
   "source": [
    "dftermsfiltered.reset_index(inplace=True)"
   ]
  },
  {
   "cell_type": "code",
   "execution_count": 22,
   "metadata": {},
   "outputs": [
    {
     "data": {
      "text/html": [
       "<div>\n",
       "<style scoped>\n",
       "    .dataframe tbody tr th:only-of-type {\n",
       "        vertical-align: middle;\n",
       "    }\n",
       "\n",
       "    .dataframe tbody tr th {\n",
       "        vertical-align: top;\n",
       "    }\n",
       "\n",
       "    .dataframe thead th {\n",
       "        text-align: right;\n",
       "    }\n",
       "</style>\n",
       "<table border=\"1\" class=\"dataframe\">\n",
       "  <thead>\n",
       "    <tr style=\"text-align: right;\">\n",
       "      <th></th>\n",
       "      <th>pat_deid</th>\n",
       "      <th>C0000970pospt</th>\n",
       "      <th>C0000981pospt</th>\n",
       "      <th>C0001367pospt</th>\n",
       "      <th>C0001425pospt</th>\n",
       "      <th>C0001645pospt</th>\n",
       "      <th>C0001807pospt</th>\n",
       "      <th>C0001863pospt</th>\n",
       "      <th>C0002418pospt</th>\n",
       "      <th>C0002475pospt</th>\n",
       "      <th>...</th>\n",
       "      <th>C4083748pospt</th>\n",
       "      <th>C4227446pospt</th>\n",
       "      <th>C4227990pospt</th>\n",
       "      <th>C4229480pospt</th>\n",
       "      <th>C4229663pospt</th>\n",
       "      <th>C4229741pospt</th>\n",
       "      <th>C4230069pospt</th>\n",
       "      <th>C4231531pospt</th>\n",
       "      <th>C4238961pospt</th>\n",
       "      <th>C4257080pospt</th>\n",
       "    </tr>\n",
       "  </thead>\n",
       "  <tbody>\n",
       "    <tr>\n",
       "      <th>0</th>\n",
       "      <td>1174</td>\n",
       "      <td>0</td>\n",
       "      <td>0</td>\n",
       "      <td>0</td>\n",
       "      <td>0</td>\n",
       "      <td>0</td>\n",
       "      <td>0</td>\n",
       "      <td>0</td>\n",
       "      <td>0</td>\n",
       "      <td>0</td>\n",
       "      <td>...</td>\n",
       "      <td>0</td>\n",
       "      <td>0</td>\n",
       "      <td>0</td>\n",
       "      <td>0</td>\n",
       "      <td>0</td>\n",
       "      <td>0</td>\n",
       "      <td>0</td>\n",
       "      <td>0</td>\n",
       "      <td>0</td>\n",
       "      <td>0</td>\n",
       "    </tr>\n",
       "    <tr>\n",
       "      <th>1</th>\n",
       "      <td>2262</td>\n",
       "      <td>0</td>\n",
       "      <td>0</td>\n",
       "      <td>0</td>\n",
       "      <td>0</td>\n",
       "      <td>0</td>\n",
       "      <td>0</td>\n",
       "      <td>0</td>\n",
       "      <td>0</td>\n",
       "      <td>0</td>\n",
       "      <td>...</td>\n",
       "      <td>0</td>\n",
       "      <td>0</td>\n",
       "      <td>0</td>\n",
       "      <td>0</td>\n",
       "      <td>0</td>\n",
       "      <td>0</td>\n",
       "      <td>0</td>\n",
       "      <td>0</td>\n",
       "      <td>0</td>\n",
       "      <td>0</td>\n",
       "    </tr>\n",
       "    <tr>\n",
       "      <th>2</th>\n",
       "      <td>3178</td>\n",
       "      <td>0</td>\n",
       "      <td>0</td>\n",
       "      <td>0</td>\n",
       "      <td>1</td>\n",
       "      <td>0</td>\n",
       "      <td>0</td>\n",
       "      <td>0</td>\n",
       "      <td>1</td>\n",
       "      <td>0</td>\n",
       "      <td>...</td>\n",
       "      <td>0</td>\n",
       "      <td>0</td>\n",
       "      <td>0</td>\n",
       "      <td>0</td>\n",
       "      <td>0</td>\n",
       "      <td>0</td>\n",
       "      <td>0</td>\n",
       "      <td>0</td>\n",
       "      <td>0</td>\n",
       "      <td>0</td>\n",
       "    </tr>\n",
       "    <tr>\n",
       "      <th>3</th>\n",
       "      <td>4062</td>\n",
       "      <td>0</td>\n",
       "      <td>0</td>\n",
       "      <td>0</td>\n",
       "      <td>0</td>\n",
       "      <td>0</td>\n",
       "      <td>0</td>\n",
       "      <td>0</td>\n",
       "      <td>0</td>\n",
       "      <td>0</td>\n",
       "      <td>...</td>\n",
       "      <td>0</td>\n",
       "      <td>0</td>\n",
       "      <td>0</td>\n",
       "      <td>0</td>\n",
       "      <td>0</td>\n",
       "      <td>0</td>\n",
       "      <td>0</td>\n",
       "      <td>0</td>\n",
       "      <td>0</td>\n",
       "      <td>0</td>\n",
       "    </tr>\n",
       "    <tr>\n",
       "      <th>4</th>\n",
       "      <td>6938</td>\n",
       "      <td>0</td>\n",
       "      <td>0</td>\n",
       "      <td>0</td>\n",
       "      <td>0</td>\n",
       "      <td>0</td>\n",
       "      <td>0</td>\n",
       "      <td>0</td>\n",
       "      <td>0</td>\n",
       "      <td>0</td>\n",
       "      <td>...</td>\n",
       "      <td>0</td>\n",
       "      <td>0</td>\n",
       "      <td>0</td>\n",
       "      <td>0</td>\n",
       "      <td>0</td>\n",
       "      <td>0</td>\n",
       "      <td>0</td>\n",
       "      <td>0</td>\n",
       "      <td>0</td>\n",
       "      <td>0</td>\n",
       "    </tr>\n",
       "  </tbody>\n",
       "</table>\n",
       "<p>5 rows × 1664 columns</p>\n",
       "</div>"
      ],
      "text/plain": [
       "   pat_deid  C0000970pospt  C0000981pospt  C0001367pospt  C0001425pospt  \\\n",
       "0      1174              0              0              0              0   \n",
       "1      2262              0              0              0              0   \n",
       "2      3178              0              0              0              1   \n",
       "3      4062              0              0              0              0   \n",
       "4      6938              0              0              0              0   \n",
       "\n",
       "   C0001645pospt  C0001807pospt  C0001863pospt  C0002418pospt  C0002475pospt  \\\n",
       "0              0              0              0              0              0   \n",
       "1              0              0              0              0              0   \n",
       "2              0              0              0              1              0   \n",
       "3              0              0              0              0              0   \n",
       "4              0              0              0              0              0   \n",
       "\n",
       "   ...  C4083748pospt  C4227446pospt  C4227990pospt  C4229480pospt  \\\n",
       "0  ...              0              0              0              0   \n",
       "1  ...              0              0              0              0   \n",
       "2  ...              0              0              0              0   \n",
       "3  ...              0              0              0              0   \n",
       "4  ...              0              0              0              0   \n",
       "\n",
       "   C4229663pospt  C4229741pospt  C4230069pospt  C4231531pospt  C4238961pospt  \\\n",
       "0              0              0              0              0              0   \n",
       "1              0              0              0              0              0   \n",
       "2              0              0              0              0              0   \n",
       "3              0              0              0              0              0   \n",
       "4              0              0              0              0              0   \n",
       "\n",
       "   C4257080pospt  \n",
       "0              0  \n",
       "1              0  \n",
       "2              0  \n",
       "3              0  \n",
       "4              0  \n",
       "\n",
       "[5 rows x 1664 columns]"
      ]
     },
     "execution_count": 22,
     "metadata": {},
     "output_type": "execute_result"
    }
   ],
   "source": [
    "dftermsfiltered.head()"
   ]
  },
  {
   "cell_type": "code",
   "execution_count": 23,
   "metadata": {},
   "outputs": [],
   "source": [
    "dftermsfiltered.to_csv('lowva/lowva-termsfeatures.csv', index=False)"
   ]
  },
  {
   "cell_type": "code",
   "execution_count": 24,
   "metadata": {},
   "outputs": [],
   "source": [
    "conn.close()"
   ]
  },
  {
   "cell_type": "code",
   "execution_count": null,
   "metadata": {},
   "outputs": [],
   "source": []
  }
 ],
 "metadata": {
  "kernelspec": {
   "display_name": "Python 3",
   "language": "python",
   "name": "python3"
  },
  "language_info": {
   "codemirror_mode": {
    "name": "ipython",
    "version": 3
   },
   "file_extension": ".py",
   "mimetype": "text/x-python",
   "name": "python",
   "nbconvert_exporter": "python",
   "pygments_lexer": "ipython3",
   "version": "3.6.12"
  }
 },
 "nbformat": 4,
 "nbformat_minor": 2
}
